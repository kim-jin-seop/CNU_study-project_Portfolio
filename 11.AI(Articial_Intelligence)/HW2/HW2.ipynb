{
 "cells": [
  {
   "cell_type": "markdown",
   "metadata": {},
   "source": [
    "### Pakege와 데이터 "
   ]
  },
  {
   "cell_type": "code",
   "execution_count": 1,
   "metadata": {},
   "outputs": [],
   "source": [
    "import numpy as np\n",
    "import pandas as pd\n",
    "import matplotlib.pyplot as plt\n",
    "%matplotlib inline"
   ]
  },
  {
   "cell_type": "code",
   "execution_count": 2,
   "metadata": {},
   "outputs": [
    {
     "data": {
      "text/html": [
       "<div>\n",
       "<style scoped>\n",
       "    .dataframe tbody tr th:only-of-type {\n",
       "        vertical-align: middle;\n",
       "    }\n",
       "\n",
       "    .dataframe tbody tr th {\n",
       "        vertical-align: top;\n",
       "    }\n",
       "\n",
       "    .dataframe thead th {\n",
       "        text-align: right;\n",
       "    }\n",
       "</style>\n",
       "<table border=\"1\" class=\"dataframe\">\n",
       "  <thead>\n",
       "    <tr style=\"text-align: right;\">\n",
       "      <th></th>\n",
       "      <th>Sex</th>\n",
       "      <th>Length</th>\n",
       "      <th>Diameter</th>\n",
       "      <th>Height</th>\n",
       "      <th>Whole weight</th>\n",
       "      <th>Shucked weight</th>\n",
       "      <th>Viscera weight</th>\n",
       "      <th>Shell weight</th>\n",
       "      <th>Rings</th>\n",
       "    </tr>\n",
       "  </thead>\n",
       "  <tbody>\n",
       "    <tr>\n",
       "      <th>0</th>\n",
       "      <td>M</td>\n",
       "      <td>0.455</td>\n",
       "      <td>0.365</td>\n",
       "      <td>0.095</td>\n",
       "      <td>0.5140</td>\n",
       "      <td>0.2245</td>\n",
       "      <td>0.1010</td>\n",
       "      <td>0.150</td>\n",
       "      <td>15</td>\n",
       "    </tr>\n",
       "    <tr>\n",
       "      <th>1</th>\n",
       "      <td>M</td>\n",
       "      <td>0.350</td>\n",
       "      <td>0.265</td>\n",
       "      <td>0.090</td>\n",
       "      <td>0.2255</td>\n",
       "      <td>0.0995</td>\n",
       "      <td>0.0485</td>\n",
       "      <td>0.070</td>\n",
       "      <td>7</td>\n",
       "    </tr>\n",
       "    <tr>\n",
       "      <th>2</th>\n",
       "      <td>F</td>\n",
       "      <td>0.530</td>\n",
       "      <td>0.420</td>\n",
       "      <td>0.135</td>\n",
       "      <td>0.6770</td>\n",
       "      <td>0.2565</td>\n",
       "      <td>0.1415</td>\n",
       "      <td>0.210</td>\n",
       "      <td>9</td>\n",
       "    </tr>\n",
       "    <tr>\n",
       "      <th>3</th>\n",
       "      <td>M</td>\n",
       "      <td>0.440</td>\n",
       "      <td>0.365</td>\n",
       "      <td>0.125</td>\n",
       "      <td>0.5160</td>\n",
       "      <td>0.2155</td>\n",
       "      <td>0.1140</td>\n",
       "      <td>0.155</td>\n",
       "      <td>10</td>\n",
       "    </tr>\n",
       "    <tr>\n",
       "      <th>4</th>\n",
       "      <td>I</td>\n",
       "      <td>0.330</td>\n",
       "      <td>0.255</td>\n",
       "      <td>0.080</td>\n",
       "      <td>0.2050</td>\n",
       "      <td>0.0895</td>\n",
       "      <td>0.0395</td>\n",
       "      <td>0.055</td>\n",
       "      <td>7</td>\n",
       "    </tr>\n",
       "  </tbody>\n",
       "</table>\n",
       "</div>"
      ],
      "text/plain": [
       "  Sex  Length  Diameter  Height  Whole weight  Shucked weight  Viscera weight  \\\n",
       "0   M   0.455     0.365   0.095        0.5140          0.2245          0.1010   \n",
       "1   M   0.350     0.265   0.090        0.2255          0.0995          0.0485   \n",
       "2   F   0.530     0.420   0.135        0.6770          0.2565          0.1415   \n",
       "3   M   0.440     0.365   0.125        0.5160          0.2155          0.1140   \n",
       "4   I   0.330     0.255   0.080        0.2050          0.0895          0.0395   \n",
       "\n",
       "   Shell weight  Rings  \n",
       "0         0.150     15  \n",
       "1         0.070      7  \n",
       "2         0.210      9  \n",
       "3         0.155     10  \n",
       "4         0.055      7  "
      ]
     },
     "execution_count": 2,
     "metadata": {},
     "output_type": "execute_result"
    }
   ],
   "source": [
    "df = pd.read_csv(\"data/abalone.csv\", names = ['Sex','Length','Diameter','Height','Whole weight','Shucked weight','Viscera weight','Shell weight','Rings'])\n",
    "df.head()"
   ]
  },
  {
   "cell_type": "markdown",
   "metadata": {},
   "source": [
    "# Sklearn 활용"
   ]
  },
  {
   "cell_type": "markdown",
   "metadata": {},
   "source": [
    "### Data를 train과 test로 분할"
   ]
  },
  {
   "cell_type": "code",
   "execution_count": 3,
   "metadata": {},
   "outputs": [],
   "source": [
    "data = np.array(df)\n",
    "nvar = data.shape[1]\n",
    "datax = data[:,1:nvar]\n",
    "datay = data[:,0]"
   ]
  },
  {
   "cell_type": "code",
   "execution_count": 4,
   "metadata": {},
   "outputs": [],
   "source": [
    "from sklearn.model_selection import train_test_split\n",
    "train_x, test_x, train_y, test_y = train_test_split(datax, datay, test_size=0.3, random_state=500)"
   ]
  },
  {
   "cell_type": "markdown",
   "metadata": {},
   "source": [
    "### 변수 정규화 실행"
   ]
  },
  {
   "cell_type": "code",
   "execution_count": 5,
   "metadata": {},
   "outputs": [],
   "source": [
    "from sklearn.preprocessing import MinMaxScaler\n",
    "scaler = MinMaxScaler()\n",
    "scaler.fit(train_x)\n",
    "train_x = scaler.transform(train_x)\n",
    "test_x = scaler.transform(test_x)"
   ]
  },
  {
   "cell_type": "markdown",
   "metadata": {},
   "source": [
    "### SKlearn을 이용해서 Classifier A 생성 후 예측"
   ]
  },
  {
   "cell_type": "code",
   "execution_count": 6,
   "metadata": {},
   "outputs": [
    {
     "data": {
      "text/plain": [
       "MLPClassifier(activation='relu', alpha=0.0001, batch_size='auto', beta_1=0.9,\n",
       "              beta_2=0.999, early_stopping=False, epsilon=1e-08,\n",
       "              hidden_layer_sizes=(1000, 1500, 2000, 1000),\n",
       "              learning_rate='constant', learning_rate_init=0.001, max_iter=200,\n",
       "              momentum=0.9, n_iter_no_change=10, nesterovs_momentum=True,\n",
       "              power_t=0.5, random_state=None, shuffle=True, solver='adam',\n",
       "              tol=0.0001, validation_fraction=0.1, verbose=False,\n",
       "              warm_start=False)"
      ]
     },
     "execution_count": 6,
     "metadata": {},
     "output_type": "execute_result"
    }
   ],
   "source": [
    "from sklearn.neural_network import MLPClassifier\n",
    "\n",
    "clf_a = MLPClassifier(hidden_layer_sizes=(1000,1500,2000,1000))\n",
    "clf_a.fit(train_x, train_y)"
   ]
  },
  {
   "cell_type": "code",
   "execution_count": 7,
   "metadata": {},
   "outputs": [],
   "source": [
    "predict_a = clf_a.predict(test_x)"
   ]
  },
  {
   "cell_type": "markdown",
   "metadata": {},
   "source": [
    "### sklearn을 활용한 Classifier의 accuracy"
   ]
  },
  {
   "cell_type": "code",
   "execution_count": 8,
   "metadata": {},
   "outputs": [
    {
     "data": {
      "text/plain": [
       "0.5486443381180224"
      ]
     },
     "execution_count": 8,
     "metadata": {},
     "output_type": "execute_result"
    }
   ],
   "source": [
    "from sklearn.metrics import accuracy_score\n",
    "accuracy_score(test_y, predict_a)"
   ]
  },
  {
   "cell_type": "markdown",
   "metadata": {},
   "source": [
    "# Keras 활용"
   ]
  },
  {
   "cell_type": "code",
   "execution_count": 9,
   "metadata": {},
   "outputs": [
    {
     "name": "stderr",
     "output_type": "stream",
     "text": [
      "C:\\Users\\KimJinSeop\\Anaconda3\\envs\\tensorflow\\lib\\site-packages\\tensorflow\\python\\framework\\dtypes.py:526: FutureWarning: Passing (type, 1) or '1type' as a synonym of type is deprecated; in a future version of numpy, it will be understood as (type, (1,)) / '(1,)type'.\n",
      "  _np_qint8 = np.dtype([(\"qint8\", np.int8, 1)])\n",
      "C:\\Users\\KimJinSeop\\Anaconda3\\envs\\tensorflow\\lib\\site-packages\\tensorflow\\python\\framework\\dtypes.py:527: FutureWarning: Passing (type, 1) or '1type' as a synonym of type is deprecated; in a future version of numpy, it will be understood as (type, (1,)) / '(1,)type'.\n",
      "  _np_quint8 = np.dtype([(\"quint8\", np.uint8, 1)])\n",
      "C:\\Users\\KimJinSeop\\Anaconda3\\envs\\tensorflow\\lib\\site-packages\\tensorflow\\python\\framework\\dtypes.py:528: FutureWarning: Passing (type, 1) or '1type' as a synonym of type is deprecated; in a future version of numpy, it will be understood as (type, (1,)) / '(1,)type'.\n",
      "  _np_qint16 = np.dtype([(\"qint16\", np.int16, 1)])\n",
      "C:\\Users\\KimJinSeop\\Anaconda3\\envs\\tensorflow\\lib\\site-packages\\tensorflow\\python\\framework\\dtypes.py:529: FutureWarning: Passing (type, 1) or '1type' as a synonym of type is deprecated; in a future version of numpy, it will be understood as (type, (1,)) / '(1,)type'.\n",
      "  _np_quint16 = np.dtype([(\"quint16\", np.uint16, 1)])\n",
      "C:\\Users\\KimJinSeop\\Anaconda3\\envs\\tensorflow\\lib\\site-packages\\tensorflow\\python\\framework\\dtypes.py:530: FutureWarning: Passing (type, 1) or '1type' as a synonym of type is deprecated; in a future version of numpy, it will be understood as (type, (1,)) / '(1,)type'.\n",
      "  _np_qint32 = np.dtype([(\"qint32\", np.int32, 1)])\n",
      "C:\\Users\\KimJinSeop\\Anaconda3\\envs\\tensorflow\\lib\\site-packages\\tensorflow\\python\\framework\\dtypes.py:535: FutureWarning: Passing (type, 1) or '1type' as a synonym of type is deprecated; in a future version of numpy, it will be understood as (type, (1,)) / '(1,)type'.\n",
      "  np_resource = np.dtype([(\"resource\", np.ubyte, 1)])\n",
      "Using TensorFlow backend.\n"
     ]
    }
   ],
   "source": [
    "import tensorflow as tf\n",
    "import keras\n",
    "from keras import layers, models, optimizers\n",
    "from keras.utils import to_categorical"
   ]
  },
  {
   "cell_type": "markdown",
   "metadata": {},
   "source": [
    "### 딥러닝을 위한 데이터 정제 One Hot Encoder 활용"
   ]
  },
  {
   "cell_type": "code",
   "execution_count": 10,
   "metadata": {},
   "outputs": [
    {
     "data": {
      "text/html": [
       "<div>\n",
       "<style scoped>\n",
       "    .dataframe tbody tr th:only-of-type {\n",
       "        vertical-align: middle;\n",
       "    }\n",
       "\n",
       "    .dataframe tbody tr th {\n",
       "        vertical-align: top;\n",
       "    }\n",
       "\n",
       "    .dataframe thead th {\n",
       "        text-align: right;\n",
       "    }\n",
       "</style>\n",
       "<table border=\"1\" class=\"dataframe\">\n",
       "  <thead>\n",
       "    <tr style=\"text-align: right;\">\n",
       "      <th></th>\n",
       "      <th>Sex_F</th>\n",
       "      <th>Sex_I</th>\n",
       "      <th>Sex_M</th>\n",
       "      <th>Length</th>\n",
       "      <th>Diameter</th>\n",
       "      <th>Height</th>\n",
       "      <th>Whole weight</th>\n",
       "      <th>Shucked weight</th>\n",
       "      <th>Viscera weight</th>\n",
       "      <th>Shell weight</th>\n",
       "      <th>Rings</th>\n",
       "    </tr>\n",
       "  </thead>\n",
       "  <tbody>\n",
       "    <tr>\n",
       "      <th>0</th>\n",
       "      <td>0.0</td>\n",
       "      <td>0.0</td>\n",
       "      <td>1.0</td>\n",
       "      <td>0.455</td>\n",
       "      <td>0.365</td>\n",
       "      <td>0.095</td>\n",
       "      <td>0.5140</td>\n",
       "      <td>0.2245</td>\n",
       "      <td>0.1010</td>\n",
       "      <td>0.150</td>\n",
       "      <td>15</td>\n",
       "    </tr>\n",
       "    <tr>\n",
       "      <th>1</th>\n",
       "      <td>0.0</td>\n",
       "      <td>0.0</td>\n",
       "      <td>1.0</td>\n",
       "      <td>0.350</td>\n",
       "      <td>0.265</td>\n",
       "      <td>0.090</td>\n",
       "      <td>0.2255</td>\n",
       "      <td>0.0995</td>\n",
       "      <td>0.0485</td>\n",
       "      <td>0.070</td>\n",
       "      <td>7</td>\n",
       "    </tr>\n",
       "    <tr>\n",
       "      <th>2</th>\n",
       "      <td>1.0</td>\n",
       "      <td>0.0</td>\n",
       "      <td>0.0</td>\n",
       "      <td>0.530</td>\n",
       "      <td>0.420</td>\n",
       "      <td>0.135</td>\n",
       "      <td>0.6770</td>\n",
       "      <td>0.2565</td>\n",
       "      <td>0.1415</td>\n",
       "      <td>0.210</td>\n",
       "      <td>9</td>\n",
       "    </tr>\n",
       "    <tr>\n",
       "      <th>3</th>\n",
       "      <td>0.0</td>\n",
       "      <td>0.0</td>\n",
       "      <td>1.0</td>\n",
       "      <td>0.440</td>\n",
       "      <td>0.365</td>\n",
       "      <td>0.125</td>\n",
       "      <td>0.5160</td>\n",
       "      <td>0.2155</td>\n",
       "      <td>0.1140</td>\n",
       "      <td>0.155</td>\n",
       "      <td>10</td>\n",
       "    </tr>\n",
       "    <tr>\n",
       "      <th>4</th>\n",
       "      <td>0.0</td>\n",
       "      <td>1.0</td>\n",
       "      <td>0.0</td>\n",
       "      <td>0.330</td>\n",
       "      <td>0.255</td>\n",
       "      <td>0.080</td>\n",
       "      <td>0.2050</td>\n",
       "      <td>0.0895</td>\n",
       "      <td>0.0395</td>\n",
       "      <td>0.055</td>\n",
       "      <td>7</td>\n",
       "    </tr>\n",
       "  </tbody>\n",
       "</table>\n",
       "</div>"
      ],
      "text/plain": [
       "   Sex_F  Sex_I  Sex_M  Length  Diameter  Height  Whole weight  \\\n",
       "0    0.0    0.0    1.0   0.455     0.365   0.095        0.5140   \n",
       "1    0.0    0.0    1.0   0.350     0.265   0.090        0.2255   \n",
       "2    1.0    0.0    0.0   0.530     0.420   0.135        0.6770   \n",
       "3    0.0    0.0    1.0   0.440     0.365   0.125        0.5160   \n",
       "4    0.0    1.0    0.0   0.330     0.255   0.080        0.2050   \n",
       "\n",
       "   Shucked weight  Viscera weight  Shell weight  Rings  \n",
       "0          0.2245          0.1010         0.150     15  \n",
       "1          0.0995          0.0485         0.070      7  \n",
       "2          0.2565          0.1415         0.210      9  \n",
       "3          0.2155          0.1140         0.155     10  \n",
       "4          0.0895          0.0395         0.055      7  "
      ]
     },
     "execution_count": 10,
     "metadata": {},
     "output_type": "execute_result"
    }
   ],
   "source": [
    "from sklearn.preprocessing import OneHotEncoder\n",
    "ohe = OneHotEncoder()\n",
    "X = ohe.fit_transform(df.Sex.values.reshape(-1,1)).toarray()\n",
    "dfOneHot = pd.DataFrame(X, columns = [\"Sex_F\",\"Sex_I\",\"Sex_M\"])\n",
    "df = pd.concat([dfOneHot,df],axis = 1)\n",
    "del df['Sex']\n",
    "df.head()"
   ]
  },
  {
   "cell_type": "markdown",
   "metadata": {},
   "source": [
    "### Data를 train과 test로 분할"
   ]
  },
  {
   "cell_type": "code",
   "execution_count": 11,
   "metadata": {},
   "outputs": [],
   "source": [
    "data = np.array(df)\n",
    "nvar = data.shape[1]\n",
    "datax = data[:,3:nvar]\n",
    "datay = data[:,0:3]"
   ]
  },
  {
   "cell_type": "code",
   "execution_count": 12,
   "metadata": {},
   "outputs": [],
   "source": [
    "from sklearn.model_selection import train_test_split\n",
    "train_x, test_x, train_y, test_y = train_test_split(datax, datay, test_size=0.3, random_state=500)"
   ]
  },
  {
   "cell_type": "markdown",
   "metadata": {},
   "source": [
    "### 변수 정규화 실행"
   ]
  },
  {
   "cell_type": "code",
   "execution_count": 13,
   "metadata": {},
   "outputs": [],
   "source": [
    "from sklearn.preprocessing import MinMaxScaler\n",
    "scaler = MinMaxScaler()\n",
    "scaler.fit(train_x)\n",
    "train_x = scaler.transform(train_x)\n",
    "test_x = scaler.transform(test_x)"
   ]
  },
  {
   "cell_type": "markdown",
   "metadata": {},
   "source": [
    "### Keras를 이용하여 Classifier B 생성"
   ]
  },
  {
   "cell_type": "code",
   "execution_count": 14,
   "metadata": {},
   "outputs": [
    {
     "name": "stdout",
     "output_type": "stream",
     "text": [
      "WARNING:tensorflow:From C:\\Users\\KimJinSeop\\Anaconda3\\envs\\tensorflow\\lib\\site-packages\\tensorflow\\python\\ops\\resource_variable_ops.py:435: colocate_with (from tensorflow.python.framework.ops) is deprecated and will be removed in a future version.\n",
      "Instructions for updating:\n",
      "Colocations handled automatically by placer.\n"
     ]
    }
   ],
   "source": [
    "input_shape = (8,)\n",
    "\n",
    "mlp_model = models.Sequential()\n",
    "mlp_model.add(layers.Dense(units = 1000, activation = 'relu', input_shape=input_shape))\n",
    "mlp_model.add(layers.Dense(units = 1500, activation = 'relu'))\n",
    "mlp_model.add(layers.Dense(units = 2000, activation = 'relu'))\n",
    "mlp_model.add(layers.Dense(units = 1000, activation = 'relu'))\n",
    "mlp_model.add(layers.Dense(units = 3, activation = 'softmax'))\n",
    "\n",
    "mlp_model.compile(optimizer='Adam', loss = 'categorical_crossentropy', metrics=['accuracy'])"
   ]
  },
  {
   "cell_type": "code",
   "execution_count": 15,
   "metadata": {},
   "outputs": [
    {
     "name": "stdout",
     "output_type": "stream",
     "text": [
      "Model: \"sequential_1\"\n",
      "_________________________________________________________________\n",
      "Layer (type)                 Output Shape              Param #   \n",
      "=================================================================\n",
      "dense_1 (Dense)              (None, 1000)              9000      \n",
      "_________________________________________________________________\n",
      "dense_2 (Dense)              (None, 1500)              1501500   \n",
      "_________________________________________________________________\n",
      "dense_3 (Dense)              (None, 2000)              3002000   \n",
      "_________________________________________________________________\n",
      "dense_4 (Dense)              (None, 1000)              2001000   \n",
      "_________________________________________________________________\n",
      "dense_5 (Dense)              (None, 3)                 3003      \n",
      "=================================================================\n",
      "Total params: 6,516,503\n",
      "Trainable params: 6,516,503\n",
      "Non-trainable params: 0\n",
      "_________________________________________________________________\n"
     ]
    }
   ],
   "source": [
    "mlp_model.summary()"
   ]
  },
  {
   "cell_type": "code",
   "execution_count": 16,
   "metadata": {},
   "outputs": [
    {
     "name": "stdout",
     "output_type": "stream",
     "text": [
      "WARNING:tensorflow:From C:\\Users\\KimJinSeop\\Anaconda3\\envs\\tensorflow\\lib\\site-packages\\tensorflow\\python\\ops\\math_ops.py:3066: to_int32 (from tensorflow.python.ops.math_ops) is deprecated and will be removed in a future version.\n",
      "Instructions for updating:\n",
      "Use tf.cast instead.\n",
      "Train on 2923 samples, validate on 1254 samples\n",
      "Epoch 1/50\n",
      "2923/2923 [==============================] - 3s 893us/step - loss: 1.0682 - accuracy: 0.3527 - val_loss: 0.9804 - val_accuracy: 0.5032\n",
      "Epoch 2/50\n",
      "2923/2923 [==============================] - 2s 807us/step - loss: 0.9495 - accuracy: 0.5125 - val_loss: 0.8932 - val_accuracy: 0.5383\n",
      "Epoch 3/50\n",
      "2923/2923 [==============================] - 2s 812us/step - loss: 0.9044 - accuracy: 0.5344 - val_loss: 0.8708 - val_accuracy: 0.5255\n",
      "Epoch 4/50\n",
      "2923/2923 [==============================] - 2s 810us/step - loss: 0.8784 - accuracy: 0.5197 - val_loss: 0.8658 - val_accuracy: 0.5431\n",
      "Epoch 5/50\n",
      "2923/2923 [==============================] - 2s 831us/step - loss: 0.8693 - accuracy: 0.5402 - val_loss: 0.8560 - val_accuracy: 0.5423\n",
      "Epoch 6/50\n",
      "2923/2923 [==============================] - 3s 903us/step - loss: 0.8634 - accuracy: 0.5450 - val_loss: 0.8510 - val_accuracy: 0.5423\n",
      "Epoch 7/50\n",
      "2923/2923 [==============================] - 3s 909us/step - loss: 0.8617 - accuracy: 0.5354 - val_loss: 0.8477 - val_accuracy: 0.5470\n",
      "Epoch 8/50\n",
      "2923/2923 [==============================] - 3s 912us/step - loss: 0.8573 - accuracy: 0.5440 - val_loss: 0.8483 - val_accuracy: 0.5415\n",
      "Epoch 9/50\n",
      "2923/2923 [==============================] - 3s 898us/step - loss: 0.8522 - accuracy: 0.5436 - val_loss: 0.8405 - val_accuracy: 0.5407\n",
      "Epoch 10/50\n",
      "2923/2923 [==============================] - 3s 910us/step - loss: 0.8474 - accuracy: 0.5488 - val_loss: 0.8401 - val_accuracy: 0.5463\n",
      "Epoch 11/50\n",
      "2923/2923 [==============================] - 3s 889us/step - loss: 0.8462 - accuracy: 0.5604 - val_loss: 0.8443 - val_accuracy: 0.5439\n",
      "Epoch 12/50\n",
      "2923/2923 [==============================] - 3s 920us/step - loss: 0.8451 - accuracy: 0.5467 - val_loss: 0.8379 - val_accuracy: 0.5391\n",
      "Epoch 13/50\n",
      "2923/2923 [==============================] - 3s 914us/step - loss: 0.8421 - accuracy: 0.5542 - val_loss: 0.8355 - val_accuracy: 0.5415\n",
      "Epoch 14/50\n",
      "2923/2923 [==============================] - 3s 908us/step - loss: 0.8404 - accuracy: 0.5525 - val_loss: 0.8395 - val_accuracy: 0.5494\n",
      "Epoch 15/50\n",
      "2923/2923 [==============================] - 3s 903us/step - loss: 0.8408 - accuracy: 0.5553 - val_loss: 0.8512 - val_accuracy: 0.5279\n",
      "Epoch 16/50\n",
      "2923/2923 [==============================] - 3s 895us/step - loss: 0.8532 - accuracy: 0.5542 - val_loss: 0.8768 - val_accuracy: 0.5263\n",
      "Epoch 17/50\n",
      "2923/2923 [==============================] - 3s 907us/step - loss: 0.8497 - accuracy: 0.5563 - val_loss: 0.8450 - val_accuracy: 0.5367\n",
      "Epoch 18/50\n",
      "2923/2923 [==============================] - 3s 936us/step - loss: 0.8380 - accuracy: 0.5597 - val_loss: 0.8320 - val_accuracy: 0.5423\n",
      "Epoch 19/50\n",
      "2923/2923 [==============================] - 3s 918us/step - loss: 0.8369 - accuracy: 0.5546 - val_loss: 0.8412 - val_accuracy: 0.5383\n",
      "Epoch 20/50\n",
      "2923/2923 [==============================] - 3s 923us/step - loss: 0.8348 - accuracy: 0.5546 - val_loss: 0.8280 - val_accuracy: 0.5478\n",
      "Epoch 21/50\n",
      "2923/2923 [==============================] - 3s 934us/step - loss: 0.8318 - accuracy: 0.5648 - val_loss: 0.8266 - val_accuracy: 0.5526\n",
      "Epoch 22/50\n",
      "2923/2923 [==============================] - 3s 920us/step - loss: 0.8317 - accuracy: 0.5566 - val_loss: 0.8340 - val_accuracy: 0.5502\n",
      "Epoch 23/50\n",
      "2923/2923 [==============================] - 3s 988us/step - loss: 0.8354 - accuracy: 0.5529 - val_loss: 0.8343 - val_accuracy: 0.5510\n",
      "Epoch 24/50\n",
      "2923/2923 [==============================] - 3s 947us/step - loss: 0.8408 - accuracy: 0.5600 - val_loss: 0.8397 - val_accuracy: 0.5510\n",
      "Epoch 25/50\n",
      "2923/2923 [==============================] - 3s 1ms/step - loss: 0.8359 - accuracy: 0.5624 - val_loss: 0.8265 - val_accuracy: 0.5582\n",
      "Epoch 26/50\n",
      "2923/2923 [==============================] - 3s 1ms/step - loss: 0.8272 - accuracy: 0.5648 - val_loss: 0.8324 - val_accuracy: 0.5383\n",
      "Epoch 27/50\n",
      "2923/2923 [==============================] - 3s 1ms/step - loss: 0.8257 - accuracy: 0.5590 - val_loss: 0.8320 - val_accuracy: 0.5558\n",
      "Epoch 28/50\n",
      "2923/2923 [==============================] - 3s 944us/step - loss: 0.8261 - accuracy: 0.5710 - val_loss: 0.8317 - val_accuracy: 0.5534\n",
      "Epoch 29/50\n",
      "2923/2923 [==============================] - 3s 897us/step - loss: 0.8243 - accuracy: 0.5741 - val_loss: 0.8358 - val_accuracy: 0.5455\n",
      "Epoch 30/50\n",
      "2923/2923 [==============================] - 3s 895us/step - loss: 0.8227 - accuracy: 0.5655 - val_loss: 0.8226 - val_accuracy: 0.5550\n",
      "Epoch 31/50\n",
      "2923/2923 [==============================] - 3s 890us/step - loss: 0.8216 - accuracy: 0.5645 - val_loss: 0.8316 - val_accuracy: 0.5478\n",
      "Epoch 32/50\n",
      "2923/2923 [==============================] - 3s 901us/step - loss: 0.8224 - accuracy: 0.5720 - val_loss: 0.8188 - val_accuracy: 0.5558\n",
      "Epoch 33/50\n",
      "2923/2923 [==============================] - 3s 907us/step - loss: 0.8424 - accuracy: 0.5689 - val_loss: 0.8307 - val_accuracy: 0.5614\n",
      "Epoch 34/50\n",
      "2923/2923 [==============================] - 3s 904us/step - loss: 0.8238 - accuracy: 0.5737 - val_loss: 0.8261 - val_accuracy: 0.5614\n",
      "Epoch 35/50\n",
      "2923/2923 [==============================] - 3s 902us/step - loss: 0.8231 - accuracy: 0.5706 - val_loss: 0.8418 - val_accuracy: 0.5510\n",
      "Epoch 36/50\n",
      "2923/2923 [==============================] - 3s 898us/step - loss: 0.8321 - accuracy: 0.5669 - val_loss: 0.8255 - val_accuracy: 0.5550\n",
      "Epoch 37/50\n",
      "2923/2923 [==============================] - 3s 901us/step - loss: 0.8250 - accuracy: 0.5570 - val_loss: 0.8368 - val_accuracy: 0.5455\n",
      "Epoch 38/50\n",
      "2923/2923 [==============================] - 3s 895us/step - loss: 0.8204 - accuracy: 0.5713 - val_loss: 0.8203 - val_accuracy: 0.5534\n",
      "Epoch 39/50\n",
      "2923/2923 [==============================] - 3s 893us/step - loss: 0.8174 - accuracy: 0.5737 - val_loss: 0.8273 - val_accuracy: 0.5526\n",
      "Epoch 40/50\n",
      "2923/2923 [==============================] - 3s 908us/step - loss: 0.8193 - accuracy: 0.5758 - val_loss: 0.8189 - val_accuracy: 0.5510\n",
      "Epoch 41/50\n",
      "2923/2923 [==============================] - 3s 902us/step - loss: 0.8204 - accuracy: 0.5730 - val_loss: 0.8289 - val_accuracy: 0.5494\n",
      "Epoch 42/50\n",
      "2923/2923 [==============================] - 3s 895us/step - loss: 0.8234 - accuracy: 0.5737 - val_loss: 0.8334 - val_accuracy: 0.5678\n",
      "Epoch 43/50\n",
      "2923/2923 [==============================] - 3s 896us/step - loss: 0.8249 - accuracy: 0.5720 - val_loss: 0.8298 - val_accuracy: 0.5526\n",
      "Epoch 44/50\n",
      "2923/2923 [==============================] - 3s 906us/step - loss: 0.8175 - accuracy: 0.5830 - val_loss: 0.8277 - val_accuracy: 0.5638\n",
      "Epoch 45/50\n",
      "2923/2923 [==============================] - 3s 932us/step - loss: 0.8210 - accuracy: 0.5806 - val_loss: 0.8226 - val_accuracy: 0.5710\n",
      "Epoch 46/50\n",
      "2923/2923 [==============================] - 3s 903us/step - loss: 0.8137 - accuracy: 0.5795 - val_loss: 0.8275 - val_accuracy: 0.5494\n",
      "Epoch 47/50\n",
      "2923/2923 [==============================] - 3s 898us/step - loss: 0.8158 - accuracy: 0.5771 - val_loss: 0.8263 - val_accuracy: 0.5678\n",
      "Epoch 48/50\n",
      "2923/2923 [==============================] - 3s 899us/step - loss: 0.8145 - accuracy: 0.5717 - val_loss: 0.8329 - val_accuracy: 0.5463\n",
      "Epoch 49/50\n",
      "2923/2923 [==============================] - 3s 896us/step - loss: 0.8087 - accuracy: 0.5792 - val_loss: 0.8218 - val_accuracy: 0.5638\n",
      "Epoch 50/50\n",
      "2923/2923 [==============================] - 3s 928us/step - loss: 0.8148 - accuracy: 0.5689 - val_loss: 0.8370 - val_accuracy: 0.5718\n"
     ]
    }
   ],
   "source": [
    "history = mlp_model.fit(train_x, train_y, validation_data = [test_x, test_y], batch_size=512, epochs=50)"
   ]
  }
 ],
 "metadata": {
  "kernelspec": {
   "display_name": "Python 3",
   "language": "python",
   "name": "python3"
  },
  "language_info": {
   "codemirror_mode": {
    "name": "ipython",
    "version": 3
   },
   "file_extension": ".py",
   "mimetype": "text/x-python",
   "name": "python",
   "nbconvert_exporter": "python",
   "pygments_lexer": "ipython3",
   "version": "3.6.7"
  }
 },
 "nbformat": 4,
 "nbformat_minor": 2
}
