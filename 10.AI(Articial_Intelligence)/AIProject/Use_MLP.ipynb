{
 "cells": [
  {
   "cell_type": "code",
   "execution_count": 1,
   "metadata": {},
   "outputs": [],
   "source": [
    "import numpy as np\n",
    "import pandas as pd\n",
    "import matplotlib.pyplot as plt\n",
    "import seaborn as sn\n",
    "%matplotlib inline"
   ]
  },
  {
   "cell_type": "code",
   "execution_count": 2,
   "metadata": {},
   "outputs": [
    {
     "data": {
      "text/html": [
       "<div>\n",
       "<style scoped>\n",
       "    .dataframe tbody tr th:only-of-type {\n",
       "        vertical-align: middle;\n",
       "    }\n",
       "\n",
       "    .dataframe tbody tr th {\n",
       "        vertical-align: top;\n",
       "    }\n",
       "\n",
       "    .dataframe thead th {\n",
       "        text-align: right;\n",
       "    }\n",
       "</style>\n",
       "<table border=\"1\" class=\"dataframe\">\n",
       "  <thead>\n",
       "    <tr style=\"text-align: right;\">\n",
       "      <th></th>\n",
       "      <th>Bad</th>\n",
       "      <th>badCd</th>\n",
       "      <th>ptGroupNm</th>\n",
       "      <th>qabDscr</th>\n",
       "      <th>Year</th>\n",
       "      <th>Female</th>\n",
       "      <th>Edu</th>\n",
       "      <th>Skill</th>\n",
       "      <th>Hand</th>\n",
       "      <th>NumberofYear</th>\n",
       "      <th>Married</th>\n",
       "      <th>Chiled</th>\n",
       "      <th>Pregnancy</th>\n",
       "      <th>CommutingTime</th>\n",
       "      <th>Payment</th>\n",
       "      <th>Height</th>\n",
       "      <th>Weight</th>\n",
       "      <th>DutyHours</th>\n",
       "      <th>OverTimeWork</th>\n",
       "    </tr>\n",
       "  </thead>\n",
       "  <tbody>\n",
       "    <tr>\n",
       "      <th>0</th>\n",
       "      <td>1</td>\n",
       "      <td>C0112</td>\n",
       "      <td>MAIN</td>\n",
       "      <td>피복밀림</td>\n",
       "      <td>33.0</td>\n",
       "      <td>1.0</td>\n",
       "      <td>1.0</td>\n",
       "      <td>2.0</td>\n",
       "      <td>1.0</td>\n",
       "      <td>5.0</td>\n",
       "      <td>1.0</td>\n",
       "      <td>1.0</td>\n",
       "      <td>0.0</td>\n",
       "      <td>0.0</td>\n",
       "      <td>5315000.0</td>\n",
       "      <td>155.0</td>\n",
       "      <td>45.0</td>\n",
       "      <td>0.0</td>\n",
       "      <td>0.0</td>\n",
       "    </tr>\n",
       "    <tr>\n",
       "      <th>1</th>\n",
       "      <td>0</td>\n",
       "      <td>C0112</td>\n",
       "      <td>MAIN</td>\n",
       "      <td>피복밀림</td>\n",
       "      <td>36.0</td>\n",
       "      <td>1.0</td>\n",
       "      <td>1.0</td>\n",
       "      <td>2.0</td>\n",
       "      <td>1.0</td>\n",
       "      <td>5.0</td>\n",
       "      <td>1.0</td>\n",
       "      <td>1.0</td>\n",
       "      <td>0.0</td>\n",
       "      <td>0.0</td>\n",
       "      <td>4164000.0</td>\n",
       "      <td>153.0</td>\n",
       "      <td>56.0</td>\n",
       "      <td>216.0</td>\n",
       "      <td>0.0</td>\n",
       "    </tr>\n",
       "    <tr>\n",
       "      <th>2</th>\n",
       "      <td>0</td>\n",
       "      <td>C0112</td>\n",
       "      <td>MAIN</td>\n",
       "      <td>피복밀림</td>\n",
       "      <td>35.0</td>\n",
       "      <td>1.0</td>\n",
       "      <td>1.0</td>\n",
       "      <td>2.0</td>\n",
       "      <td>1.0</td>\n",
       "      <td>5.0</td>\n",
       "      <td>1.0</td>\n",
       "      <td>1.0</td>\n",
       "      <td>0.0</td>\n",
       "      <td>0.0</td>\n",
       "      <td>4821000.0</td>\n",
       "      <td>151.0</td>\n",
       "      <td>46.0</td>\n",
       "      <td>226.5</td>\n",
       "      <td>0.0</td>\n",
       "    </tr>\n",
       "    <tr>\n",
       "      <th>3</th>\n",
       "      <td>0</td>\n",
       "      <td>C0112</td>\n",
       "      <td>MAIN</td>\n",
       "      <td>피복밀림</td>\n",
       "      <td>33.0</td>\n",
       "      <td>1.0</td>\n",
       "      <td>1.0</td>\n",
       "      <td>2.0</td>\n",
       "      <td>1.0</td>\n",
       "      <td>5.0</td>\n",
       "      <td>1.0</td>\n",
       "      <td>1.0</td>\n",
       "      <td>0.0</td>\n",
       "      <td>0.0</td>\n",
       "      <td>5315000.0</td>\n",
       "      <td>155.0</td>\n",
       "      <td>45.0</td>\n",
       "      <td>0.0</td>\n",
       "      <td>0.0</td>\n",
       "    </tr>\n",
       "    <tr>\n",
       "      <th>4</th>\n",
       "      <td>0</td>\n",
       "      <td>C0112</td>\n",
       "      <td>MAIN</td>\n",
       "      <td>피복밀림</td>\n",
       "      <td>36.0</td>\n",
       "      <td>1.0</td>\n",
       "      <td>1.0</td>\n",
       "      <td>2.0</td>\n",
       "      <td>1.0</td>\n",
       "      <td>5.0</td>\n",
       "      <td>1.0</td>\n",
       "      <td>1.0</td>\n",
       "      <td>0.0</td>\n",
       "      <td>0.0</td>\n",
       "      <td>4821000.0</td>\n",
       "      <td>150.0</td>\n",
       "      <td>45.0</td>\n",
       "      <td>224.0</td>\n",
       "      <td>0.0</td>\n",
       "    </tr>\n",
       "  </tbody>\n",
       "</table>\n",
       "</div>"
      ],
      "text/plain": [
       "   Bad  badCd ptGroupNm qabDscr  Year  Female  Edu  Skill  Hand  NumberofYear  \\\n",
       "0    1  C0112      MAIN    피복밀림  33.0     1.0  1.0    2.0   1.0           5.0   \n",
       "1    0  C0112      MAIN    피복밀림  36.0     1.0  1.0    2.0   1.0           5.0   \n",
       "2    0  C0112      MAIN    피복밀림  35.0     1.0  1.0    2.0   1.0           5.0   \n",
       "3    0  C0112      MAIN    피복밀림  33.0     1.0  1.0    2.0   1.0           5.0   \n",
       "4    0  C0112      MAIN    피복밀림  36.0     1.0  1.0    2.0   1.0           5.0   \n",
       "\n",
       "   Married  Chiled  Pregnancy  CommutingTime    Payment  Height  Weight  \\\n",
       "0      1.0     1.0        0.0            0.0  5315000.0   155.0    45.0   \n",
       "1      1.0     1.0        0.0            0.0  4164000.0   153.0    56.0   \n",
       "2      1.0     1.0        0.0            0.0  4821000.0   151.0    46.0   \n",
       "3      1.0     1.0        0.0            0.0  5315000.0   155.0    45.0   \n",
       "4      1.0     1.0        0.0            0.0  4821000.0   150.0    45.0   \n",
       "\n",
       "   DutyHours  OverTimeWork  \n",
       "0        0.0           0.0  \n",
       "1      216.0           0.0  \n",
       "2      226.5           0.0  \n",
       "3        0.0           0.0  \n",
       "4      224.0           0.0  "
      ]
     },
     "execution_count": 2,
     "metadata": {},
     "output_type": "execute_result"
    }
   ],
   "source": [
    "df = pd.read_csv('./data/process_data.csv')\n",
    "df.head()"
   ]
  },
  {
   "cell_type": "code",
   "execution_count": 3,
   "metadata": {},
   "outputs": [],
   "source": [
    "del df['badCd']\n",
    "del df['ptGroupNm']\n",
    "del df['qabDscr']\n",
    "\n",
    "data = np.array(df)\n",
    "nvar = data.shape[1]\n",
    "datax = data[:,1:nvar]\n",
    "datay = data[:,0]"
   ]
  },
  {
   "cell_type": "code",
   "execution_count": 4,
   "metadata": {},
   "outputs": [],
   "source": [
    "from sklearn.model_selection import train_test_split\n",
    "train_x, test_x, train_y, test_y = train_test_split(datax, datay, test_size=0.3, random_state=500)"
   ]
  },
  {
   "cell_type": "code",
   "execution_count": 5,
   "metadata": {},
   "outputs": [],
   "source": [
    "from sklearn.preprocessing import MinMaxScaler\n",
    "scaler = MinMaxScaler()\n",
    "scaler.fit(train_x)\n",
    "train_x = scaler.transform(train_x)\n",
    "test_x = scaler.transform(test_x)"
   ]
  },
  {
   "cell_type": "markdown",
   "metadata": {},
   "source": [
    "## SMOTE를 사용하지 않고, MLP를 쓰는 경우"
   ]
  },
  {
   "cell_type": "code",
   "execution_count": 6,
   "metadata": {},
   "outputs": [],
   "source": [
    "from sklearn.neural_network import MLPClassifier\n",
    "clf = MLPClassifier(hidden_layer_sizes=(100,200,300,100))\n",
    "clf.fit(train_x, train_y)\n",
    "predict = clf.predict(test_x)"
   ]
  },
  {
   "cell_type": "code",
   "execution_count": 7,
   "metadata": {},
   "outputs": [
    {
     "name": "stdout",
     "output_type": "stream",
     "text": [
      "[[9920    0]\n",
      " [ 360    0]]\n"
     ]
    },
    {
     "data": {
      "image/png": "[encoded data removed]",
      "text/plain": [
       "<Figure size 432x288 with 2 Axes>"
      ]
     },
     "metadata": {},
     "output_type": "display_data"
    }
   ],
   "source": [
    "from sklearn.metrics import confusion_matrix\n",
    "\n",
    "array = confusion_matrix(test_y, predict)\n",
    "array = [[array[1][1],array[1][0]],[array[0][1],array[0][0]]]\n",
    "array = np.array(array)\n",
    "df_cm = pd.DataFrame(array,['Bad','Good'],['Bad','Good'])\n",
    "sn.set(font_scale=1.4)\n",
    "sn.heatmap(df_cm, annot=True,annot_kws={\"size\": 16},fmt = 'd')\n",
    "plt.show()"
   ]
  },
  {
   "cell_type": "markdown",
   "metadata": {},
   "source": [
    "## 아무것도 사용하지 않은 경우"
   ]
  },
  {
   "cell_type": "code",
   "execution_count": 9,
   "metadata": {},
   "outputs": [
    {
     "name": "stdout",
     "output_type": "stream",
     "text": [
      "After OverSampling, the shape of train_x: (46342, 15)\n",
      "After OverSampling, the shape of train_y: (46342,) \n",
      "\n",
      "After OverSampling, counts of label '1': 23171\n",
      "After OverSampling, counts of label '0': 23171\n"
     ]
    }
   ],
   "source": [
    "from sklearn.datasets import make_classification\n",
    "from sklearn.decomposition import PCA\n",
    "from imblearn.over_sampling import SMOTE\n",
    "\n",
    "# 모델설정 ratio='auto', kind='regular'\n",
    "sm = SMOTE(random_state=42)\n",
    "\n",
    "# train데이터를 넣어 복제함\n",
    "train_x, train_y = sm.fit_sample(train_x,train_y)\n",
    "\n",
    "print('After OverSampling, the shape of train_x: {}'.format(train_x.shape))\n",
    "print('After OverSampling, the shape of train_y: {} \\n'.format(train_y.shape))\n",
    "\n",
    "print(\"After OverSampling, counts of label '1': {}\".format(sum(train_y==1)))\n",
    "print(\"After OverSampling, counts of label '0': {}\".format(sum(train_y==0)))"
   ]
  },
  {
   "cell_type": "code",
   "execution_count": 10,
   "metadata": {},
   "outputs": [],
   "source": [
    "from sklearn.neural_network import MLPClassifier\n",
    "clf = MLPClassifier(hidden_layer_sizes=(100,200,300,100))\n",
    "clf.fit(train_x, train_y)\n",
    "predict = clf.predict(test_x)"
   ]
  },
  {
   "cell_type": "code",
   "execution_count": 11,
   "metadata": {},
   "outputs": [
    {
     "name": "stdout",
     "output_type": "stream",
     "text": [
      "[[7901 2019]\n",
      " [ 172  188]]\n"
     ]
    },
    {
     "data": {
      "image/png": "[encoded data removed]",
      "text/plain": [
       "<Figure size 432x288 with 2 Axes>"
      ]
     },
     "metadata": {},
     "output_type": "display_data"
    }
   ],
   "source": [
    "from sklearn.metrics import confusion_matrix\n",
    "\n",
    "array = confusion_matrix(test_y, predict)\n",
    "array = [[array[1][1],array[1][0]],[array[0][1],array[0][0]]]\n",
    "array = np.array(array)\n",
    "df_cm = pd.DataFrame(array,['Bad','Good'],['Bad','Good'])\n",
    "sn.set(font_scale=1.4)\n",
    "sn.heatmap(df_cm, annot=True,annot_kws={\"size\": 16},fmt = 'd')\n",
    "plt.show()"
   ]
  },
  {
   "cell_type": "code",
   "execution_count": 12,
   "metadata": {},
   "outputs": [
    {
     "name": "stdout",
     "output_type": "stream",
     "text": [
      "Confusion Matrix 분석\n",
      "\n",
      "Accuracy =  0.7868677042801556\n",
      "Sensitivity =  0.7964717741935484\n",
      "Specificity =  0.5222222222222223\n",
      "Precision =  0.9786944134770221\n"
     ]
    }
   ],
   "source": [
    "TP = array[0][0]\n",
    "FN = array[0][1]\n",
    "FP = array[1][0]\n",
    "TN = array[1][1]\n",
    "\n",
    "acc1 = (TP+TN)/(TP+TN+FP+FN)\n",
    "sen1 = TP/(TP+FN)\n",
    "pre1 = TP/(TP+FP)\n",
    "print('Confusion Matrix 분석\\n')\n",
    "print('Accuracy = ', acc1)\n",
    "print('Sensitivity = ', sen1)\n",
    "print('False Alarm = ', pre1)"
   ]
  },
  {
   "cell_type": "code",
   "execution_count": null,
   "metadata": {},
   "outputs": [],
   "source": [
    "import sklearn.metrics as metrics\n",
    "# calculate the fpr and tpr for all thresholds of the classification\n",
    "probs = clf.predict_proba(test_x)\n",
    "preds = probs[:,1]\n",
    "fpr, tpr, threshold = metrics.roc_curve(test_y, preds)\n",
    "roc_auc = metrics.auc(fpr, tpr)\n",
    "\n",
    "# method I: plt\n",
    "import matplotlib.pyplot as plt\n",
    "plt.title('Receiver Operating Characteristic')\n",
    "plt.plot(fpr, tpr, 'b', label = 'AUC = %0.2f' % roc_auc)\n",
    "plt.legend(loc = 'lower right')\n",
    "plt.plot([0, 1], [0, 1],'r--')\n",
    "plt.xlim([0, 1])\n",
    "plt.ylim([0, 1])\n",
    "plt.ylabel('True Positive Rate')\n",
    "plt.xlabel('False Positive Rate')\n",
    "plt.show()"
   ]
  },
  {
   "cell_type": "markdown",
   "metadata": {},
   "source": [
    "## 로지스틱 회귀분석을 통한 p-Value만 고려하여 사용한 경우"
   ]
  },
  {
   "cell_type": "code",
   "execution_count": 13,
   "metadata": {},
   "outputs": [
    {
     "data": {
      "text/plain": [
       "Index(['Bad', 'Year', 'Female', 'Edu', 'Skill', 'Hand', 'NumberofYear',\n",
       "       'Married', 'Chiled', 'Pregnancy', 'CommutingTime', 'Payment', 'Height',\n",
       "       'Weight', 'DutyHours', 'OverTimeWork'],\n",
       "      dtype='object')"
      ]
     },
     "execution_count": 13,
     "metadata": {},
     "output_type": "execute_result"
    }
   ],
   "source": [
    "df.columns"
   ]
  },
  {
   "cell_type": "code",
   "execution_count": 14,
   "metadata": {},
   "outputs": [
    {
     "name": "stderr",
     "output_type": "stream",
     "text": [
      "C:\\Users\\KimJinSeop\\Anaconda3\\lib\\site-packages\\numpy\\core\\fromnumeric.py:2389: FutureWarning: Method .ptp is deprecated and will be removed in a future version. Use numpy.ptp instead.\n",
      "  return ptp(axis=axis, out=out, **kwargs)\n"
     ]
    },
    {
     "data": {
      "text/html": [
       "<table class=\"simpletable\">\n",
       "<caption>OLS Regression Results</caption>\n",
       "<tr>\n",
       "  <th>Dep. Variable:</th>            <td>y</td>        <th>  R-squared:         </th>  <td>   0.008</td> \n",
       "</tr>\n",
       "<tr>\n",
       "  <th>Model:</th>                   <td>OLS</td>       <th>  Adj. R-squared:    </th>  <td>   0.008</td> \n",
       "</tr>\n",
       "<tr>\n",
       "  <th>Method:</th>             <td>Least Squares</td>  <th>  F-statistic:       </th>  <td>   18.46</td> \n",
       "</tr>\n",
       "<tr>\n",
       "  <th>Date:</th>             <td>Fri, 29 Nov 2019</td> <th>  Prob (F-statistic):</th>  <td>5.69e-50</td> \n",
       "</tr>\n",
       "<tr>\n",
       "  <th>Time:</th>                 <td>01:34:39</td>     <th>  Log-Likelihood:    </th>  <td>  9902.1</td> \n",
       "</tr>\n",
       "<tr>\n",
       "  <th>No. Observations:</th>      <td> 34266</td>      <th>  AIC:               </th> <td>-1.977e+04</td>\n",
       "</tr>\n",
       "<tr>\n",
       "  <th>Df Residuals:</th>          <td> 34250</td>      <th>  BIC:               </th> <td>-1.964e+04</td>\n",
       "</tr>\n",
       "<tr>\n",
       "  <th>Df Model:</th>              <td>    15</td>      <th>                     </th>      <td> </td>    \n",
       "</tr>\n",
       "<tr>\n",
       "  <th>Covariance Type:</th>      <td>nonrobust</td>    <th>                     </th>      <td> </td>    \n",
       "</tr>\n",
       "</table>\n",
       "<table class=\"simpletable\">\n",
       "<tr>\n",
       "        <td></td>           <th>coef</th>     <th>std err</th>      <th>t</th>      <th>P>|t|</th>  <th>[0.025</th>    <th>0.975]</th>  \n",
       "</tr>\n",
       "<tr>\n",
       "  <th>const</th>         <td>    0.2688</td> <td>    0.110</td> <td>    2.455</td> <td> 0.014</td> <td>    0.054</td> <td>    0.483</td>\n",
       "</tr>\n",
       "<tr>\n",
       "  <th>Year</th>          <td>    0.0010</td> <td>    0.000</td> <td>    3.904</td> <td> 0.000</td> <td>    0.001</td> <td>    0.002</td>\n",
       "</tr>\n",
       "<tr>\n",
       "  <th>Female</th>        <td>   -0.2784</td> <td>    0.105</td> <td>   -2.653</td> <td> 0.008</td> <td>   -0.484</td> <td>   -0.073</td>\n",
       "</tr>\n",
       "<tr>\n",
       "  <th>Edu</th>           <td>    0.0013</td> <td>    0.002</td> <td>    0.510</td> <td> 0.610</td> <td>   -0.004</td> <td>    0.006</td>\n",
       "</tr>\n",
       "<tr>\n",
       "  <th>Skill</th>         <td>    0.0150</td> <td>    0.005</td> <td>    3.214</td> <td> 0.001</td> <td>    0.006</td> <td>    0.024</td>\n",
       "</tr>\n",
       "<tr>\n",
       "  <th>Hand</th>          <td>   -0.0036</td> <td>    0.007</td> <td>   -0.489</td> <td> 0.625</td> <td>   -0.018</td> <td>    0.011</td>\n",
       "</tr>\n",
       "<tr>\n",
       "  <th>NumberofYear</th>  <td>   -0.0065</td> <td>    0.002</td> <td>   -3.073</td> <td> 0.002</td> <td>   -0.011</td> <td>   -0.002</td>\n",
       "</tr>\n",
       "<tr>\n",
       "  <th>Married</th>       <td>   -0.0223</td> <td>    0.006</td> <td>   -3.961</td> <td> 0.000</td> <td>   -0.033</td> <td>   -0.011</td>\n",
       "</tr>\n",
       "<tr>\n",
       "  <th>Chiled</th>        <td>    0.0251</td> <td>    0.004</td> <td>    6.295</td> <td> 0.000</td> <td>    0.017</td> <td>    0.033</td>\n",
       "</tr>\n",
       "<tr>\n",
       "  <th>Pregnancy</th>     <td>    0.0217</td> <td>    0.006</td> <td>    3.843</td> <td> 0.000</td> <td>    0.011</td> <td>    0.033</td>\n",
       "</tr>\n",
       "<tr>\n",
       "  <th>CommutingTime</th> <td>    0.0652</td> <td>    0.005</td> <td>   11.925</td> <td> 0.000</td> <td>    0.054</td> <td>    0.076</td>\n",
       "</tr>\n",
       "<tr>\n",
       "  <th>Payment</th>       <td>  -3.9e-09</td> <td> 2.95e-09</td> <td>   -1.323</td> <td> 0.186</td> <td>-9.68e-09</td> <td> 1.88e-09</td>\n",
       "</tr>\n",
       "<tr>\n",
       "  <th>Height</th>        <td>   -0.0002</td> <td>    0.000</td> <td>   -1.721</td> <td> 0.085</td> <td>   -0.001</td> <td> 3.45e-05</td>\n",
       "</tr>\n",
       "<tr>\n",
       "  <th>Weight</th>        <td>    0.0012</td> <td>    0.000</td> <td>    5.667</td> <td> 0.000</td> <td>    0.001</td> <td>    0.002</td>\n",
       "</tr>\n",
       "<tr>\n",
       "  <th>DutyHours</th>     <td> 1.946e-05</td> <td> 2.74e-05</td> <td>    0.710</td> <td> 0.477</td> <td>-3.42e-05</td> <td> 7.31e-05</td>\n",
       "</tr>\n",
       "<tr>\n",
       "  <th>OverTimeWork</th>  <td>   -0.0080</td> <td>    0.002</td> <td>   -3.362</td> <td> 0.001</td> <td>   -0.013</td> <td>   -0.003</td>\n",
       "</tr>\n",
       "</table>\n",
       "<table class=\"simpletable\">\n",
       "<tr>\n",
       "  <th>Omnibus:</th>       <td>33210.220</td> <th>  Durbin-Watson:     </th>  <td>   1.334</td> \n",
       "</tr>\n",
       "<tr>\n",
       "  <th>Prob(Omnibus):</th>  <td> 0.000</td>   <th>  Jarque-Bera (JB):  </th> <td>960350.771</td>\n",
       "</tr>\n",
       "<tr>\n",
       "  <th>Skew:</th>           <td> 5.062</td>   <th>  Prob(JB):          </th>  <td>    0.00</td> \n",
       "</tr>\n",
       "<tr>\n",
       "  <th>Kurtosis:</th>       <td>26.877</td>   <th>  Cond. No.          </th>  <td>6.48e+08</td> \n",
       "</tr>\n",
       "</table><br/><br/>Warnings:<br/>[1] Standard Errors assume that the covariance matrix of the errors is correctly specified.<br/>[2] The condition number is large, 6.48e+08. This might indicate that there are<br/>strong multicollinearity or other numerical problems."
      ],
      "text/plain": [
       "<class 'statsmodels.iolib.summary.Summary'>\n",
       "\"\"\"\n",
       "                            OLS Regression Results                            \n",
       "==============================================================================\n",
       "Dep. Variable:                      y   R-squared:                       0.008\n",
       "Model:                            OLS   Adj. R-squared:                  0.008\n",
       "Method:                 Least Squares   F-statistic:                     18.46\n",
       "Date:                Fri, 29 Nov 2019   Prob (F-statistic):           5.69e-50\n",
       "Time:                        01:34:39   Log-Likelihood:                 9902.1\n",
       "No. Observations:               34266   AIC:                        -1.977e+04\n",
       "Df Residuals:                   34250   BIC:                        -1.964e+04\n",
       "Df Model:                          15                                         \n",
       "Covariance Type:            nonrobust                                         \n",
       "=================================================================================\n",
       "                    coef    std err          t      P>|t|      [0.025      0.975]\n",
       "---------------------------------------------------------------------------------\n",
       "const             0.2688      0.110      2.455      0.014       0.054       0.483\n",
       "Year              0.0010      0.000      3.904      0.000       0.001       0.002\n",
       "Female           -0.2784      0.105     -2.653      0.008      -0.484      -0.073\n",
       "Edu               0.0013      0.002      0.510      0.610      -0.004       0.006\n",
       "Skill             0.0150      0.005      3.214      0.001       0.006       0.024\n",
       "Hand             -0.0036      0.007     -0.489      0.625      -0.018       0.011\n",
       "NumberofYear     -0.0065      0.002     -3.073      0.002      -0.011      -0.002\n",
       "Married          -0.0223      0.006     -3.961      0.000      -0.033      -0.011\n",
       "Chiled            0.0251      0.004      6.295      0.000       0.017       0.033\n",
       "Pregnancy         0.0217      0.006      3.843      0.000       0.011       0.033\n",
       "CommutingTime     0.0652      0.005     11.925      0.000       0.054       0.076\n",
       "Payment         -3.9e-09   2.95e-09     -1.323      0.186   -9.68e-09    1.88e-09\n",
       "Height           -0.0002      0.000     -1.721      0.085      -0.001    3.45e-05\n",
       "Weight            0.0012      0.000      5.667      0.000       0.001       0.002\n",
       "DutyHours      1.946e-05   2.74e-05      0.710      0.477   -3.42e-05    7.31e-05\n",
       "OverTimeWork     -0.0080      0.002     -3.362      0.001      -0.013      -0.003\n",
       "==============================================================================\n",
       "Omnibus:                    33210.220   Durbin-Watson:                   1.334\n",
       "Prob(Omnibus):                  0.000   Jarque-Bera (JB):           960350.771\n",
       "Skew:                           5.062   Prob(JB):                         0.00\n",
       "Kurtosis:                      26.877   Cond. No.                     6.48e+08\n",
       "==============================================================================\n",
       "\n",
       "Warnings:\n",
       "[1] Standard Errors assume that the covariance matrix of the errors is correctly specified.\n",
       "[2] The condition number is large, 6.48e+08. This might indicate that there are\n",
       "strong multicollinearity or other numerical problems.\n",
       "\"\"\""
      ]
     },
     "execution_count": 14,
     "metadata": {},
     "output_type": "execute_result"
    }
   ],
   "source": [
    "import statsmodels.api as sm\n",
    "x = df[['Year', 'Female', 'Edu', 'Skill', 'Hand', 'NumberofYear',\n",
    "       'Married', 'Chiled', 'Pregnancy', 'CommutingTime', 'Payment', 'Height',\n",
    "       'Weight', 'DutyHours', 'OverTimeWork']]\n",
    "x2 = sm.add_constant(x)\n",
    "model = sm.OLS(datay,x2)\n",
    "result = model.fit()\n",
    "result.summary()"
   ]
  },
  {
   "cell_type": "code",
   "execution_count": 15,
   "metadata": {},
   "outputs": [
    {
     "name": "stdout",
     "output_type": "stream",
     "text": [
      "'Year','Female','Skill','NumberofYear','Married','Chiled','Pregnancy','CommutingTime','Weight','OverTimeWork',\n"
     ]
    }
   ],
   "source": [
    "index = 0\n",
    "columes = \"\"\n",
    "for pval in result.pvalues:\n",
    "    if(index == 0):\n",
    "        index = index + 1\n",
    "        continue\n",
    "    if(pval < 0.05):\n",
    "        columes = columes + \"'\"+ x.columns[index-1] + \"',\"\n",
    "    index = index + 1\n",
    "print(columes)"
   ]
  },
  {
   "cell_type": "code",
   "execution_count": 16,
   "metadata": {},
   "outputs": [
    {
     "data": {
      "text/html": [
       "<div>\n",
       "<style scoped>\n",
       "    .dataframe tbody tr th:only-of-type {\n",
       "        vertical-align: middle;\n",
       "    }\n",
       "\n",
       "    .dataframe tbody tr th {\n",
       "        vertical-align: top;\n",
       "    }\n",
       "\n",
       "    .dataframe thead th {\n",
       "        text-align: right;\n",
       "    }\n",
       "</style>\n",
       "<table border=\"1\" class=\"dataframe\">\n",
       "  <thead>\n",
       "    <tr style=\"text-align: right;\">\n",
       "      <th></th>\n",
       "      <th>Bad</th>\n",
       "      <th>Year</th>\n",
       "      <th>Female</th>\n",
       "      <th>Skill</th>\n",
       "      <th>NumberofYear</th>\n",
       "      <th>Married</th>\n",
       "      <th>Chiled</th>\n",
       "      <th>Pregnancy</th>\n",
       "      <th>CommutingTime</th>\n",
       "      <th>Weight</th>\n",
       "      <th>OverTimeWork</th>\n",
       "    </tr>\n",
       "  </thead>\n",
       "  <tbody>\n",
       "    <tr>\n",
       "      <th>0</th>\n",
       "      <td>1</td>\n",
       "      <td>33.0</td>\n",
       "      <td>1.0</td>\n",
       "      <td>2.0</td>\n",
       "      <td>5.0</td>\n",
       "      <td>1.0</td>\n",
       "      <td>1.0</td>\n",
       "      <td>0.0</td>\n",
       "      <td>0.0</td>\n",
       "      <td>45.0</td>\n",
       "      <td>0.0</td>\n",
       "    </tr>\n",
       "    <tr>\n",
       "      <th>1</th>\n",
       "      <td>0</td>\n",
       "      <td>36.0</td>\n",
       "      <td>1.0</td>\n",
       "      <td>2.0</td>\n",
       "      <td>5.0</td>\n",
       "      <td>1.0</td>\n",
       "      <td>1.0</td>\n",
       "      <td>0.0</td>\n",
       "      <td>0.0</td>\n",
       "      <td>56.0</td>\n",
       "      <td>0.0</td>\n",
       "    </tr>\n",
       "    <tr>\n",
       "      <th>2</th>\n",
       "      <td>0</td>\n",
       "      <td>35.0</td>\n",
       "      <td>1.0</td>\n",
       "      <td>2.0</td>\n",
       "      <td>5.0</td>\n",
       "      <td>1.0</td>\n",
       "      <td>1.0</td>\n",
       "      <td>0.0</td>\n",
       "      <td>0.0</td>\n",
       "      <td>46.0</td>\n",
       "      <td>0.0</td>\n",
       "    </tr>\n",
       "    <tr>\n",
       "      <th>3</th>\n",
       "      <td>0</td>\n",
       "      <td>33.0</td>\n",
       "      <td>1.0</td>\n",
       "      <td>2.0</td>\n",
       "      <td>5.0</td>\n",
       "      <td>1.0</td>\n",
       "      <td>1.0</td>\n",
       "      <td>0.0</td>\n",
       "      <td>0.0</td>\n",
       "      <td>45.0</td>\n",
       "      <td>0.0</td>\n",
       "    </tr>\n",
       "    <tr>\n",
       "      <th>4</th>\n",
       "      <td>0</td>\n",
       "      <td>36.0</td>\n",
       "      <td>1.0</td>\n",
       "      <td>2.0</td>\n",
       "      <td>5.0</td>\n",
       "      <td>1.0</td>\n",
       "      <td>1.0</td>\n",
       "      <td>0.0</td>\n",
       "      <td>0.0</td>\n",
       "      <td>45.0</td>\n",
       "      <td>0.0</td>\n",
       "    </tr>\n",
       "  </tbody>\n",
       "</table>\n",
       "</div>"
      ],
      "text/plain": [
       "   Bad  Year  Female  Skill  NumberofYear  Married  Chiled  Pregnancy  \\\n",
       "0    1  33.0     1.0    2.0           5.0      1.0     1.0        0.0   \n",
       "1    0  36.0     1.0    2.0           5.0      1.0     1.0        0.0   \n",
       "2    0  35.0     1.0    2.0           5.0      1.0     1.0        0.0   \n",
       "3    0  33.0     1.0    2.0           5.0      1.0     1.0        0.0   \n",
       "4    0  36.0     1.0    2.0           5.0      1.0     1.0        0.0   \n",
       "\n",
       "   CommutingTime  Weight  OverTimeWork  \n",
       "0            0.0    45.0           0.0  \n",
       "1            0.0    56.0           0.0  \n",
       "2            0.0    46.0           0.0  \n",
       "3            0.0    45.0           0.0  \n",
       "4            0.0    45.0           0.0  "
      ]
     },
     "execution_count": 16,
     "metadata": {},
     "output_type": "execute_result"
    }
   ],
   "source": [
    "da = df[['Bad','Year','Female','Skill','NumberofYear','Married','Chiled','Pregnancy','CommutingTime','Weight','OverTimeWork']]\n",
    "da.head()"
   ]
  },
  {
   "cell_type": "code",
   "execution_count": 17,
   "metadata": {},
   "outputs": [],
   "source": [
    "data = np.array(da)\n",
    "nvar = data.shape[1]\n",
    "datax = data[:,1:nvar]\n",
    "datay = data[:,0]"
   ]
  },
  {
   "cell_type": "code",
   "execution_count": 18,
   "metadata": {},
   "outputs": [],
   "source": [
    "from sklearn.model_selection import train_test_split\n",
    "train_x, test_x, train_y, test_y = train_test_split(datax, datay, test_size=0.3, random_state=500)"
   ]
  },
  {
   "cell_type": "code",
   "execution_count": 19,
   "metadata": {},
   "outputs": [],
   "source": [
    "from sklearn.preprocessing import MinMaxScaler\n",
    "scaler = MinMaxScaler()\n",
    "scaler.fit(train_x)\n",
    "train_x = scaler.transform(train_x)\n",
    "test_x = scaler.transform(test_x)"
   ]
  },
  {
   "cell_type": "code",
   "execution_count": 20,
   "metadata": {},
   "outputs": [
    {
     "name": "stdout",
     "output_type": "stream",
     "text": [
      "After OverSampling, the shape of train_x: (46342, 10)\n",
      "After OverSampling, the shape of train_y: (46342,) \n",
      "\n",
      "After OverSampling, counts of label '1': 23171\n",
      "After OverSampling, counts of label '0': 23171\n"
     ]
    }
   ],
   "source": [
    "from sklearn.datasets import make_classification\n",
    "from sklearn.decomposition import PCA\n",
    "from imblearn.over_sampling import SMOTE\n",
    "\n",
    "# 모델설정 ratio='auto', kind='regular'\n",
    "sm = SMOTE(random_state=42)\n",
    "\n",
    "# train데이터를 넣어 복제함\n",
    "train_x, train_y = sm.fit_sample(train_x,train_y)\n",
    "\n",
    "print('After OverSampling, the shape of train_x: {}'.format(train_x.shape))\n",
    "print('After OverSampling, the shape of train_y: {} \\n'.format(train_y.shape))\n",
    "\n",
    "print(\"After OverSampling, counts of label '1': {}\".format(sum(train_y==1)))\n",
    "print(\"After OverSampling, counts of label '0': {}\".format(sum(train_y==0)))"
   ]
  },
  {
   "cell_type": "code",
   "execution_count": 21,
   "metadata": {},
   "outputs": [],
   "source": [
    "from sklearn.neural_network import MLPClassifier\n",
    "clf = MLPClassifier(hidden_layer_sizes=(100,200,300,100))\n",
    "clf.fit(train_x, train_y)\n",
    "predict = clf.predict(test_x)"
   ]
  },
  {
   "cell_type": "code",
   "execution_count": 22,
   "metadata": {},
   "outputs": [
    {
     "name": "stdout",
     "output_type": "stream",
     "text": [
      "[[7492 2428]\n",
      " [ 164  196]]\n"
     ]
    },
    {
     "data": {
      "image/png": "[encoded data removed]",
      "text/plain": [
       "<Figure size 432x288 with 2 Axes>"
      ]
     },
     "metadata": {},
     "output_type": "display_data"
    }
   ],
   "source": [
    "from sklearn.metrics import confusion_matrix\n",
    "\n",
    "array = confusion_matrix(test_y, predict)\n",
    "array = [[array[1][1],array[1][0]],[array[0][1],array[0][0]]]\n",
    "array = np.array(array)\n",
    "df_cm = pd.DataFrame(array,['Bad','Good'],['Bad','Good'])\n",
    "sn.set(font_scale=1.4)\n",
    "sn.heatmap(df_cm, annot=True,annot_kws={\"size\": 16},fmt = 'd')\n",
    "plt.show()"
   ]
  },
  {
   "cell_type": "code",
   "execution_count": 23,
   "metadata": {},
   "outputs": [
    {
     "name": "stdout",
     "output_type": "stream",
     "text": [
      "Confusion Matrix 분석\n",
      "\n",
      "Accuracy =  0.7478599221789883\n",
      "Sensitivity =  0.755241935483871\n",
      "Specificity =  0.5444444444444444\n",
      "Precision =  0.9785788923719958\n"
     ]
    }
   ],
   "source": [
    "TP = array[0][0]\n",
    "FN = array[0][1]\n",
    "FP = array[1][0]\n",
    "TN = array[1][1]\n",
    "acc2 = (TP+TN)/(TP+TN+FP+FN)\n",
    "sen2 = TP/(TP+FN)\n",
    "pre2 = TP/(TP+FP)\n",
    "print('Confusion Matrix 분석\\n')\n",
    "print('Accuracy = ', acc2)\n",
    "print('Sensitivity = ', sen2)\n",
    "print('Precision = ', pre2)"
   ]
  },
  {
   "cell_type": "code",
   "execution_count": null,
   "metadata": {},
   "outputs": [],
   "source": [
    "import sklearn.metrics as metrics\n",
    "# calculate the fpr and tpr for all thresholds of the classification\n",
    "probs = clf.predict_proba(test_x)\n",
    "preds = probs[:,1]\n",
    "fpr, tpr, threshold = metrics.roc_curve(test_y, preds)\n",
    "roc_auc = metrics.auc(fpr, tpr)\n",
    "\n",
    "# method I: plt\n",
    "import matplotlib.pyplot as plt\n",
    "plt.title('Receiver Operating Characteristic')\n",
    "plt.plot(fpr, tpr, 'b', label = 'AUC = %0.2f' % roc_auc)\n",
    "plt.legend(loc = 'lower right')\n",
    "plt.plot([0, 1], [0, 1],'r--')\n",
    "plt.xlim([0, 1])\n",
    "plt.ylim([0, 1])\n",
    "plt.ylabel('True Positive Rate')\n",
    "plt.xlabel('False Positive Rate')\n",
    "plt.show()"
   ]
  },
  {
   "cell_type": "markdown",
   "metadata": {},
   "source": [
    "## RandomForest로 분석한 결과만 활용한 경우"
   ]
  },
  {
   "cell_type": "code",
   "execution_count": 24,
   "metadata": {},
   "outputs": [],
   "source": [
    "data = np.array(df)\n",
    "nvar = data.shape[1]\n",
    "datax = data[:,1:nvar]\n",
    "datay = data[:,0]"
   ]
  },
  {
   "cell_type": "code",
   "execution_count": 25,
   "metadata": {},
   "outputs": [],
   "source": [
    "from sklearn.model_selection import train_test_split\n",
    "train_x, test_x, train_y, test_y = train_test_split(datax, datay, test_size=0.3, random_state=500)"
   ]
  },
  {
   "cell_type": "code",
   "execution_count": 26,
   "metadata": {},
   "outputs": [],
   "source": [
    "from sklearn.preprocessing import MinMaxScaler\n",
    "scaler = MinMaxScaler()\n",
    "scaler.fit(train_x)\n",
    "train_x = scaler.transform(train_x)\n",
    "test_x = scaler.transform(test_x)"
   ]
  },
  {
   "cell_type": "code",
   "execution_count": 28,
   "metadata": {},
   "outputs": [
    {
     "data": {
      "text/plain": [
       "RandomForestClassifier(bootstrap=True, class_weight=None, criterion='gini',\n",
       "                       max_depth=None, max_features='auto', max_leaf_nodes=None,\n",
       "                       min_impurity_decrease=0.0, min_impurity_split=None,\n",
       "                       min_samples_leaf=1, min_samples_split=2,\n",
       "                       min_weight_fraction_leaf=0.0, n_estimators=500,\n",
       "                       n_jobs=None, oob_score=False, random_state=None,\n",
       "                       verbose=0, warm_start=False)"
      ]
     },
     "execution_count": 28,
     "metadata": {},
     "output_type": "execute_result"
    }
   ],
   "source": [
    "from sklearn.ensemble import RandomForestClassifier\n",
    "rf = RandomForestClassifier(n_estimators= 500)\n",
    "rf.fit(train_x, train_y)"
   ]
  },
  {
   "cell_type": "code",
   "execution_count": 29,
   "metadata": {},
   "outputs": [
    {
     "data": {
      "text/plain": [
       "Index(['Bad', 'Year', 'Female', 'Edu', 'Skill', 'Hand', 'NumberofYear',\n",
       "       'Married', 'Chiled', 'Pregnancy', 'CommutingTime', 'Payment', 'Height',\n",
       "       'Weight', 'DutyHours', 'OverTimeWork'],\n",
       "      dtype='object')"
      ]
     },
     "execution_count": 29,
     "metadata": {},
     "output_type": "execute_result"
    }
   ],
   "source": [
    "df.columns"
   ]
  },
  {
   "cell_type": "code",
   "execution_count": 30,
   "metadata": {},
   "outputs": [],
   "source": [
    "Importance = np.round(rf.feature_importances_,2)\n",
    "TrainColume = ('Year', 'Female', 'Edu', 'Skill', 'Hand', 'NumberofYear',\n",
    "       'Married', 'Chiled', 'Pregnancy', 'CommutingTime', 'Payment', 'Height',\n",
    "       'Weight', 'DutyHours', 'OverTimeWork')\n",
    "df_data ={'Imt' : Importance, 'Colume' : TrainColume}\n",
    "df_data = pd.DataFrame(df_data)"
   ]
  },
  {
   "cell_type": "code",
   "execution_count": 31,
   "metadata": {},
   "outputs": [
    {
     "data": {
      "image/png": "[encoded data removed]",
      "text/plain": [
       "<Figure size 432x288 with 1 Axes>"
      ]
     },
     "metadata": {},
     "output_type": "display_data"
    }
   ],
   "source": [
    "import seaborn as sns\n",
    "ax = sns.barplot(x=df_data['Imt'], y=df_data['Colume'])\n",
    "ax.set(xlabel='Importance', ylabel='Variable')\n",
    "plt.title('importance by variable')\n",
    "plt.show()"
   ]
  },
  {
   "cell_type": "code",
   "execution_count": 32,
   "metadata": {},
   "outputs": [],
   "source": [
    "del df['Female']\n",
    "del df['Skill']\n",
    "del df['Married']"
   ]
  },
  {
   "cell_type": "code",
   "execution_count": 33,
   "metadata": {},
   "outputs": [],
   "source": [
    "data = np.array(df)\n",
    "nvar = data.shape[1]\n",
    "datax = data[:,1:nvar]\n",
    "datay = data[:,0]"
   ]
  },
  {
   "cell_type": "code",
   "execution_count": 34,
   "metadata": {},
   "outputs": [],
   "source": [
    "from sklearn.model_selection import train_test_split\n",
    "train_x, test_x, train_y, test_y = train_test_split(datax, datay, test_size=0.3, random_state=500)"
   ]
  },
  {
   "cell_type": "code",
   "execution_count": 35,
   "metadata": {},
   "outputs": [],
   "source": [
    "from sklearn.preprocessing import MinMaxScaler\n",
    "scaler = MinMaxScaler()\n",
    "scaler.fit(train_x)\n",
    "train_x = scaler.transform(train_x)\n",
    "test_x = scaler.transform(test_x)"
   ]
  },
  {
   "cell_type": "code",
   "execution_count": 36,
   "metadata": {},
   "outputs": [
    {
     "name": "stdout",
     "output_type": "stream",
     "text": [
      "After OverSampling, the shape of train_x: (46342, 14)\n",
      "After OverSampling, the shape of train_y: (46342,) \n",
      "\n",
      "After OverSampling, counts of label '1': 23171\n",
      "After OverSampling, counts of label '0': 23171\n"
     ]
    }
   ],
   "source": [
    "from sklearn.datasets import make_classification\n",
    "from sklearn.decomposition import PCA\n",
    "from imblearn.over_sampling import SMOTE\n",
    "\n",
    "# 모델설정 ratio='auto', kind='regular'\n",
    "sm = SMOTE(random_state=42)\n",
    "\n",
    "# train데이터를 넣어 복제함\n",
    "train_x, train_y = sm.fit_sample(train_x,train_y)\n",
    "\n",
    "print('After OverSampling, the shape of train_x: {}'.format(train_x.shape))\n",
    "print('After OverSampling, the shape of train_y: {} \\n'.format(train_y.shape))\n",
    "\n",
    "print(\"After OverSampling, counts of label '1': {}\".format(sum(train_y==1)))\n",
    "print(\"After OverSampling, counts of label '0': {}\".format(sum(train_y==0)))"
   ]
  },
  {
   "cell_type": "code",
   "execution_count": 37,
   "metadata": {},
   "outputs": [],
   "source": [
    "from sklearn.neural_network import MLPClassifier\n",
    "clf = MLPClassifier(hidden_layer_sizes=(100,200,300,100))\n",
    "clf.fit(train_x, train_y)\n",
    "predict = clf.predict(test_x)"
   ]
  },
  {
   "cell_type": "code",
   "execution_count": 38,
   "metadata": {},
   "outputs": [
    {
     "name": "stdout",
     "output_type": "stream",
     "text": [
      "[[7691 2229]\n",
      " [ 168  192]]\n"
     ]
    },
    {
     "data": {
      "image/png": "[encoded data removed]",
      "text/plain": [
       "<Figure size 432x288 with 2 Axes>"
      ]
     },
     "metadata": {},
     "output_type": "display_data"
    }
   ],
   "source": [
    "from sklearn.metrics import confusion_matrix\n",
    "\n",
    "array = confusion_matrix(test_y, predict)\n",
    "array = [[array[1][1],array[1][0]],[array[0][1],array[0][0]]]\n",
    "array = np.array(array)\n",
    "df_cm = pd.DataFrame(array,['Bad','Good'],['Bad','Good'])\n",
    "sn.set(font_scale=1.4)\n",
    "sn.heatmap(df_cm, annot=True,annot_kws={\"size\": 16},fmt = 'd')\n",
    "plt.show()"
   ]
  },
  {
   "cell_type": "code",
   "execution_count": 39,
   "metadata": {},
   "outputs": [
    {
     "name": "stdout",
     "output_type": "stream",
     "text": [
      "Confusion Matrix 분석\n",
      "\n",
      "Accuracy =  0.7668287937743191\n",
      "Sensitivity =  0.7753024193548387\n",
      "Specificity =  0.5333333333333333\n",
      "Precision =  0.9786232345082071\n"
     ]
    }
   ],
   "source": [
    "TP = array[0][0]\n",
    "FN = array[0][1]\n",
    "FP = array[1][0]\n",
    "TN = array[1][1]\n",
    "acc3 = (TP+TN)/(TP+TN+FP+FN)\n",
    "sen3 = TP/(TP+FN)\n",
    "pre3 = TP/(TP+FP)\n",
    "print('Confusion Matrix 분석\\n')\n",
    "print('Accuracy = ', acc3)\n",
    "print('Precision = ', pre3)"
   ]
  },
  {
   "cell_type": "code",
   "execution_count": null,
   "metadata": {},
   "outputs": [],
   "source": [
    "import sklearn.metrics as metrics\n",
    "# calculate the fpr and tpr for all thresholds of the classification\n",
    "probs = clf.predict_proba(test_x)\n",
    "preds = probs[:,1]\n",
    "fpr, tpr, threshold = metrics.roc_curve(test_y, preds)\n",
    "roc_auc = metrics.auc(fpr, tpr)\n",
    "\n",
    "# method I: plt\n",
    "import matplotlib.pyplot as plt\n",
    "plt.title('Receiver Operating Characteristic')\n",
    "plt.plot(fpr, tpr, 'b', label = 'AUC = %0.2f' % roc_auc)\n",
    "plt.legend(loc = 'lower right')\n",
    "plt.plot([0, 1], [0, 1],'r--')\n",
    "plt.xlim([0, 1])\n",
    "plt.ylim([0, 1])\n",
    "plt.ylabel('True Positive Rate')\n",
    "plt.xlabel('False Positive Rate')\n",
    "plt.show()"
   ]
  },
  {
   "cell_type": "markdown",
   "metadata": {},
   "source": [
    "## 두가지 방법으로 분석한 결과를 모두 활용한 경우"
   ]
  },
  {
   "cell_type": "code",
   "execution_count": 40,
   "metadata": {},
   "outputs": [
    {
     "data": {
      "text/plain": [
       "Index(['Bad', 'Year', 'Edu', 'Skill', 'Hand', 'NumberofYear', 'Married',\n",
       "       'Chiled', 'Pregnancy', 'CommutingTime', 'Payment', 'Height', 'Weight',\n",
       "       'DutyHours', 'OverTimeWork'],\n",
       "      dtype='object')"
      ]
     },
     "execution_count": 40,
     "metadata": {},
     "output_type": "execute_result"
    }
   ],
   "source": [
    "df.columns"
   ]
  },
  {
   "cell_type": "code",
   "execution_count": 41,
   "metadata": {},
   "outputs": [
    {
     "name": "stderr",
     "output_type": "stream",
     "text": [
      "C:\\Users\\KimJinSeop\\Anaconda3\\lib\\site-packages\\numpy\\core\\fromnumeric.py:2389: FutureWarning: Method .ptp is deprecated and will be removed in a future version. Use numpy.ptp instead.\n",
      "  return ptp(axis=axis, out=out, **kwargs)\n"
     ]
    },
    {
     "data": {
      "text/html": [
       "<table class=\"simpletable\">\n",
       "<caption>OLS Regression Results</caption>\n",
       "<tr>\n",
       "  <th>Dep. Variable:</th>            <td>y</td>        <th>  R-squared:         </th>  <td>   0.008</td> \n",
       "</tr>\n",
       "<tr>\n",
       "  <th>Model:</th>                   <td>OLS</td>       <th>  Adj. R-squared:    </th>  <td>   0.007</td> \n",
       "</tr>\n",
       "<tr>\n",
       "  <th>Method:</th>             <td>Least Squares</td>  <th>  F-statistic:       </th>  <td>   19.27</td> \n",
       "</tr>\n",
       "<tr>\n",
       "  <th>Date:</th>             <td>Fri, 29 Nov 2019</td> <th>  Prob (F-statistic):</th>  <td>3.62e-49</td> \n",
       "</tr>\n",
       "<tr>\n",
       "  <th>Time:</th>                 <td>01:54:35</td>     <th>  Log-Likelihood:    </th>  <td>  9898.6</td> \n",
       "</tr>\n",
       "<tr>\n",
       "  <th>No. Observations:</th>      <td> 34266</td>      <th>  AIC:               </th> <td>-1.977e+04</td>\n",
       "</tr>\n",
       "<tr>\n",
       "  <th>Df Residuals:</th>          <td> 34251</td>      <th>  BIC:               </th> <td>-1.964e+04</td>\n",
       "</tr>\n",
       "<tr>\n",
       "  <th>Df Model:</th>              <td>    14</td>      <th>                     </th>      <td> </td>    \n",
       "</tr>\n",
       "<tr>\n",
       "  <th>Covariance Type:</th>      <td>nonrobust</td>    <th>                     </th>      <td> </td>    \n",
       "</tr>\n",
       "</table>\n",
       "<table class=\"simpletable\">\n",
       "<tr>\n",
       "        <td></td>           <th>coef</th>     <th>std err</th>      <th>t</th>      <th>P>|t|</th>  <th>[0.025</th>    <th>0.975]</th>  \n",
       "</tr>\n",
       "<tr>\n",
       "  <th>const</th>         <td>   -0.0117</td> <td>    0.028</td> <td>   -0.414</td> <td> 0.679</td> <td>   -0.067</td> <td>    0.044</td>\n",
       "</tr>\n",
       "<tr>\n",
       "  <th>Year</th>          <td>    0.0010</td> <td>    0.000</td> <td>    3.918</td> <td> 0.000</td> <td>    0.001</td> <td>    0.002</td>\n",
       "</tr>\n",
       "<tr>\n",
       "  <th>Edu</th>           <td>    0.0013</td> <td>    0.002</td> <td>    0.531</td> <td> 0.596</td> <td>   -0.004</td> <td>    0.006</td>\n",
       "</tr>\n",
       "<tr>\n",
       "  <th>Skill</th>         <td>    0.0154</td> <td>    0.005</td> <td>    3.292</td> <td> 0.001</td> <td>    0.006</td> <td>    0.025</td>\n",
       "</tr>\n",
       "<tr>\n",
       "  <th>Hand</th>          <td>   -0.0036</td> <td>    0.007</td> <td>   -0.488</td> <td> 0.626</td> <td>   -0.018</td> <td>    0.011</td>\n",
       "</tr>\n",
       "<tr>\n",
       "  <th>NumberofYear</th>  <td>   -0.0068</td> <td>    0.002</td> <td>   -3.194</td> <td> 0.001</td> <td>   -0.011</td> <td>   -0.003</td>\n",
       "</tr>\n",
       "<tr>\n",
       "  <th>Married</th>       <td>   -0.0229</td> <td>    0.006</td> <td>   -4.074</td> <td> 0.000</td> <td>   -0.034</td> <td>   -0.012</td>\n",
       "</tr>\n",
       "<tr>\n",
       "  <th>Chiled</th>        <td>    0.0252</td> <td>    0.004</td> <td>    6.326</td> <td> 0.000</td> <td>    0.017</td> <td>    0.033</td>\n",
       "</tr>\n",
       "<tr>\n",
       "  <th>Pregnancy</th>     <td>    0.0218</td> <td>    0.006</td> <td>    3.864</td> <td> 0.000</td> <td>    0.011</td> <td>    0.033</td>\n",
       "</tr>\n",
       "<tr>\n",
       "  <th>CommutingTime</th> <td>    0.0652</td> <td>    0.005</td> <td>   11.936</td> <td> 0.000</td> <td>    0.055</td> <td>    0.076</td>\n",
       "</tr>\n",
       "<tr>\n",
       "  <th>Payment</th>       <td>-3.673e-09</td> <td> 2.95e-09</td> <td>   -1.246</td> <td> 0.213</td> <td>-9.45e-09</td> <td>  2.1e-09</td>\n",
       "</tr>\n",
       "<tr>\n",
       "  <th>Height</th>        <td>   -0.0002</td> <td>    0.000</td> <td>   -1.706</td> <td> 0.088</td> <td>   -0.001</td> <td> 3.68e-05</td>\n",
       "</tr>\n",
       "<tr>\n",
       "  <th>Weight</th>        <td>    0.0013</td> <td>    0.000</td> <td>    5.815</td> <td> 0.000</td> <td>    0.001</td> <td>    0.002</td>\n",
       "</tr>\n",
       "<tr>\n",
       "  <th>DutyHours</th>     <td> 1.969e-05</td> <td> 2.74e-05</td> <td>    0.719</td> <td> 0.472</td> <td> -3.4e-05</td> <td> 7.34e-05</td>\n",
       "</tr>\n",
       "<tr>\n",
       "  <th>OverTimeWork</th>  <td>   -0.0082</td> <td>    0.002</td> <td>   -3.421</td> <td> 0.001</td> <td>   -0.013</td> <td>   -0.003</td>\n",
       "</tr>\n",
       "</table>\n",
       "<table class=\"simpletable\">\n",
       "<tr>\n",
       "  <th>Omnibus:</th>       <td>33213.575</td> <th>  Durbin-Watson:     </th>  <td>   1.334</td> \n",
       "</tr>\n",
       "<tr>\n",
       "  <th>Prob(Omnibus):</th>  <td> 0.000</td>   <th>  Jarque-Bera (JB):  </th> <td>960442.423</td>\n",
       "</tr>\n",
       "<tr>\n",
       "  <th>Skew:</th>           <td> 5.063</td>   <th>  Prob(JB):          </th>  <td>    0.00</td> \n",
       "</tr>\n",
       "<tr>\n",
       "  <th>Kurtosis:</th>       <td>26.878</td>   <th>  Cond. No.          </th>  <td>1.23e+08</td> \n",
       "</tr>\n",
       "</table><br/><br/>Warnings:<br/>[1] Standard Errors assume that the covariance matrix of the errors is correctly specified.<br/>[2] The condition number is large, 1.23e+08. This might indicate that there are<br/>strong multicollinearity or other numerical problems."
      ],
      "text/plain": [
       "<class 'statsmodels.iolib.summary.Summary'>\n",
       "\"\"\"\n",
       "                            OLS Regression Results                            \n",
       "==============================================================================\n",
       "Dep. Variable:                      y   R-squared:                       0.008\n",
       "Model:                            OLS   Adj. R-squared:                  0.007\n",
       "Method:                 Least Squares   F-statistic:                     19.27\n",
       "Date:                Fri, 29 Nov 2019   Prob (F-statistic):           3.62e-49\n",
       "Time:                        01:54:35   Log-Likelihood:                 9898.6\n",
       "No. Observations:               34266   AIC:                        -1.977e+04\n",
       "Df Residuals:                   34251   BIC:                        -1.964e+04\n",
       "Df Model:                          14                                         \n",
       "Covariance Type:            nonrobust                                         \n",
       "=================================================================================\n",
       "                    coef    std err          t      P>|t|      [0.025      0.975]\n",
       "---------------------------------------------------------------------------------\n",
       "const            -0.0117      0.028     -0.414      0.679      -0.067       0.044\n",
       "Year              0.0010      0.000      3.918      0.000       0.001       0.002\n",
       "Edu               0.0013      0.002      0.531      0.596      -0.004       0.006\n",
       "Skill             0.0154      0.005      3.292      0.001       0.006       0.025\n",
       "Hand             -0.0036      0.007     -0.488      0.626      -0.018       0.011\n",
       "NumberofYear     -0.0068      0.002     -3.194      0.001      -0.011      -0.003\n",
       "Married          -0.0229      0.006     -4.074      0.000      -0.034      -0.012\n",
       "Chiled            0.0252      0.004      6.326      0.000       0.017       0.033\n",
       "Pregnancy         0.0218      0.006      3.864      0.000       0.011       0.033\n",
       "CommutingTime     0.0652      0.005     11.936      0.000       0.055       0.076\n",
       "Payment       -3.673e-09   2.95e-09     -1.246      0.213   -9.45e-09     2.1e-09\n",
       "Height           -0.0002      0.000     -1.706      0.088      -0.001    3.68e-05\n",
       "Weight            0.0013      0.000      5.815      0.000       0.001       0.002\n",
       "DutyHours      1.969e-05   2.74e-05      0.719      0.472    -3.4e-05    7.34e-05\n",
       "OverTimeWork     -0.0082      0.002     -3.421      0.001      -0.013      -0.003\n",
       "==============================================================================\n",
       "Omnibus:                    33213.575   Durbin-Watson:                   1.334\n",
       "Prob(Omnibus):                  0.000   Jarque-Bera (JB):           960442.423\n",
       "Skew:                           5.063   Prob(JB):                         0.00\n",
       "Kurtosis:                      26.878   Cond. No.                     1.23e+08\n",
       "==============================================================================\n",
       "\n",
       "Warnings:\n",
       "[1] Standard Errors assume that the covariance matrix of the errors is correctly specified.\n",
       "[2] The condition number is large, 1.23e+08. This might indicate that there are\n",
       "strong multicollinearity or other numerical problems.\n",
       "\"\"\""
      ]
     },
     "execution_count": 41,
     "metadata": {},
     "output_type": "execute_result"
    }
   ],
   "source": [
    "import statsmodels.api as sm\n",
    "x = df[['Year', 'Edu', 'Skill', 'Hand', 'NumberofYear', 'Married',\n",
    "       'Chiled', 'Pregnancy', 'CommutingTime', 'Payment', 'Height', 'Weight',\n",
    "       'DutyHours', 'OverTimeWork']]\n",
    "x2 = sm.add_constant(x)\n",
    "model = sm.OLS(datay,x2)\n",
    "result = model.fit()\n",
    "result.summary()"
   ]
  },
  {
   "cell_type": "code",
   "execution_count": 42,
   "metadata": {},
   "outputs": [
    {
     "name": "stdout",
     "output_type": "stream",
     "text": [
      "'Year','Skill','NumberofYear','Married','Chiled','Pregnancy','CommutingTime','Weight','OverTimeWork',\n"
     ]
    }
   ],
   "source": [
    "index = 0\n",
    "columes = \"\"\n",
    "for pval in result.pvalues:\n",
    "    if(index == 0):\n",
    "        index = index + 1\n",
    "        continue\n",
    "    if(pval < 0.05):\n",
    "        columes = columes + \"'\"+ x.columns[index-1] + \"',\"\n",
    "    index = index + 1\n",
    "print(columes)"
   ]
  },
  {
   "cell_type": "code",
   "execution_count": 43,
   "metadata": {},
   "outputs": [
    {
     "data": {
      "text/html": [
       "<div>\n",
       "<style scoped>\n",
       "    .dataframe tbody tr th:only-of-type {\n",
       "        vertical-align: middle;\n",
       "    }\n",
       "\n",
       "    .dataframe tbody tr th {\n",
       "        vertical-align: top;\n",
       "    }\n",
       "\n",
       "    .dataframe thead th {\n",
       "        text-align: right;\n",
       "    }\n",
       "</style>\n",
       "<table border=\"1\" class=\"dataframe\">\n",
       "  <thead>\n",
       "    <tr style=\"text-align: right;\">\n",
       "      <th></th>\n",
       "      <th>Bad</th>\n",
       "      <th>Year</th>\n",
       "      <th>Skill</th>\n",
       "      <th>NumberofYear</th>\n",
       "      <th>Married</th>\n",
       "      <th>Chiled</th>\n",
       "      <th>Pregnancy</th>\n",
       "      <th>CommutingTime</th>\n",
       "      <th>Weight</th>\n",
       "      <th>OverTimeWork</th>\n",
       "    </tr>\n",
       "  </thead>\n",
       "  <tbody>\n",
       "    <tr>\n",
       "      <th>0</th>\n",
       "      <td>1</td>\n",
       "      <td>33.0</td>\n",
       "      <td>2.0</td>\n",
       "      <td>5.0</td>\n",
       "      <td>1.0</td>\n",
       "      <td>1.0</td>\n",
       "      <td>0.0</td>\n",
       "      <td>0.0</td>\n",
       "      <td>45.0</td>\n",
       "      <td>0.0</td>\n",
       "    </tr>\n",
       "    <tr>\n",
       "      <th>1</th>\n",
       "      <td>0</td>\n",
       "      <td>36.0</td>\n",
       "      <td>2.0</td>\n",
       "      <td>5.0</td>\n",
       "      <td>1.0</td>\n",
       "      <td>1.0</td>\n",
       "      <td>0.0</td>\n",
       "      <td>0.0</td>\n",
       "      <td>56.0</td>\n",
       "      <td>0.0</td>\n",
       "    </tr>\n",
       "    <tr>\n",
       "      <th>2</th>\n",
       "      <td>0</td>\n",
       "      <td>35.0</td>\n",
       "      <td>2.0</td>\n",
       "      <td>5.0</td>\n",
       "      <td>1.0</td>\n",
       "      <td>1.0</td>\n",
       "      <td>0.0</td>\n",
       "      <td>0.0</td>\n",
       "      <td>46.0</td>\n",
       "      <td>0.0</td>\n",
       "    </tr>\n",
       "    <tr>\n",
       "      <th>3</th>\n",
       "      <td>0</td>\n",
       "      <td>33.0</td>\n",
       "      <td>2.0</td>\n",
       "      <td>5.0</td>\n",
       "      <td>1.0</td>\n",
       "      <td>1.0</td>\n",
       "      <td>0.0</td>\n",
       "      <td>0.0</td>\n",
       "      <td>45.0</td>\n",
       "      <td>0.0</td>\n",
       "    </tr>\n",
       "    <tr>\n",
       "      <th>4</th>\n",
       "      <td>0</td>\n",
       "      <td>36.0</td>\n",
       "      <td>2.0</td>\n",
       "      <td>5.0</td>\n",
       "      <td>1.0</td>\n",
       "      <td>1.0</td>\n",
       "      <td>0.0</td>\n",
       "      <td>0.0</td>\n",
       "      <td>45.0</td>\n",
       "      <td>0.0</td>\n",
       "    </tr>\n",
       "  </tbody>\n",
       "</table>\n",
       "</div>"
      ],
      "text/plain": [
       "   Bad  Year  Skill  NumberofYear  Married  Chiled  Pregnancy  CommutingTime  \\\n",
       "0    1  33.0    2.0           5.0      1.0     1.0        0.0            0.0   \n",
       "1    0  36.0    2.0           5.0      1.0     1.0        0.0            0.0   \n",
       "2    0  35.0    2.0           5.0      1.0     1.0        0.0            0.0   \n",
       "3    0  33.0    2.0           5.0      1.0     1.0        0.0            0.0   \n",
       "4    0  36.0    2.0           5.0      1.0     1.0        0.0            0.0   \n",
       "\n",
       "   Weight  OverTimeWork  \n",
       "0    45.0           0.0  \n",
       "1    56.0           0.0  \n",
       "2    46.0           0.0  \n",
       "3    45.0           0.0  \n",
       "4    45.0           0.0  "
      ]
     },
     "execution_count": 43,
     "metadata": {},
     "output_type": "execute_result"
    }
   ],
   "source": [
    "df = df[['Year','Chiled','Pregnancy','CommutingTime','Payment','Weight','OverTimeWork']]\n",
    "df.head()"
   ]
  },
  {
   "cell_type": "code",
   "execution_count": 44,
   "metadata": {},
   "outputs": [],
   "source": [
    "data = np.array(df)\n",
    "nvar = data.shape[1]\n",
    "datax = data[:,1:nvar]\n",
    "datay = data[:,0]"
   ]
  },
  {
   "cell_type": "code",
   "execution_count": 45,
   "metadata": {},
   "outputs": [],
   "source": [
    "from sklearn.model_selection import train_test_split\n",
    "train_x, test_x, train_y, test_y = train_test_split(datax, datay, test_size=0.3, random_state=500)"
   ]
  },
  {
   "cell_type": "code",
   "execution_count": 46,
   "metadata": {},
   "outputs": [],
   "source": [
    "from sklearn.preprocessing import MinMaxScaler\n",
    "scaler = MinMaxScaler()\n",
    "scaler.fit(train_x)\n",
    "train_x = scaler.transform(train_x)\n",
    "test_x = scaler.transform(test_x)"
   ]
  },
  {
   "cell_type": "code",
   "execution_count": 47,
   "metadata": {},
   "outputs": [
    {
     "name": "stdout",
     "output_type": "stream",
     "text": [
      "After OverSampling, the shape of train_x: (46342, 9)\n",
      "After OverSampling, the shape of train_y: (46342,) \n",
      "\n",
      "After OverSampling, counts of label '1': 23171\n",
      "After OverSampling, counts of label '0': 23171\n"
     ]
    }
   ],
   "source": [
    "from sklearn.datasets import make_classification\n",
    "from sklearn.decomposition import PCA\n",
    "from imblearn.over_sampling import SMOTE\n",
    "\n",
    "# 모델설정 ratio='auto', kind='regular'\n",
    "sm = SMOTE(random_state=42)\n",
    "\n",
    "# train데이터를 넣어 복제함\n",
    "train_x, train_y = sm.fit_sample(train_x,train_y)\n",
    "\n",
    "print('After OverSampling, the shape of train_x: {}'.format(train_x.shape))\n",
    "print('After OverSampling, the shape of train_y: {} \\n'.format(train_y.shape))\n",
    "\n",
    "print(\"After OverSampling, counts of label '1': {}\".format(sum(train_y==1)))\n",
    "print(\"After OverSampling, counts of label '0': {}\".format(sum(train_y==0)))"
   ]
  },
  {
   "cell_type": "code",
   "execution_count": 48,
   "metadata": {},
   "outputs": [],
   "source": [
    "from sklearn.neural_network import MLPClassifier\n",
    "clf = MLPClassifier(hidden_layer_sizes=(100,200,300,100))\n",
    "clf.fit(train_x, train_y)\n",
    "predict = clf.predict(test_x)"
   ]
  },
  {
   "cell_type": "code",
   "execution_count": 49,
   "metadata": {},
   "outputs": [
    {
     "name": "stdout",
     "output_type": "stream",
     "text": [
      "[[7093 2827]\n",
      " [ 152  208]]\n"
     ]
    },
    {
     "data": {
      "image/png": "[encoded data removed]",
      "text/plain": [
       "<Figure size 432x288 with 2 Axes>"
      ]
     },
     "metadata": {},
     "output_type": "display_data"
    }
   ],
   "source": [
    "from sklearn.metrics import confusion_matrix\n",
    "\n",
    "array = confusion_matrix(test_y, predict)\n",
    "array = [[array[1][1],array[1][0]],[array[0][1],array[0][0]]]\n",
    "array = np.array(array)\n",
    "df_cm = pd.DataFrame(array,['Bad','Good'],['Bad','Good'])\n",
    "sn.set(font_scale=1.4)\n",
    "sn.heatmap(df_cm, annot=True,annot_kws={\"size\": 16},fmt = 'd')\n",
    "plt.show()"
   ]
  },
  {
   "cell_type": "code",
   "execution_count": 50,
   "metadata": {},
   "outputs": [
    {
     "name": "stdout",
     "output_type": "stream",
     "text": [
      "Confusion Matrix 분석\n",
      "\n",
      "Accuracy =  0.7102140077821012\n",
      "Sensitivity =  0.7150201612903225\n",
      "Specificity =  0.5777777777777777\n",
      "Precision =  0.9790200138026225\n"
     ]
    }
   ],
   "source": [
    "TP = array[0][0]\n",
    "FN = array[0][1]\n",
    "FP = array[1][0]\n",
    "TN = array[1][1]\n",
    "acc4 = (TP+TN)/(TP+TN+FP+FN)\n",
    "sen4 = TP/(TP+FN)\n",
    "pre4 = TP/(TP+FP)\n",
    "print('Confusion Matrix 분석\\n')\n",
    "print('Accuracy = ', acc4)\n",
    "print('Sensitivity = ', sen4)\n",
    "print('Precision = ', pre4)"
   ]
  },
  {
   "cell_type": "code",
   "execution_count": null,
   "metadata": {},
   "outputs": [],
   "source": [
    "import sklearn.metrics as metrics\n",
    "# calculate the fpr and tpr for all thresholds of the classification\n",
    "probs = clf.predict_proba(test_x)\n",
    "preds = probs[:,1]\n",
    "fpr, tpr, threshold = metrics.roc_curve(test_y, preds)\n",
    "roc_auc = metrics.auc(fpr, tpr)\n",
    "\n",
    "# method I: plt\n",
    "import matplotlib.pyplot as plt\n",
    "plt.title('Receiver Operating Characteristic')\n",
    "plt.plot(fpr, tpr, 'b', label = 'AUC = %0.2f' % roc_auc)\n",
    "plt.legend(loc = 'lower right')\n",
    "plt.plot([0, 1], [0, 1],'r--')\n",
    "plt.xlim([0, 1])\n",
    "plt.ylim([0, 1])\n",
    "plt.ylabel('True Positive Rate')\n",
    "plt.xlabel('False Positive Rate')\n",
    "plt.show()"
   ]
  },
  {
   "cell_type": "markdown",
   "metadata": {},
   "source": [
    "## 성능 결과 그래프"
   ]
  },
  {
   "cell_type": "code",
   "execution_count": 51,
   "metadata": {},
   "outputs": [
    {
     "data": {
      "image/png": "[encoded data removed]",
      "text/plain": [
       "<Figure size 432x288 with 1 Axes>"
      ]
     },
     "metadata": {},
     "output_type": "display_data"
    }
   ],
   "source": [
    "import seaborn as sns\n",
    "list_ac = [acc1,acc2,acc3,acc4]\n",
    "list_us = ['neither','using only p-value','using only randomforest','using both']\n",
    "df_data = {'acc' : list_ac, 'use' : list_us}\n",
    "df_data = pd.DataFrame(df_data)\n",
    "ax = sns.barplot(x=df_data['acc'], y=df_data['use'])\n",
    "ax.set(xlabel='Accuracy', ylabel='Usage')\n",
    "plt.title('Accuracy measurement result according to the usage')\n",
    "plt.show()"
   ]
  },
  {
   "cell_type": "code",
   "execution_count": 52,
   "metadata": {},
   "outputs": [
    {
     "data": {
      "image/png": "[encoded data removed]",
      "text/plain": [
       "<Figure size 432x288 with 1 Axes>"
      ]
     },
     "metadata": {},
     "output_type": "display_data"
    }
   ],
   "source": [
    "import seaborn as sns\n",
    "list_se = [sen1,sen2,sen3,sen4]\n",
    "list_us = ['neither','using only p-value','using only randomforest','using both']\n",
    "df_data = {'sen' : list_se, 'use' : list_us}\n",
    "df_data = pd.DataFrame(df_data)\n",
    "ax = sns.barplot(x=df_data['sen'], y=df_data['use'])\n",
    "ax.set(xlabel='Sensitivity', ylabel='Usage')\n",
    "plt.title('Sensitivity measurement result according to the usage')\n",
    "plt.show()"
   ]
  },
  {
   "cell_type": "code",
   "execution_count": 53,
   "metadata": {},
   "outputs": [
    {
     "data": {
      "image/png": "[encoded data removed]",
      "text/plain": [
       "<Figure size 432x288 with 1 Axes>"
      ]
     },
     "metadata": {},
     "output_type": "display_data"
    }
   ],
   "source": [
    "import seaborn as sns\n",
    "list_pr = [pre1,pre2,pre3,pre4]\n",
    "list_us = ['neither','using only p-value','using only randomforest','using both']\n",
    "df_data = {'pre' : list_pr, 'use' : list_us}\n",
    "df_data = pd.DataFrame(df_data)\n",
    "ax = sns.barplot(x=df_data['pre'], y=df_data['use'])\n",
    "ax.set(xlabel='Precision', ylabel='Usage')\n",
    "plt.title('Precision measurement result according to the usage')\n",
    "plt.show()"
   ]
  }
 ],
 "metadata": {
  "kernelspec": {
   "display_name": "Python 3",
   "language": "python",
   "name": "python3"
  },
  "language_info": {
   "codemirror_mode": {
    "name": "ipython",
    "version": 3
   },
   "file_extension": ".py",
   "mimetype": "text/x-python",
   "name": "python",
   "nbconvert_exporter": "python",
   "pygments_lexer": "ipython3",
   "version": "3.7.3"
  }
 },
 "nbformat": 4,
 "nbformat_minor": 2
}
