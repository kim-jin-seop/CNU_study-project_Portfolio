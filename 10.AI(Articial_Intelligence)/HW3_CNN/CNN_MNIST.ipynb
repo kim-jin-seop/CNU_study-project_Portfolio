{
 "cells": [
  {
   "cell_type": "code",
   "execution_count": 1,
   "metadata": {},
   "outputs": [
    {
     "name": "stderr",
     "output_type": "stream",
     "text": [
      "C:\\Users\\KimJinSeop\\Anaconda3\\envs\\tensorflow\\lib\\site-packages\\tensorflow\\python\\framework\\dtypes.py:526: FutureWarning: Passing (type, 1) or '1type' as a synonym of type is deprecated; in a future version of numpy, it will be understood as (type, (1,)) / '(1,)type'.\n",
      "  _np_qint8 = np.dtype([(\"qint8\", np.int8, 1)])\n",
      "C:\\Users\\KimJinSeop\\Anaconda3\\envs\\tensorflow\\lib\\site-packages\\tensorflow\\python\\framework\\dtypes.py:527: FutureWarning: Passing (type, 1) or '1type' as a synonym of type is deprecated; in a future version of numpy, it will be understood as (type, (1,)) / '(1,)type'.\n",
      "  _np_quint8 = np.dtype([(\"quint8\", np.uint8, 1)])\n",
      "C:\\Users\\KimJinSeop\\Anaconda3\\envs\\tensorflow\\lib\\site-packages\\tensorflow\\python\\framework\\dtypes.py:528: FutureWarning: Passing (type, 1) or '1type' as a synonym of type is deprecated; in a future version of numpy, it will be understood as (type, (1,)) / '(1,)type'.\n",
      "  _np_qint16 = np.dtype([(\"qint16\", np.int16, 1)])\n",
      "C:\\Users\\KimJinSeop\\Anaconda3\\envs\\tensorflow\\lib\\site-packages\\tensorflow\\python\\framework\\dtypes.py:529: FutureWarning: Passing (type, 1) or '1type' as a synonym of type is deprecated; in a future version of numpy, it will be understood as (type, (1,)) / '(1,)type'.\n",
      "  _np_quint16 = np.dtype([(\"quint16\", np.uint16, 1)])\n",
      "C:\\Users\\KimJinSeop\\Anaconda3\\envs\\tensorflow\\lib\\site-packages\\tensorflow\\python\\framework\\dtypes.py:530: FutureWarning: Passing (type, 1) or '1type' as a synonym of type is deprecated; in a future version of numpy, it will be understood as (type, (1,)) / '(1,)type'.\n",
      "  _np_qint32 = np.dtype([(\"qint32\", np.int32, 1)])\n",
      "C:\\Users\\KimJinSeop\\Anaconda3\\envs\\tensorflow\\lib\\site-packages\\tensorflow\\python\\framework\\dtypes.py:535: FutureWarning: Passing (type, 1) or '1type' as a synonym of type is deprecated; in a future version of numpy, it will be understood as (type, (1,)) / '(1,)type'.\n",
      "  np_resource = np.dtype([(\"resource\", np.ubyte, 1)])\n",
      "Using TensorFlow backend.\n"
     ]
    }
   ],
   "source": [
    "import numpy as np\n",
    "import pandas as pd\n",
    "import matplotlib.pyplot as plt\n",
    "%matplotlib inline\n",
    "\n",
    "from os.path import join\n",
    "\n",
    "import tensorflow as tf\n",
    "import keras\n",
    "from keras import layers, models, optimizers\n",
    "from keras.utils import to_categorical"
   ]
  },
  {
   "cell_type": "code",
   "execution_count": 2,
   "metadata": {},
   "outputs": [],
   "source": [
    "datax = np.load(join('data','MNIST.npy'))\n",
    "datay = np.load(join('data','Label.npy'))"
   ]
  },
  {
   "cell_type": "code",
   "execution_count": 3,
   "metadata": {},
   "outputs": [
    {
     "name": "stdout",
     "output_type": "stream",
     "text": [
      "최대 : 1.0, 최소 : 0.0\n"
     ]
    }
   ],
   "source": [
    "datax_norm = datax/255\n",
    "print('최대 : {}, 최소 : {}'.format(np.max(datax_norm), np.min(datax_norm)))"
   ]
  },
  {
   "cell_type": "code",
   "execution_count": 4,
   "metadata": {},
   "outputs": [
    {
     "name": "stdout",
     "output_type": "stream",
     "text": [
      "[5 0 4 1 9 2 1 3 1 4]\n",
      "[[0. 0. 0. 0. 0. 1. 0. 0. 0. 0.]\n",
      " [1. 0. 0. 0. 0. 0. 0. 0. 0. 0.]\n",
      " [0. 0. 0. 0. 1. 0. 0. 0. 0. 0.]\n",
      " [0. 1. 0. 0. 0. 0. 0. 0. 0. 0.]\n",
      " [0. 0. 0. 0. 0. 0. 0. 0. 0. 1.]\n",
      " [0. 0. 1. 0. 0. 0. 0. 0. 0. 0.]\n",
      " [0. 1. 0. 0. 0. 0. 0. 0. 0. 0.]\n",
      " [0. 0. 0. 1. 0. 0. 0. 0. 0. 0.]\n",
      " [0. 1. 0. 0. 0. 0. 0. 0. 0. 0.]\n",
      " [0. 0. 0. 0. 1. 0. 0. 0. 0. 0.]]\n"
     ]
    }
   ],
   "source": [
    "datay_onehot = to_categorical(datay)\n",
    "print(datay[0:10])\n",
    "print(datay_onehot[0:10,:])"
   ]
  },
  {
   "cell_type": "code",
   "execution_count": 5,
   "metadata": {},
   "outputs": [
    {
     "name": "stdout",
     "output_type": "stream",
     "text": [
      "(42000, 28, 28)\n",
      "(18000, 28, 28)\n",
      "(42000, 10)\n",
      "(28, 28)\n"
     ]
    }
   ],
   "source": [
    "from sklearn.model_selection import train_test_split\n",
    "trnx, tstx, trny, tsty = train_test_split(datax_norm, datay_onehot, test_size=0.3, random_state=111)\n",
    "print(trnx.shape)\n",
    "print(tstx.shape)\n",
    "print(trny.shape)\n",
    "print(trnx[0].shape)"
   ]
  },
  {
   "cell_type": "code",
   "execution_count": 6,
   "metadata": {},
   "outputs": [
    {
     "name": "stdout",
     "output_type": "stream",
     "text": [
      "WARNING:tensorflow:From C:\\Users\\KimJinSeop\\Anaconda3\\envs\\tensorflow\\lib\\site-packages\\tensorflow\\python\\ops\\resource_variable_ops.py:435: colocate_with (from tensorflow.python.framework.ops) is deprecated and will be removed in a future version.\n",
      "Instructions for updating:\n",
      "Colocations handled automatically by placer.\n"
     ]
    }
   ],
   "source": [
    "input_shape = (28,28,1)\n",
    "\n",
    "cnn_model = models.Sequential()\n",
    "\n",
    "cnn_model.add(layers.Conv2D(8, (2,2), padding='same', input_shape=input_shape))\n",
    "cnn_model.add(layers.BatchNormalization())\n",
    "cnn_model.add(layers.Activation(\"relu\"))\n",
    "cnn_model.add(layers.MaxPooling2D((2,2)))\n",
    "\n",
    "cnn_model.add(layers.Conv2D(16, (2,2), padding='same', input_shape=input_shape))\n",
    "cnn_model.add(layers.BatchNormalization())\n",
    "cnn_model.add(layers.Activation(\"relu\"))\n",
    "cnn_model.add(layers.MaxPooling2D((2,2)))\n",
    "\n",
    "cnn_model.add(layers.Conv2D(16, (2,2), padding='same'))\n",
    "cnn_model.add(layers.BatchNormalization())\n",
    "cnn_model.add(layers.Activation(\"relu\"))\n",
    "cnn_model.add(layers.Dropout(0.2))\n",
    "cnn_model.add(layers.MaxPooling2D((2,2)))\n",
    "\n",
    "cnn_model.add(layers.Flatten())\n",
    "\n",
    "cnn_model.add(layers.Dense(units = 64, activation = \"relu\"))\n",
    "cnn_model.add(layers.Dense(units = 10, activation =  \"softmax\"))\n",
    "\n",
    "cnn_model.compile(optimizer='Adam', loss = 'categorical_crossentropy', metrics=['accuracy'])"
   ]
  },
  {
   "cell_type": "code",
   "execution_count": 7,
   "metadata": {
    "scrolled": false
   },
   "outputs": [
    {
     "name": "stdout",
     "output_type": "stream",
     "text": [
      "Model: \"sequential_1\"\n",
      "_________________________________________________________________\n",
      "Layer (type)                 Output Shape              Param #   \n",
      "=================================================================\n",
      "conv2d_1 (Conv2D)            (None, 28, 28, 8)         40        \n",
      "_________________________________________________________________\n",
      "batch_normalization_1 (Batch (None, 28, 28, 8)         32        \n",
      "_________________________________________________________________\n",
      "activation_1 (Activation)    (None, 28, 28, 8)         0         \n",
      "_________________________________________________________________\n",
      "max_pooling2d_1 (MaxPooling2 (None, 14, 14, 8)         0         \n",
      "_________________________________________________________________\n",
      "conv2d_2 (Conv2D)            (None, 14, 14, 16)        528       \n",
      "_________________________________________________________________\n",
      "batch_normalization_2 (Batch (None, 14, 14, 16)        64        \n",
      "_________________________________________________________________\n",
      "activation_2 (Activation)    (None, 14, 14, 16)        0         \n",
      "_________________________________________________________________\n",
      "max_pooling2d_2 (MaxPooling2 (None, 7, 7, 16)          0         \n",
      "_________________________________________________________________\n",
      "conv2d_3 (Conv2D)            (None, 7, 7, 16)          1040      \n",
      "_________________________________________________________________\n",
      "batch_normalization_3 (Batch (None, 7, 7, 16)          64        \n",
      "_________________________________________________________________\n",
      "activation_3 (Activation)    (None, 7, 7, 16)          0         \n",
      "_________________________________________________________________\n",
      "dropout_1 (Dropout)          (None, 7, 7, 16)          0         \n",
      "_________________________________________________________________\n",
      "max_pooling2d_3 (MaxPooling2 (None, 3, 3, 16)          0         \n",
      "_________________________________________________________________\n",
      "flatten_1 (Flatten)          (None, 144)               0         \n",
      "_________________________________________________________________\n",
      "dense_1 (Dense)              (None, 64)                9280      \n",
      "_________________________________________________________________\n",
      "dense_2 (Dense)              (None, 10)                650       \n",
      "=================================================================\n",
      "Total params: 11,698\n",
      "Trainable params: 11,618\n",
      "Non-trainable params: 80\n",
      "_________________________________________________________________\n"
     ]
    }
   ],
   "source": [
    "cnn_model.summary()"
   ]
  },
  {
   "cell_type": "code",
   "execution_count": 8,
   "metadata": {},
   "outputs": [
    {
     "name": "stdout",
     "output_type": "stream",
     "text": [
      "(42000, 28, 28, 1)\n"
     ]
    }
   ],
   "source": [
    "trnx_reshape = trnx.reshape(-1,28,28,1)\n",
    "tstx_reshape = tstx.reshape(-1,28,28,1)\n",
    "print(trnx_reshape.shape)"
   ]
  },
  {
   "cell_type": "code",
   "execution_count": 9,
   "metadata": {},
   "outputs": [
    {
     "name": "stdout",
     "output_type": "stream",
     "text": [
      "WARNING:tensorflow:From C:\\Users\\KimJinSeop\\Anaconda3\\envs\\tensorflow\\lib\\site-packages\\tensorflow\\python\\ops\\math_ops.py:3066: to_int32 (from tensorflow.python.ops.math_ops) is deprecated and will be removed in a future version.\n",
      "Instructions for updating:\n",
      "Use tf.cast instead.\n",
      "Train on 42000 samples, validate on 18000 samples\n",
      "Epoch 1/50\n",
      "42000/42000 [==============================] - 64s 2ms/step - loss: 1.2073 - accuracy: 0.6174 - val_loss: 1.8733 - val_accuracy: 0.2266\n",
      "Epoch 2/50\n",
      "42000/42000 [==============================] - 64s 2ms/step - loss: 0.3284 - accuracy: 0.9011 - val_loss: 1.5889 - val_accuracy: 0.3780\n",
      "Epoch 3/50\n",
      "42000/42000 [==============================] - 65s 2ms/step - loss: 0.2074 - accuracy: 0.9355 - val_loss: 0.9148 - val_accuracy: 0.6677\n",
      "Epoch 4/50\n",
      "42000/42000 [==============================] - 65s 2ms/step - loss: 0.1698 - accuracy: 0.9479 - val_loss: 0.3948 - val_accuracy: 0.8841\n",
      "Epoch 5/50\n",
      "42000/42000 [==============================] - 65s 2ms/step - loss: 0.1409 - accuracy: 0.9567 - val_loss: 0.1843 - val_accuracy: 0.9527\n",
      "Epoch 6/50\n",
      "42000/42000 [==============================] - 68s 2ms/step - loss: 0.1250 - accuracy: 0.9615 - val_loss: 0.1234 - val_accuracy: 0.9657\n",
      "Epoch 7/50\n",
      "42000/42000 [==============================] - 65s 2ms/step - loss: 0.1124 - accuracy: 0.9651 - val_loss: 0.1024 - val_accuracy: 0.9706\n",
      "Epoch 8/50\n",
      "42000/42000 [==============================] - 63s 1ms/step - loss: 0.1043 - accuracy: 0.9676 - val_loss: 0.0925 - val_accuracy: 0.9727\n",
      "Epoch 9/50\n",
      "42000/42000 [==============================] - 64s 2ms/step - loss: 0.0945 - accuracy: 0.9704 - val_loss: 0.0752 - val_accuracy: 0.9774\n",
      "Epoch 10/50\n",
      "42000/42000 [==============================] - 64s 2ms/step - loss: 0.0876 - accuracy: 0.9721 - val_loss: 0.0723 - val_accuracy: 0.9791\n",
      "Epoch 11/50\n",
      "42000/42000 [==============================] - 63s 2ms/step - loss: 0.0835 - accuracy: 0.9736 - val_loss: 0.0687 - val_accuracy: 0.9792\n",
      "Epoch 12/50\n",
      "42000/42000 [==============================] - 64s 2ms/step - loss: 0.0760 - accuracy: 0.9761 - val_loss: 0.0625 - val_accuracy: 0.9816\n",
      "Epoch 13/50\n",
      "42000/42000 [==============================] - 62s 1ms/step - loss: 0.0748 - accuracy: 0.9766 - val_loss: 0.0653 - val_accuracy: 0.9812\n",
      "Epoch 14/50\n",
      "42000/42000 [==============================] - 63s 1ms/step - loss: 0.0719 - accuracy: 0.9772 - val_loss: 0.0723 - val_accuracy: 0.9793\n",
      "Epoch 15/50\n",
      "42000/42000 [==============================] - 69s 2ms/step - loss: 0.0761 - accuracy: 0.9759 - val_loss: 0.0592 - val_accuracy: 0.9827\n",
      "Epoch 16/50\n",
      "42000/42000 [==============================] - 67s 2ms/step - loss: 0.0663 - accuracy: 0.9790 - val_loss: 0.0569 - val_accuracy: 0.9828\n",
      "Epoch 17/50\n",
      "42000/42000 [==============================] - 74s 2ms/step - loss: 0.0659 - accuracy: 0.9787 - val_loss: 0.0559 - val_accuracy: 0.9833\n",
      "Epoch 18/50\n",
      "42000/42000 [==============================] - 68s 2ms/step - loss: 0.0614 - accuracy: 0.9806 - val_loss: 0.0569 - val_accuracy: 0.9825\n",
      "Epoch 19/50\n",
      "42000/42000 [==============================] - 65s 2ms/step - loss: 0.0590 - accuracy: 0.9808 - val_loss: 0.0599 - val_accuracy: 0.9816\n",
      "Epoch 20/50\n",
      "42000/42000 [==============================] - 64s 2ms/step - loss: 0.0599 - accuracy: 0.9807 - val_loss: 0.0545 - val_accuracy: 0.9843\n",
      "Epoch 21/50\n",
      "42000/42000 [==============================] - 65s 2ms/step - loss: 0.0558 - accuracy: 0.9822 - val_loss: 0.0502 - val_accuracy: 0.9853\n",
      "Epoch 22/50\n",
      "42000/42000 [==============================] - 67s 2ms/step - loss: 0.0557 - accuracy: 0.9823 - val_loss: 0.0545 - val_accuracy: 0.9841\n",
      "Epoch 23/50\n",
      "42000/42000 [==============================] - 64s 2ms/step - loss: 0.0528 - accuracy: 0.9834 - val_loss: 0.0603 - val_accuracy: 0.9821\n",
      "Epoch 24/50\n",
      "42000/42000 [==============================] - 71s 2ms/step - loss: 0.0541 - accuracy: 0.9831 - val_loss: 0.0540 - val_accuracy: 0.9838\n",
      "Epoch 25/50\n",
      "42000/42000 [==============================] - 75s 2ms/step - loss: 0.0519 - accuracy: 0.9827 - val_loss: 0.0566 - val_accuracy: 0.9825\n",
      "Epoch 26/50\n",
      "42000/42000 [==============================] - 71s 2ms/step - loss: 0.0552 - accuracy: 0.9817 - val_loss: 0.0463 - val_accuracy: 0.9868\n",
      "Epoch 27/50\n",
      "42000/42000 [==============================] - 69s 2ms/step - loss: 0.0474 - accuracy: 0.9850 - val_loss: 0.0488 - val_accuracy: 0.9856\n",
      "Epoch 28/50\n",
      "42000/42000 [==============================] - 66s 2ms/step - loss: 0.0490 - accuracy: 0.9836 - val_loss: 0.0458 - val_accuracy: 0.9866\n",
      "Epoch 29/50\n",
      "42000/42000 [==============================] - 69s 2ms/step - loss: 0.0513 - accuracy: 0.9834 - val_loss: 0.0469 - val_accuracy: 0.9853\n",
      "Epoch 30/50\n",
      "42000/42000 [==============================] - 69s 2ms/step - loss: 0.0466 - accuracy: 0.9848 - val_loss: 0.0424 - val_accuracy: 0.9873\n",
      "Epoch 31/50\n",
      "42000/42000 [==============================] - 67s 2ms/step - loss: 0.0425 - accuracy: 0.9859 - val_loss: 0.0468 - val_accuracy: 0.9859\n",
      "Epoch 32/50\n",
      "42000/42000 [==============================] - 69s 2ms/step - loss: 0.0426 - accuracy: 0.9860 - val_loss: 0.0510 - val_accuracy: 0.9846\n",
      "Epoch 33/50\n",
      "42000/42000 [==============================] - 66s 2ms/step - loss: 0.0435 - accuracy: 0.9855 - val_loss: 0.0426 - val_accuracy: 0.9867\n",
      "Epoch 34/50\n",
      "42000/42000 [==============================] - 70s 2ms/step - loss: 0.0414 - accuracy: 0.9865 - val_loss: 0.0485 - val_accuracy: 0.9853\n",
      "Epoch 35/50\n",
      "42000/42000 [==============================] - 68s 2ms/step - loss: 0.0437 - accuracy: 0.9859 - val_loss: 0.0546 - val_accuracy: 0.9833\n",
      "Epoch 36/50\n",
      "42000/42000 [==============================] - 66s 2ms/step - loss: 0.0429 - accuracy: 0.9856 - val_loss: 0.0403 - val_accuracy: 0.9886\n",
      "Epoch 37/50\n",
      "42000/42000 [==============================] - 69s 2ms/step - loss: 0.0373 - accuracy: 0.9878 - val_loss: 0.0449 - val_accuracy: 0.9865\n",
      "Epoch 38/50\n",
      "42000/42000 [==============================] - 70s 2ms/step - loss: 0.0395 - accuracy: 0.9869 - val_loss: 0.0439 - val_accuracy: 0.9869\n",
      "Epoch 39/50\n",
      "42000/42000 [==============================] - 68s 2ms/step - loss: 0.0386 - accuracy: 0.9873 - val_loss: 0.0450 - val_accuracy: 0.9864\n",
      "Epoch 40/50\n",
      "42000/42000 [==============================] - 73s 2ms/step - loss: 0.0369 - accuracy: 0.9874 - val_loss: 0.0474 - val_accuracy: 0.9862\n",
      "Epoch 41/50\n",
      "42000/42000 [==============================] - 72s 2ms/step - loss: 0.0357 - accuracy: 0.9881 - val_loss: 0.0465 - val_accuracy: 0.9862\n",
      "Epoch 42/50\n",
      "42000/42000 [==============================] - 70s 2ms/step - loss: 0.0359 - accuracy: 0.9883 - val_loss: 0.0409 - val_accuracy: 0.9877\n",
      "Epoch 43/50\n",
      "42000/42000 [==============================] - 75s 2ms/step - loss: 0.0349 - accuracy: 0.9882 - val_loss: 0.0399 - val_accuracy: 0.9884\n",
      "Epoch 44/50\n",
      "42000/42000 [==============================] - 73s 2ms/step - loss: 0.0360 - accuracy: 0.9881 - val_loss: 0.0391 - val_accuracy: 0.9884\n",
      "Epoch 45/50\n",
      "42000/42000 [==============================] - 70s 2ms/step - loss: 0.0352 - accuracy: 0.9878 - val_loss: 0.0404 - val_accuracy: 0.9883\n",
      "Epoch 46/50\n",
      "42000/42000 [==============================] - 66s 2ms/step - loss: 0.0334 - accuracy: 0.9887 - val_loss: 0.0381 - val_accuracy: 0.9887\n",
      "Epoch 47/50\n",
      "42000/42000 [==============================] - 68s 2ms/step - loss: 0.0331 - accuracy: 0.9889 - val_loss: 0.0376 - val_accuracy: 0.9892\n",
      "Epoch 48/50\n",
      "42000/42000 [==============================] - 74s 2ms/step - loss: 0.0324 - accuracy: 0.9888 - val_loss: 0.0376 - val_accuracy: 0.9894\n",
      "Epoch 49/50\n",
      "42000/42000 [==============================] - 68s 2ms/step - loss: 0.0308 - accuracy: 0.9898 - val_loss: 0.0394 - val_accuracy: 0.9885\n",
      "Epoch 50/50\n",
      "42000/42000 [==============================] - 66s 2ms/step - loss: 0.0409 - accuracy: 0.9863 - val_loss: 0.0371 - val_accuracy: 0.9894\n"
     ]
    }
   ],
   "source": [
    "history = cnn_model.fit(trnx_reshape, trny, validation_data = [tstx_reshape, tsty], batch_size=512, epochs=50)"
   ]
  }
 ],
 "metadata": {
  "kernelspec": {
   "display_name": "Python 3",
   "language": "python",
   "name": "python3"
  },
  "language_info": {
   "codemirror_mode": {
    "name": "ipython",
    "version": 3
   },
   "file_extension": ".py",
   "mimetype": "text/x-python",
   "name": "python",
   "nbconvert_exporter": "python",
   "pygments_lexer": "ipython3",
   "version": "3.6.7"
  }
 },
 "nbformat": 4,
 "nbformat_minor": 2
}
