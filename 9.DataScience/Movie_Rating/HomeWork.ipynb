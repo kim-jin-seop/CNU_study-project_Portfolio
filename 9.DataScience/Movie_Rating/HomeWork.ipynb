{
 "cells": [
  {
   "cell_type": "code",
   "execution_count": 1,
   "metadata": {},
   "outputs": [],
   "source": [
    "import pandas as pd\n",
    "import csv\n",
    "from collections import defaultdict\n",
    "from datetime import datetime\n",
    "import matplotlib.patches as mpatches\n",
    "import matplotlib\n",
    "import time\n",
    "import math\n",
    "from operator import itemgetter\n",
    "from scipy.spatial import distance\n",
    "from sklearn.metrics import mean_squared_error\n",
    "from sklearn.metrics import mean_absolute_error"
   ]
  },
  {
   "cell_type": "markdown",
   "metadata": {},
   "source": [
    "# [과제1] 네이버 평점 데이터 수"
   ]
  },
  {
   "cell_type": "code",
   "execution_count": 2,
   "metadata": {},
   "outputs": [
    {
     "data": {
      "text/html": [
       "<div>\n",
       "<style scoped>\n",
       "    .dataframe tbody tr th:only-of-type {\n",
       "        vertical-align: middle;\n",
       "    }\n",
       "\n",
       "    .dataframe tbody tr th {\n",
       "        vertical-align: top;\n",
       "    }\n",
       "\n",
       "    .dataframe thead th {\n",
       "        text-align: right;\n",
       "    }\n",
       "</style>\n",
       "<table border=\"1\" class=\"dataframe\">\n",
       "  <thead>\n",
       "    <tr style=\"text-align: right;\">\n",
       "      <th></th>\n",
       "      <th>userId</th>\n",
       "      <th>rating</th>\n",
       "      <th>movieId</th>\n",
       "    </tr>\n",
       "  </thead>\n",
       "  <tbody>\n",
       "    <tr>\n",
       "      <th>5119</th>\n",
       "      <td>huya</td>\n",
       "      <td>10</td>\n",
       "      <td>73394</td>\n",
       "    </tr>\n",
       "    <tr>\n",
       "      <th>5120</th>\n",
       "      <td>huya</td>\n",
       "      <td>10</td>\n",
       "      <td>70773</td>\n",
       "    </tr>\n",
       "    <tr>\n",
       "      <th>5121</th>\n",
       "      <td>huya</td>\n",
       "      <td>8</td>\n",
       "      <td>16220</td>\n",
       "    </tr>\n",
       "    <tr>\n",
       "      <th>5122</th>\n",
       "      <td>huya</td>\n",
       "      <td>10</td>\n",
       "      <td>36666</td>\n",
       "    </tr>\n",
       "    <tr>\n",
       "      <th>5123</th>\n",
       "      <td>huya</td>\n",
       "      <td>10</td>\n",
       "      <td>37235</td>\n",
       "    </tr>\n",
       "  </tbody>\n",
       "</table>\n",
       "</div>"
      ],
      "text/plain": [
       "     userId  rating  movieId\n",
       "5119   huya      10    73394\n",
       "5120   huya      10    70773\n",
       "5121   huya       8    16220\n",
       "5122   huya      10    36666\n",
       "5123   huya      10    37235"
      ]
     },
     "execution_count": 2,
     "metadata": {},
     "output_type": "execute_result"
    }
   ],
   "source": [
    "df = pd.read_csv('./data/rating.csv')\n",
    "df.tail()"
   ]
  },
  {
   "cell_type": "code",
   "execution_count": 3,
   "metadata": {},
   "outputs": [
    {
     "data": {
      "text/html": [
       "<div>\n",
       "<style scoped>\n",
       "    .dataframe tbody tr th:only-of-type {\n",
       "        vertical-align: middle;\n",
       "    }\n",
       "\n",
       "    .dataframe tbody tr th {\n",
       "        vertical-align: top;\n",
       "    }\n",
       "\n",
       "    .dataframe thead th {\n",
       "        text-align: right;\n",
       "    }\n",
       "</style>\n",
       "<table border=\"1\" class=\"dataframe\">\n",
       "  <thead>\n",
       "    <tr style=\"text-align: right;\">\n",
       "      <th></th>\n",
       "      <th>reviewNo</th>\n",
       "      <th>userId</th>\n",
       "    </tr>\n",
       "  </thead>\n",
       "  <tbody>\n",
       "    <tr>\n",
       "      <th>0</th>\n",
       "      <td>15772038</td>\n",
       "      <td>airf</td>\n",
       "    </tr>\n",
       "    <tr>\n",
       "      <th>1</th>\n",
       "      <td>15772037</td>\n",
       "      <td>nanw</td>\n",
       "    </tr>\n",
       "    <tr>\n",
       "      <th>2</th>\n",
       "      <td>15772036</td>\n",
       "      <td>zxcv</td>\n",
       "    </tr>\n",
       "    <tr>\n",
       "      <th>3</th>\n",
       "      <td>15772035</td>\n",
       "      <td>sdh1</td>\n",
       "    </tr>\n",
       "    <tr>\n",
       "      <th>4</th>\n",
       "      <td>15772032</td>\n",
       "      <td>guan</td>\n",
       "    </tr>\n",
       "  </tbody>\n",
       "</table>\n",
       "</div>"
      ],
      "text/plain": [
       "   reviewNo userId\n",
       "0  15772038   airf\n",
       "1  15772037   nanw\n",
       "2  15772036   zxcv\n",
       "3  15772035   sdh1\n",
       "4  15772032   guan"
      ]
     },
     "execution_count": 3,
     "metadata": {},
     "output_type": "execute_result"
    }
   ],
   "source": [
    "df_user = pd.read_csv('./data/naver_user.csv')\n",
    "df_user.head()"
   ]
  },
  {
   "cell_type": "code",
   "execution_count": 4,
   "metadata": {},
   "outputs": [
    {
     "name": "stdout",
     "output_type": "stream",
     "text": [
      "유저 수는 100명 이고, \n",
      "영화의 수는 2697개 입니다\n"
     ]
    }
   ],
   "source": [
    "user_num = df.userId.unique().shape[0]\n",
    "movie_num = df.movieId.unique().shape[0]\n",
    "print('유저 수는 {0}명 이고, \\n영화의 수는 {1}개 입니다'.format(user_num,movie_num))"
   ]
  },
  {
   "cell_type": "markdown",
   "metadata": {},
   "source": [
    "# [과제 2-a] 유사 사용자 탐색 "
   ]
  },
  {
   "cell_type": "code",
   "execution_count": 5,
   "metadata": {},
   "outputs": [],
   "source": [
    "data = pd.merge(df, df_user, on = ['userId'],how = 'left')\n",
    "data['Count'] = 1"
   ]
  },
  {
   "cell_type": "markdown",
   "metadata": {},
   "source": [
    "### 가장 많은 평점을 남긴 사용자 10명의 2번째 리뷰 "
   ]
  },
  {
   "cell_type": "code",
   "execution_count": 6,
   "metadata": {},
   "outputs": [
    {
     "data": {
      "text/html": [
       "<div>\n",
       "<style scoped>\n",
       "    .dataframe tbody tr th:only-of-type {\n",
       "        vertical-align: middle;\n",
       "    }\n",
       "\n",
       "    .dataframe tbody tr th {\n",
       "        vertical-align: top;\n",
       "    }\n",
       "\n",
       "    .dataframe thead th {\n",
       "        text-align: right;\n",
       "    }\n",
       "</style>\n",
       "<table border=\"1\" class=\"dataframe\">\n",
       "  <thead>\n",
       "    <tr style=\"text-align: right;\">\n",
       "      <th></th>\n",
       "      <th>userId</th>\n",
       "      <th>rating</th>\n",
       "      <th>movieId</th>\n",
       "      <th>reviewNo</th>\n",
       "    </tr>\n",
       "  </thead>\n",
       "  <tbody>\n",
       "    <tr>\n",
       "      <th>0</th>\n",
       "      <td>ykm3</td>\n",
       "      <td>3</td>\n",
       "      <td>145162</td>\n",
       "      <td>15771936</td>\n",
       "    </tr>\n",
       "    <tr>\n",
       "      <th>1</th>\n",
       "      <td>sang</td>\n",
       "      <td>10</td>\n",
       "      <td>161967</td>\n",
       "      <td>15771961</td>\n",
       "    </tr>\n",
       "    <tr>\n",
       "      <th>2</th>\n",
       "      <td>tsp0</td>\n",
       "      <td>7</td>\n",
       "      <td>163788</td>\n",
       "      <td>15771934</td>\n",
       "    </tr>\n",
       "    <tr>\n",
       "      <th>3</th>\n",
       "      <td>hosu</td>\n",
       "      <td>7</td>\n",
       "      <td>180399</td>\n",
       "      <td>15771998</td>\n",
       "    </tr>\n",
       "    <tr>\n",
       "      <th>4</th>\n",
       "      <td>zxcv</td>\n",
       "      <td>10</td>\n",
       "      <td>86507</td>\n",
       "      <td>15772036</td>\n",
       "    </tr>\n",
       "    <tr>\n",
       "      <th>5</th>\n",
       "      <td>zard</td>\n",
       "      <td>10</td>\n",
       "      <td>158653</td>\n",
       "      <td>15772012</td>\n",
       "    </tr>\n",
       "    <tr>\n",
       "      <th>6</th>\n",
       "      <td>artn</td>\n",
       "      <td>10</td>\n",
       "      <td>172174</td>\n",
       "      <td>15771948</td>\n",
       "    </tr>\n",
       "    <tr>\n",
       "      <th>7</th>\n",
       "      <td>suha</td>\n",
       "      <td>7</td>\n",
       "      <td>180399</td>\n",
       "      <td>15771976</td>\n",
       "    </tr>\n",
       "    <tr>\n",
       "      <th>8</th>\n",
       "      <td>ldsl</td>\n",
       "      <td>1</td>\n",
       "      <td>157297</td>\n",
       "      <td>15771977</td>\n",
       "    </tr>\n",
       "    <tr>\n",
       "      <th>9</th>\n",
       "      <td>imag</td>\n",
       "      <td>9</td>\n",
       "      <td>181409</td>\n",
       "      <td>15771940</td>\n",
       "    </tr>\n",
       "  </tbody>\n",
       "</table>\n",
       "</div>"
      ],
      "text/plain": [
       "  userId  rating  movieId  reviewNo\n",
       "0   ykm3       3   145162  15771936\n",
       "1   sang      10   161967  15771961\n",
       "2   tsp0       7   163788  15771934\n",
       "3   hosu       7   180399  15771998\n",
       "4   zxcv      10    86507  15772036\n",
       "5   zard      10   158653  15772012\n",
       "6   artn      10   172174  15771948\n",
       "7   suha       7   180399  15771976\n",
       "8   ldsl       1   157297  15771977\n",
       "9   imag       9   181409  15771940"
      ]
     },
     "execution_count": 6,
     "metadata": {},
     "output_type": "execute_result"
    }
   ],
   "source": [
    "Top10 = data.groupby(['userId'])['Count'].sum().nlargest(10).reset_index()\n",
    "data = data[True == data.duplicated(['reviewNo'], keep='first')]\n",
    "data = data[False == data.duplicated(['reviewNo'], keep='first')]\n",
    "del Top10['Count']\n",
    "del data['Count']\n",
    "Top10 = pd.merge(Top10, data, on = ['userId'],how = 'left')\n",
    "Top10.head(10)"
   ]
  },
  {
   "cell_type": "code",
   "execution_count": 7,
   "metadata": {},
   "outputs": [
    {
     "data": {
      "text/html": [
       "<div>\n",
       "<style scoped>\n",
       "    .dataframe tbody tr th:only-of-type {\n",
       "        vertical-align: middle;\n",
       "    }\n",
       "\n",
       "    .dataframe tbody tr th {\n",
       "        vertical-align: top;\n",
       "    }\n",
       "\n",
       "    .dataframe thead th {\n",
       "        text-align: right;\n",
       "    }\n",
       "</style>\n",
       "<table border=\"1\" class=\"dataframe\">\n",
       "  <thead>\n",
       "    <tr style=\"text-align: right;\">\n",
       "      <th></th>\n",
       "      <th>userId</th>\n",
       "      <th>rating</th>\n",
       "      <th>movieId</th>\n",
       "      <th>reviewNo</th>\n",
       "    </tr>\n",
       "  </thead>\n",
       "  <tbody>\n",
       "    <tr>\n",
       "      <th>0</th>\n",
       "      <td>airf</td>\n",
       "      <td>2</td>\n",
       "      <td>136900</td>\n",
       "      <td>15772038</td>\n",
       "    </tr>\n",
       "    <tr>\n",
       "      <th>1</th>\n",
       "      <td>airf</td>\n",
       "      <td>10</td>\n",
       "      <td>163788</td>\n",
       "      <td>15772038</td>\n",
       "    </tr>\n",
       "    <tr>\n",
       "      <th>2</th>\n",
       "      <td>airf</td>\n",
       "      <td>10</td>\n",
       "      <td>174065</td>\n",
       "      <td>15772038</td>\n",
       "    </tr>\n",
       "    <tr>\n",
       "      <th>3</th>\n",
       "      <td>nanw</td>\n",
       "      <td>10</td>\n",
       "      <td>154667</td>\n",
       "      <td>15772037</td>\n",
       "    </tr>\n",
       "    <tr>\n",
       "      <th>4</th>\n",
       "      <td>nanw</td>\n",
       "      <td>10</td>\n",
       "      <td>136900</td>\n",
       "      <td>15772037</td>\n",
       "    </tr>\n",
       "  </tbody>\n",
       "</table>\n",
       "</div>"
      ],
      "text/plain": [
       "  userId  rating  movieId  reviewNo\n",
       "0   airf       2   136900  15772038\n",
       "1   airf      10   163788  15772038\n",
       "2   airf      10   174065  15772038\n",
       "3   nanw      10   154667  15772037\n",
       "4   nanw      10   136900  15772037"
      ]
     },
     "execution_count": 7,
     "metadata": {},
     "output_type": "execute_result"
    }
   ],
   "source": [
    "df = pd.merge(df, df_user, on = ['userId'],how = 'left')\n",
    "df.head()"
   ]
  },
  {
   "cell_type": "code",
   "execution_count": 8,
   "metadata": {},
   "outputs": [
    {
     "data": {
      "text/html": [
       "<div>\n",
       "<style scoped>\n",
       "    .dataframe tbody tr th:only-of-type {\n",
       "        vertical-align: middle;\n",
       "    }\n",
       "\n",
       "    .dataframe tbody tr th {\n",
       "        vertical-align: top;\n",
       "    }\n",
       "\n",
       "    .dataframe thead th {\n",
       "        text-align: right;\n",
       "    }\n",
       "</style>\n",
       "<table border=\"1\" class=\"dataframe\">\n",
       "  <thead>\n",
       "    <tr style=\"text-align: right;\">\n",
       "      <th>movieId</th>\n",
       "      <th>10002</th>\n",
       "      <th>10003</th>\n",
       "      <th>10004</th>\n",
       "      <th>10005</th>\n",
       "      <th>10006</th>\n",
       "      <th>10008</th>\n",
       "      <th>10009</th>\n",
       "      <th>10012</th>\n",
       "      <th>10016</th>\n",
       "      <th>10018</th>\n",
       "      <th>...</th>\n",
       "      <th>181409</th>\n",
       "      <th>181410</th>\n",
       "      <th>181411</th>\n",
       "      <th>181414</th>\n",
       "      <th>181419</th>\n",
       "      <th>181711</th>\n",
       "      <th>182348</th>\n",
       "      <th>182360</th>\n",
       "      <th>183132</th>\n",
       "      <th>183877</th>\n",
       "    </tr>\n",
       "    <tr>\n",
       "      <th>reviewNo</th>\n",
       "      <th></th>\n",
       "      <th></th>\n",
       "      <th></th>\n",
       "      <th></th>\n",
       "      <th></th>\n",
       "      <th></th>\n",
       "      <th></th>\n",
       "      <th></th>\n",
       "      <th></th>\n",
       "      <th></th>\n",
       "      <th></th>\n",
       "      <th></th>\n",
       "      <th></th>\n",
       "      <th></th>\n",
       "      <th></th>\n",
       "      <th></th>\n",
       "      <th></th>\n",
       "      <th></th>\n",
       "      <th></th>\n",
       "      <th></th>\n",
       "      <th></th>\n",
       "    </tr>\n",
       "  </thead>\n",
       "  <tbody>\n",
       "    <tr>\n",
       "      <th>15771922</th>\n",
       "      <td>NaN</td>\n",
       "      <td>NaN</td>\n",
       "      <td>NaN</td>\n",
       "      <td>NaN</td>\n",
       "      <td>NaN</td>\n",
       "      <td>NaN</td>\n",
       "      <td>NaN</td>\n",
       "      <td>NaN</td>\n",
       "      <td>NaN</td>\n",
       "      <td>NaN</td>\n",
       "      <td>...</td>\n",
       "      <td>NaN</td>\n",
       "      <td>NaN</td>\n",
       "      <td>NaN</td>\n",
       "      <td>NaN</td>\n",
       "      <td>NaN</td>\n",
       "      <td>NaN</td>\n",
       "      <td>NaN</td>\n",
       "      <td>NaN</td>\n",
       "      <td>NaN</td>\n",
       "      <td>NaN</td>\n",
       "    </tr>\n",
       "    <tr>\n",
       "      <th>15771925</th>\n",
       "      <td>NaN</td>\n",
       "      <td>NaN</td>\n",
       "      <td>NaN</td>\n",
       "      <td>NaN</td>\n",
       "      <td>NaN</td>\n",
       "      <td>NaN</td>\n",
       "      <td>NaN</td>\n",
       "      <td>NaN</td>\n",
       "      <td>NaN</td>\n",
       "      <td>NaN</td>\n",
       "      <td>...</td>\n",
       "      <td>NaN</td>\n",
       "      <td>8.0</td>\n",
       "      <td>NaN</td>\n",
       "      <td>NaN</td>\n",
       "      <td>NaN</td>\n",
       "      <td>NaN</td>\n",
       "      <td>NaN</td>\n",
       "      <td>NaN</td>\n",
       "      <td>NaN</td>\n",
       "      <td>NaN</td>\n",
       "    </tr>\n",
       "    <tr>\n",
       "      <th>15771926</th>\n",
       "      <td>NaN</td>\n",
       "      <td>NaN</td>\n",
       "      <td>NaN</td>\n",
       "      <td>NaN</td>\n",
       "      <td>NaN</td>\n",
       "      <td>NaN</td>\n",
       "      <td>NaN</td>\n",
       "      <td>NaN</td>\n",
       "      <td>NaN</td>\n",
       "      <td>NaN</td>\n",
       "      <td>...</td>\n",
       "      <td>NaN</td>\n",
       "      <td>NaN</td>\n",
       "      <td>NaN</td>\n",
       "      <td>NaN</td>\n",
       "      <td>NaN</td>\n",
       "      <td>NaN</td>\n",
       "      <td>NaN</td>\n",
       "      <td>NaN</td>\n",
       "      <td>NaN</td>\n",
       "      <td>NaN</td>\n",
       "    </tr>\n",
       "    <tr>\n",
       "      <th>15771927</th>\n",
       "      <td>NaN</td>\n",
       "      <td>NaN</td>\n",
       "      <td>NaN</td>\n",
       "      <td>NaN</td>\n",
       "      <td>NaN</td>\n",
       "      <td>NaN</td>\n",
       "      <td>NaN</td>\n",
       "      <td>NaN</td>\n",
       "      <td>NaN</td>\n",
       "      <td>NaN</td>\n",
       "      <td>...</td>\n",
       "      <td>NaN</td>\n",
       "      <td>NaN</td>\n",
       "      <td>NaN</td>\n",
       "      <td>NaN</td>\n",
       "      <td>NaN</td>\n",
       "      <td>NaN</td>\n",
       "      <td>NaN</td>\n",
       "      <td>NaN</td>\n",
       "      <td>NaN</td>\n",
       "      <td>NaN</td>\n",
       "    </tr>\n",
       "    <tr>\n",
       "      <th>15771929</th>\n",
       "      <td>NaN</td>\n",
       "      <td>NaN</td>\n",
       "      <td>NaN</td>\n",
       "      <td>NaN</td>\n",
       "      <td>NaN</td>\n",
       "      <td>NaN</td>\n",
       "      <td>NaN</td>\n",
       "      <td>NaN</td>\n",
       "      <td>NaN</td>\n",
       "      <td>NaN</td>\n",
       "      <td>...</td>\n",
       "      <td>NaN</td>\n",
       "      <td>NaN</td>\n",
       "      <td>NaN</td>\n",
       "      <td>NaN</td>\n",
       "      <td>NaN</td>\n",
       "      <td>NaN</td>\n",
       "      <td>NaN</td>\n",
       "      <td>NaN</td>\n",
       "      <td>NaN</td>\n",
       "      <td>NaN</td>\n",
       "    </tr>\n",
       "  </tbody>\n",
       "</table>\n",
       "<p>5 rows × 2697 columns</p>\n",
       "</div>"
      ],
      "text/plain": [
       "movieId   10002   10003   10004   10005   10006   10008   10009   10012   \\\n",
       "reviewNo                                                                   \n",
       "15771922     NaN     NaN     NaN     NaN     NaN     NaN     NaN     NaN   \n",
       "15771925     NaN     NaN     NaN     NaN     NaN     NaN     NaN     NaN   \n",
       "15771926     NaN     NaN     NaN     NaN     NaN     NaN     NaN     NaN   \n",
       "15771927     NaN     NaN     NaN     NaN     NaN     NaN     NaN     NaN   \n",
       "15771929     NaN     NaN     NaN     NaN     NaN     NaN     NaN     NaN   \n",
       "\n",
       "movieId   10016   10018   ...  181409  181410  181411  181414  181419  181711  \\\n",
       "reviewNo                  ...                                                   \n",
       "15771922     NaN     NaN  ...     NaN     NaN     NaN     NaN     NaN     NaN   \n",
       "15771925     NaN     NaN  ...     NaN     8.0     NaN     NaN     NaN     NaN   \n",
       "15771926     NaN     NaN  ...     NaN     NaN     NaN     NaN     NaN     NaN   \n",
       "15771927     NaN     NaN  ...     NaN     NaN     NaN     NaN     NaN     NaN   \n",
       "15771929     NaN     NaN  ...     NaN     NaN     NaN     NaN     NaN     NaN   \n",
       "\n",
       "movieId   182348  182360  183132  183877  \n",
       "reviewNo                                  \n",
       "15771922     NaN     NaN     NaN     NaN  \n",
       "15771925     NaN     NaN     NaN     NaN  \n",
       "15771926     NaN     NaN     NaN     NaN  \n",
       "15771927     NaN     NaN     NaN     NaN  \n",
       "15771929     NaN     NaN     NaN     NaN  \n",
       "\n",
       "[5 rows x 2697 columns]"
      ]
     },
     "execution_count": 8,
     "metadata": {},
     "output_type": "execute_result"
    }
   ],
   "source": [
    "UM_matrix_ds = df.pivot(index ='reviewNo', columns = 'movieId',values = 'rating')\n",
    "UM_matrix_ds.head(5)"
   ]
  },
  {
   "cell_type": "markdown",
   "metadata": {},
   "source": [
    "### 유사 사용자 탐색을 위해 선언 "
   ]
  },
  {
   "cell_type": "code",
   "execution_count": 9,
   "metadata": {},
   "outputs": [],
   "source": [
    "def distance_cosine(a,b):\n",
    "    return 1-distance.cosine(a,b)"
   ]
  },
  {
   "cell_type": "code",
   "execution_count": 10,
   "metadata": {},
   "outputs": [],
   "source": [
    "def distance_correlation(a,b):\n",
    "    return 1-distance.correlation(a,b)"
   ]
  },
  {
   "cell_type": "code",
   "execution_count": 11,
   "metadata": {},
   "outputs": [],
   "source": [
    "def distance_euclidean(a,b):\n",
    "    return 1/(1+distance.euclidean(a,b))"
   ]
  },
  {
   "cell_type": "code",
   "execution_count": 12,
   "metadata": {},
   "outputs": [],
   "source": [
    "def nearest_neighbor_user(user, topN, simFunc):\n",
    "    u1 = UM_matrix_ds.loc[user].dropna()\n",
    "    ratedIndex = u1.index\n",
    "    nn = {}\n",
    "    \n",
    "    for uid, row in UM_matrix_ds.iterrows():\n",
    "        interSectionU1 = []\n",
    "        interSectionU2 = []\n",
    "        if uid == user : continue\n",
    "        for i in ratedIndex:\n",
    "            if not math.isnan(row[i]):\n",
    "                interSectionU1.append(u1[i])\n",
    "                interSectionU2.append(row[i])\n",
    "        interSectionLen = len(interSectionU1)\n",
    "        \n",
    "        if interSectionLen < 3: continue\n",
    "        sim = simFunc(interSectionU1, interSectionU2)\n",
    "        \n",
    "        if not math.isnan(sim): nn[uid] = sim\n",
    "    return sorted(nn.items(), key=itemgetter(1))[:-(topN+1):-1]"
   ]
  },
  {
   "cell_type": "markdown",
   "metadata": {},
   "source": [
    "### [과제 2-a] 결과 - Cosine"
   ]
  },
  {
   "cell_type": "code",
   "execution_count": 13,
   "metadata": {
    "scrolled": true
   },
   "outputs": [
    {
     "name": "stdout",
     "output_type": "stream",
     "text": [
      "Cosine 결과\n",
      "User 15771936 neighbors : [[15771972, 1.0], [15771993, 0.97], [15772003, 0.95]]\n",
      "User 15771961 neighbors : [[15771947, 1.0], [15771970, 1.0], [15771944, 1.0]]\n",
      "User 15771934 neighbors : [[15771942, 1.0], [15772009, 1.0], [15771970, 0.99]]\n",
      "User 15771998 neighbors : [[15771970, 1.0], [15771965, 1.0], [15771947, 1.0]]\n",
      "User 15772036 neighbors : [[15771959, 1.0], [15771943, 0.98], [15771966, 0.98]]\n",
      "User 15772012 neighbors : [[15772003, 1.0], [15772016, 0.95], [15772000, 0.92]]\n",
      "User 15771948 neighbors : [[15771966, 1.0], [15771945, 1.0], [15771943, 0.98]]\n",
      "User 15771976 neighbors : [[15771966, 1.0], [15771947, 1.0], [15771926, 1.0]]\n",
      "User 15771977 neighbors : [[15771971, 1.0], [15771959, 1.0], [15771938, 0.99]]\n",
      "User 15771940 neighbors : [[15771993, 1.0], [15771947, 1.0], [15771981, 1.0]]\n"
     ]
    }
   ],
   "source": [
    "print('Cosine 결과')\n",
    "topN = 3\n",
    "for user in Top10['reviewNo']:\n",
    "    neighbor = []\n",
    "    nearest = nearest_neighbor_user(int(user),3,distance_cosine)\n",
    "    for i in range(0,topN):\n",
    "        neighbor.append([nearest[i][0], round(nearest[i][1],2)])\n",
    "    print('User {0} neighbors : {1}'.format(user, neighbor))"
   ]
  },
  {
   "cell_type": "markdown",
   "metadata": {},
   "source": [
    "### [과제 2-a] 결과 - Correlation"
   ]
  },
  {
   "cell_type": "code",
   "execution_count": 14,
   "metadata": {
    "scrolled": true
   },
   "outputs": [
    {
     "name": "stdout",
     "output_type": "stream",
     "text": [
      "Correlation 결과\n"
     ]
    },
    {
     "name": "stderr",
     "output_type": "stream",
     "text": [
      "C:\\Users\\KIMJINSEOP\\Anaconda3\\lib\\site-packages\\scipy\\spatial\\distance.py:702: RuntimeWarning: invalid value encountered in double_scalars\n",
      "  dist = 1.0 - uv / np.sqrt(uu * vv)\n"
     ]
    },
    {
     "name": "stdout",
     "output_type": "stream",
     "text": [
      "User 15771936 neighbors : [[15771993, 1.0], [15772022, 0.69], [15772019, 0.5]]\n",
      "User 15771961 neighbors : [[15771972, 1.0], [15772015, 0.94], [15771974, 0.93]]\n",
      "User 15771934 neighbors : [[15771942, 1.0], [15772030, 0.98], [15771947, 0.96]]\n",
      "User 15771998 neighbors : [[15772005, 0.89], [15771922, 0.88], [15771977, 0.66]]\n",
      "User 15772036 neighbors : [[15771966, 0.97], [15771943, 0.94], [15771971, 0.62]]\n",
      "User 15772012 neighbors : [[15772016, 0.94], [15771974, 0.58], [15771969, 0.58]]\n",
      "User 15771948 neighbors : [[15771943, 0.94], [15771938, 0.73], [15771926, 0.59]]\n",
      "User 15771976 neighbors : [[15771940, 0.85], [15771974, 0.58], [15771927, 0.53]]\n",
      "User 15771977 neighbors : [[15771971, 1.0], [15771959, 1.0], [15771998, 0.66]]\n",
      "User 15771940 neighbors : [[15771981, 0.98], [15771995, 0.97], [15771974, 0.94]]\n"
     ]
    }
   ],
   "source": [
    "print('Correlation 결과')\n",
    "topN = 3\n",
    "for user in Top10['reviewNo']:\n",
    "    neighbor = []\n",
    "    nearest = nearest_neighbor_user(int(user),3,distance_correlation)\n",
    "    for i in range(0,topN):\n",
    "        neighbor.append([nearest[i][0], round(nearest[i][1],2)])\n",
    "    print('User {0} neighbors : {1}'.format(user, neighbor))"
   ]
  },
  {
   "cell_type": "markdown",
   "metadata": {},
   "source": [
    "### [과제 2-a] 결과 - Euclidean"
   ]
  },
  {
   "cell_type": "code",
   "execution_count": 15,
   "metadata": {},
   "outputs": [
    {
     "name": "stdout",
     "output_type": "stream",
     "text": [
      "Euclidean 결과\n",
      "User 15771936 neighbors : [[15771972, 0.25], [15771993, 0.2], [15772020, 0.12]]\n",
      "User 15771961 neighbors : [[15772031, 0.33], [15771970, 0.33], [15771954, 0.33]]\n",
      "User 15771934 neighbors : [[15772030, 0.41], [15771988, 0.29], [15772003, 0.25]]\n",
      "User 15771998 neighbors : [[15771922, 0.17], [15772030, 0.16], [15772005, 0.15]]\n",
      "User 15772036 neighbors : [[15771959, 1.0], [15771943, 0.24], [15772022, 0.19]]\n",
      "User 15772012 neighbors : [[15772016, 0.22], [15772003, 0.15], [15771974, 0.13]]\n",
      "User 15771948 neighbors : [[15771945, 0.41], [15771943, 0.23], [15771938, 0.15]]\n",
      "User 15771976 neighbors : [[15771974, 0.31], [15771926, 0.31], [15771966, 0.29]]\n",
      "User 15771977 neighbors : [[15771971, 1.0], [15771959, 0.5], [15771938, 0.25]]\n",
      "User 15771940 neighbors : [[15771993, 1.0], [15771947, 1.0], [15771981, 0.33]]\n"
     ]
    }
   ],
   "source": [
    "print('Euclidean 결과')\n",
    "topN = 3\n",
    "for user in Top10['reviewNo']:\n",
    "    neighbor = []\n",
    "    nearest = nearest_neighbor_user(int(user),3,distance_euclidean)\n",
    "    for i in range(0,topN):\n",
    "        neighbor.append([nearest[i][0], round(nearest[i][1],2)])\n",
    "    print('User {0} neighbors : {1}'.format(user, neighbor))"
   ]
  },
  {
   "cell_type": "markdown",
   "metadata": {},
   "source": [
    "# [과제 2-b] 영화 평점 예측"
   ]
  },
  {
   "cell_type": "code",
   "execution_count": 16,
   "metadata": {},
   "outputs": [],
   "source": [
    "def predict_rating(userid, nn= 100, simFunc= distance_cosine):\n",
    "    neighbor = nearest_neighbor_user(userid,nn,simFunc)\n",
    "    neigbor_id = [id for id, sim in neighbor]\n",
    "    \n",
    "    neighbor_movie = UM_matrix_ds.loc[neigbor_id].dropna(1,how = 'all', thresh = 1)\n",
    "    neighbor_dict = (dict(neighbor))\n",
    "    ret = []\n",
    "    \n",
    "    for movieId, row in neighbor_movie.iteritems():\n",
    "        jsum, wsum = 0, 0\n",
    "        for v in row.dropna().iteritems():\n",
    "            sim = neighbor_dict.get(v[0],0)\n",
    "            jsum += sim\n",
    "            wsum += (v[1]*sim)\n",
    "        ret.append([movieId,wsum/jsum])\n",
    "    return ret"
   ]
  },
  {
   "cell_type": "markdown",
   "metadata": {},
   "source": [
    "### [과제 2-b] Cosine 예측 결과"
   ]
  },
  {
   "cell_type": "code",
   "execution_count": 17,
   "metadata": {},
   "outputs": [
    {
     "name": "stdout",
     "output_type": "stream",
     "text": [
      "Cosine 결과\n"
     ]
    },
    {
     "data": {
      "text/html": [
       "<div>\n",
       "<style scoped>\n",
       "    .dataframe tbody tr th:only-of-type {\n",
       "        vertical-align: middle;\n",
       "    }\n",
       "\n",
       "    .dataframe tbody tr th {\n",
       "        vertical-align: top;\n",
       "    }\n",
       "\n",
       "    .dataframe thead th {\n",
       "        text-align: right;\n",
       "    }\n",
       "</style>\n",
       "<table border=\"1\" class=\"dataframe\">\n",
       "  <thead>\n",
       "    <tr style=\"text-align: right;\">\n",
       "      <th></th>\n",
       "      <th>userId</th>\n",
       "      <th>movieId</th>\n",
       "      <th>rating</th>\n",
       "    </tr>\n",
       "  </thead>\n",
       "  <tbody>\n",
       "    <tr>\n",
       "      <th>0</th>\n",
       "      <td>15771936</td>\n",
       "      <td>145162</td>\n",
       "      <td>5.796201</td>\n",
       "    </tr>\n",
       "    <tr>\n",
       "      <th>1</th>\n",
       "      <td>15771961</td>\n",
       "      <td>161967</td>\n",
       "      <td>8.595640</td>\n",
       "    </tr>\n",
       "    <tr>\n",
       "      <th>2</th>\n",
       "      <td>15771934</td>\n",
       "      <td>163788</td>\n",
       "      <td>9.150525</td>\n",
       "    </tr>\n",
       "    <tr>\n",
       "      <th>3</th>\n",
       "      <td>15771998</td>\n",
       "      <td>180399</td>\n",
       "      <td>7.000000</td>\n",
       "    </tr>\n",
       "    <tr>\n",
       "      <th>4</th>\n",
       "      <td>15772036</td>\n",
       "      <td>86507</td>\n",
       "      <td>8.561077</td>\n",
       "    </tr>\n",
       "    <tr>\n",
       "      <th>5</th>\n",
       "      <td>15771976</td>\n",
       "      <td>180399</td>\n",
       "      <td>7.000000</td>\n",
       "    </tr>\n",
       "    <tr>\n",
       "      <th>6</th>\n",
       "      <td>15771977</td>\n",
       "      <td>157297</td>\n",
       "      <td>5.800920</td>\n",
       "    </tr>\n",
       "  </tbody>\n",
       "</table>\n",
       "</div>"
      ],
      "text/plain": [
       "     userId  movieId    rating\n",
       "0  15771936   145162  5.796201\n",
       "1  15771961   161967  8.595640\n",
       "2  15771934   163788  9.150525\n",
       "3  15771998   180399  7.000000\n",
       "4  15772036    86507  8.561077\n",
       "5  15771976   180399  7.000000\n",
       "6  15771977   157297  5.800920"
      ]
     },
     "execution_count": 17,
     "metadata": {},
     "output_type": "execute_result"
    }
   ],
   "source": [
    "result = []\n",
    "for i in range(10):\n",
    "    userId = int(Top10.iloc[i].reviewNo)\n",
    "    movieId = int(Top10.iloc[i].movieId)\n",
    "    predict = predict_rating(userId, 300, distance_cosine)\n",
    "    \n",
    "    for movie in predict:\n",
    "        if movieId == movie[0]:\n",
    "            result.append([int(userId), int(movieId),movie[1]])\n",
    "resultdf = pd.DataFrame(result, columns=['userId','movieId','rating'])\n",
    "print('Cosine 결과')\n",
    "resultdf"
   ]
  },
  {
   "cell_type": "code",
   "execution_count": 18,
   "metadata": {},
   "outputs": [
    {
     "name": "stdout",
     "output_type": "stream",
     "text": [
      "\n",
      "Error Rate(Absolute) :  1.798704122760153\n",
      "Error Rate(Squared) :  5.6478653086387975\n"
     ]
    }
   ],
   "source": [
    "realdata_rating = []\n",
    "for userid in resultdf['userId']:\n",
    "    realdata_rating.append(float(Top10[Top10['reviewNo'] == userid]['rating']))\n",
    "\n",
    "resultdata_rating = resultdf.rating.tolist()\n",
    "\n",
    "error_rate_absol = mean_absolute_error(realdata_rating, resultdata_rating)\n",
    "error_rate_squared = mean_squared_error(realdata_rating, resultdata_rating)\n",
    "print('\\nError Rate(Absolute) : ',error_rate_absol)\n",
    "print('Error Rate(Squared) : ',error_rate_squared)"
   ]
  },
  {
   "cell_type": "markdown",
   "metadata": {},
   "source": [
    "### [과제 2-b] Correlation 예측 결과"
   ]
  },
  {
   "cell_type": "code",
   "execution_count": 19,
   "metadata": {},
   "outputs": [
    {
     "name": "stderr",
     "output_type": "stream",
     "text": [
      "C:\\Users\\KIMJINSEOP\\Anaconda3\\lib\\site-packages\\scipy\\spatial\\distance.py:702: RuntimeWarning: invalid value encountered in double_scalars\n",
      "  dist = 1.0 - uv / np.sqrt(uu * vv)\n",
      "C:\\Users\\KIMJINSEOP\\Anaconda3\\lib\\site-packages\\ipykernel_launcher.py:15: RuntimeWarning: invalid value encountered in double_scalars\n",
      "  from ipykernel import kernelapp as app\n"
     ]
    },
    {
     "name": "stdout",
     "output_type": "stream",
     "text": [
      "Correlation 결과\n"
     ]
    },
    {
     "data": {
      "text/html": [
       "<div>\n",
       "<style scoped>\n",
       "    .dataframe tbody tr th:only-of-type {\n",
       "        vertical-align: middle;\n",
       "    }\n",
       "\n",
       "    .dataframe tbody tr th {\n",
       "        vertical-align: top;\n",
       "    }\n",
       "\n",
       "    .dataframe thead th {\n",
       "        text-align: right;\n",
       "    }\n",
       "</style>\n",
       "<table border=\"1\" class=\"dataframe\">\n",
       "  <thead>\n",
       "    <tr style=\"text-align: right;\">\n",
       "      <th></th>\n",
       "      <th>userId</th>\n",
       "      <th>movieId</th>\n",
       "      <th>rating</th>\n",
       "    </tr>\n",
       "  </thead>\n",
       "  <tbody>\n",
       "    <tr>\n",
       "      <th>0</th>\n",
       "      <td>15771936</td>\n",
       "      <td>145162</td>\n",
       "      <td>5.433217</td>\n",
       "    </tr>\n",
       "    <tr>\n",
       "      <th>1</th>\n",
       "      <td>15771961</td>\n",
       "      <td>161967</td>\n",
       "      <td>10.715807</td>\n",
       "    </tr>\n",
       "    <tr>\n",
       "      <th>2</th>\n",
       "      <td>15771934</td>\n",
       "      <td>163788</td>\n",
       "      <td>15.406481</td>\n",
       "    </tr>\n",
       "    <tr>\n",
       "      <th>3</th>\n",
       "      <td>15771998</td>\n",
       "      <td>180399</td>\n",
       "      <td>7.000000</td>\n",
       "    </tr>\n",
       "    <tr>\n",
       "      <th>4</th>\n",
       "      <td>15772036</td>\n",
       "      <td>86507</td>\n",
       "      <td>11.304849</td>\n",
       "    </tr>\n",
       "    <tr>\n",
       "      <th>5</th>\n",
       "      <td>15771976</td>\n",
       "      <td>180399</td>\n",
       "      <td>7.000000</td>\n",
       "    </tr>\n",
       "    <tr>\n",
       "      <th>6</th>\n",
       "      <td>15771977</td>\n",
       "      <td>157297</td>\n",
       "      <td>0.954683</td>\n",
       "    </tr>\n",
       "  </tbody>\n",
       "</table>\n",
       "</div>"
      ],
      "text/plain": [
       "     userId  movieId     rating\n",
       "0  15771936   145162   5.433217\n",
       "1  15771961   161967  10.715807\n",
       "2  15771934   163788  15.406481\n",
       "3  15771998   180399   7.000000\n",
       "4  15772036    86507  11.304849\n",
       "5  15771976   180399   7.000000\n",
       "6  15771977   157297   0.954683"
      ]
     },
     "execution_count": 19,
     "metadata": {},
     "output_type": "execute_result"
    }
   ],
   "source": [
    "result = []\n",
    "for i in range(10):\n",
    "    userId = int(Top10.iloc[i].reviewNo)\n",
    "    movieId = int(Top10.iloc[i].movieId)\n",
    "    predict = predict_rating(userId, 300, distance_correlation)\n",
    "    \n",
    "    for movie in predict:\n",
    "        if movieId == movie[0]:\n",
    "            result.append([int(userId), int(movieId),movie[1]])\n",
    "resultdf = pd.DataFrame(result, columns=['userId','movieId','rating'])\n",
    "print('Correlation 결과')\n",
    "resultdf"
   ]
  },
  {
   "cell_type": "code",
   "execution_count": 20,
   "metadata": {},
   "outputs": [
    {
     "name": "stdout",
     "output_type": "stream",
     "text": [
      "\n",
      "Error Rate(Absolute) :  1.8436674517673026\n",
      "Error Rate(Squared) :  11.258077133072339\n"
     ]
    }
   ],
   "source": [
    "realdata_rating = []\n",
    "for userid in resultdf['userId']:\n",
    "    realdata_rating.append(float(Top10[Top10['reviewNo'] == userid]['rating']))\n",
    "\n",
    "resultdata_rating = resultdf.rating.tolist()\n",
    "\n",
    "error_rate_absol = mean_absolute_error(realdata_rating, resultdata_rating)\n",
    "error_rate_squared = mean_squared_error(realdata_rating, resultdata_rating)\n",
    "print('\\nError Rate(Absolute) : ',error_rate_absol)\n",
    "print('Error Rate(Squared) : ',error_rate_squared)"
   ]
  },
  {
   "cell_type": "markdown",
   "metadata": {},
   "source": [
    "### [과제 2-b]Euclidean 예측 결과"
   ]
  },
  {
   "cell_type": "code",
   "execution_count": 21,
   "metadata": {},
   "outputs": [
    {
     "name": "stdout",
     "output_type": "stream",
     "text": [
      "Euclidean 결과\n"
     ]
    },
    {
     "data": {
      "text/html": [
       "<div>\n",
       "<style scoped>\n",
       "    .dataframe tbody tr th:only-of-type {\n",
       "        vertical-align: middle;\n",
       "    }\n",
       "\n",
       "    .dataframe tbody tr th {\n",
       "        vertical-align: top;\n",
       "    }\n",
       "\n",
       "    .dataframe thead th {\n",
       "        text-align: right;\n",
       "    }\n",
       "</style>\n",
       "<table border=\"1\" class=\"dataframe\">\n",
       "  <thead>\n",
       "    <tr style=\"text-align: right;\">\n",
       "      <th></th>\n",
       "      <th>userId</th>\n",
       "      <th>movieId</th>\n",
       "      <th>rating</th>\n",
       "    </tr>\n",
       "  </thead>\n",
       "  <tbody>\n",
       "    <tr>\n",
       "      <th>0</th>\n",
       "      <td>15771936</td>\n",
       "      <td>145162</td>\n",
       "      <td>4.649008</td>\n",
       "    </tr>\n",
       "    <tr>\n",
       "      <th>1</th>\n",
       "      <td>15771961</td>\n",
       "      <td>161967</td>\n",
       "      <td>9.263031</td>\n",
       "    </tr>\n",
       "    <tr>\n",
       "      <th>2</th>\n",
       "      <td>15771934</td>\n",
       "      <td>163788</td>\n",
       "      <td>8.956179</td>\n",
       "    </tr>\n",
       "    <tr>\n",
       "      <th>3</th>\n",
       "      <td>15771998</td>\n",
       "      <td>180399</td>\n",
       "      <td>7.000000</td>\n",
       "    </tr>\n",
       "    <tr>\n",
       "      <th>4</th>\n",
       "      <td>15772036</td>\n",
       "      <td>86507</td>\n",
       "      <td>8.054289</td>\n",
       "    </tr>\n",
       "    <tr>\n",
       "      <th>5</th>\n",
       "      <td>15771976</td>\n",
       "      <td>180399</td>\n",
       "      <td>7.000000</td>\n",
       "    </tr>\n",
       "    <tr>\n",
       "      <th>6</th>\n",
       "      <td>15771977</td>\n",
       "      <td>157297</td>\n",
       "      <td>6.588583</td>\n",
       "    </tr>\n",
       "  </tbody>\n",
       "</table>\n",
       "</div>"
      ],
      "text/plain": [
       "     userId  movieId    rating\n",
       "0  15771936   145162  4.649008\n",
       "1  15771961   161967  9.263031\n",
       "2  15771934   163788  8.956179\n",
       "3  15771998   180399  7.000000\n",
       "4  15772036    86507  8.054289\n",
       "5  15771976   180399  7.000000\n",
       "6  15771977   157297  6.588583"
      ]
     },
     "execution_count": 21,
     "metadata": {},
     "output_type": "execute_result"
    }
   ],
   "source": [
    "result = []\n",
    "for i in range(10):\n",
    "    userId = int(Top10.iloc[i].reviewNo)\n",
    "    movieId = int(Top10.iloc[i].movieId)\n",
    "    predict = predict_rating(userId, 300, distance_euclidean)\n",
    "    \n",
    "    for movie in predict:\n",
    "        if movieId == movie[0]:\n",
    "            result.append([int(userId), int(movieId),movie[1]])\n",
    "resultdf = pd.DataFrame(result, columns=['userId','movieId','rating'])\n",
    "print('Euclidean 결과')\n",
    "resultdf"
   ]
  },
  {
   "cell_type": "code",
   "execution_count": 22,
   "metadata": {},
   "outputs": [
    {
     "name": "stdout",
     "output_type": "stream",
     "text": [
      "\n",
      "Error Rate(Absolute) :  1.6966357708958737\n",
      "Error Rate(Squared) :  6.0152917257030625\n"
     ]
    }
   ],
   "source": [
    "realdata_rating = []\n",
    "for userid in resultdf['userId']:\n",
    "    realdata_rating.append(float(Top10[Top10['reviewNo'] == userid]['rating']))\n",
    "\n",
    "resultdata_rating = resultdf.rating.tolist()\n",
    "\n",
    "error_rate_absol = mean_absolute_error(realdata_rating, resultdata_rating)\n",
    "error_rate_squared = mean_squared_error(realdata_rating, resultdata_rating)\n",
    "print('\\nError Rate(Absolute) : ',error_rate_absol)\n",
    "print('Error Rate(Squared) : ',error_rate_squared)"
   ]
  }
 ],
 "metadata": {
  "kernelspec": {
   "display_name": "Python 3",
   "language": "python",
   "name": "python3"
  },
  "language_info": {
   "codemirror_mode": {
    "name": "ipython",
    "version": 3
   },
   "file_extension": ".py",
   "mimetype": "text/x-python",
   "name": "python",
   "nbconvert_exporter": "python",
   "pygments_lexer": "ipython3",
   "version": "3.7.3"
  }
 },
 "nbformat": 4,
 "nbformat_minor": 2
}
