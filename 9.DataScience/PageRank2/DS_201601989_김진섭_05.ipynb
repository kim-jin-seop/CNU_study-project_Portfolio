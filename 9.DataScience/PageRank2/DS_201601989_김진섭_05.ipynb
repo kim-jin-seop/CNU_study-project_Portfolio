{
 "cells": [
  {
   "cell_type": "code",
   "execution_count": 1,
   "metadata": {},
   "outputs": [],
   "source": [
    "import sys\n",
    "import pickle\n",
    "from pprint import pprint \n",
    "import pandas as pd\n",
    "import numpy as np\n",
    "import networkx as nx\n",
    "import matplotlib.pyplot as plt\n",
    "from data.make_casting_graph import oneway_to_bidirected_graph\n",
    "from scipy.sparse import csc_matrix\n",
    "import time\n",
    "from pagerank import pagerank\n",
    "from sklearn.preprocessing import normalize\n",
    "from pyvis.network import Network"
   ]
  },
  {
   "cell_type": "code",
   "execution_count": 2,
   "metadata": {},
   "outputs": [],
   "source": [
    "# create idx to num comments\n",
    "with open('./data/ratings.csv', encoding='utf-8') as f:\n",
    "    docs = [line.strip().split(',') for line in f.readlines()[1:]]\n",
    "    _idx2numcomments = {movie_idx:int(num) for num, movie_idx in docs}"
   ]
  },
  {
   "cell_type": "code",
   "execution_count": 3,
   "metadata": {},
   "outputs": [],
   "source": [
    "# pre defined casting weight graph\n",
    "with open('./data/casting_graph.pkl', 'rb') as f:\n",
    "    graph = pickle.load(f)"
   ]
  },
  {
   "cell_type": "code",
   "execution_count": 4,
   "metadata": {},
   "outputs": [],
   "source": [
    "# create idx to actor name function\n",
    "with open('./data/actors.csv', encoding='utf-8') as f:\n",
    "    next(f)\n",
    "    docs = [line.split(',') for line in f.readlines()[1:]]\n",
    "    # English name if exist else Korean name\n",
    "    _idx2actor = {doc[0]:doc[1] for doc in docs}"
   ]
  },
  {
   "cell_type": "code",
   "execution_count": 5,
   "metadata": {},
   "outputs": [],
   "source": [
    "with open('./data/movies.csv', encoding='utf-8') as f:\n",
    "    next(f)\n",
    "    docs = [line.split(',') for line in f.readlines()[1:]]\n",
    "    _idx2movie = {doc[0]:doc[1] for doc in docs if len(docs)}"
   ]
  },
  {
   "cell_type": "code",
   "execution_count": 6,
   "metadata": {},
   "outputs": [],
   "source": [
    "idx2movie = lambda idx: _idx2movie.get(idx, 'Unknown')\n",
    "idx2actor = lambda idx: _idx2actor.get(idx, 'Unknown')\n",
    "idx2numcomments = lambda idx: _idx2numcomments.get(idx,0)"
   ]
  },
  {
   "cell_type": "code",
   "execution_count": 7,
   "metadata": {},
   "outputs": [],
   "source": [
    "g = oneway_to_bidirected_graph(graph)"
   ]
  },
  {
   "cell_type": "markdown",
   "metadata": {},
   "source": [
    "# [실습1]리뷰가 많은 영화 순위"
   ]
  },
  {
   "cell_type": "code",
   "execution_count": 8,
   "metadata": {},
   "outputs": [
    {
     "name": "stdout",
     "output_type": "stream",
     "text": [
      "기생충 40\n",
      "극한직업 15\n",
      "마약왕 15\n",
      "인터스텔라 14\n",
      "어벤져스: 엔드게임 12\n",
      "걸캅스 12\n",
      "마녀 12\n",
      "택시운전사 11\n",
      "배심원들 11\n",
      "신과함께-죄와 벌 11\n"
     ]
    }
   ],
   "source": [
    "for movie in sorted(_idx2numcomments.items(), key = lambda x: x[1], reverse=True)[:10]:\n",
    "    print(idx2movie(movie[0]),movie[1])"
   ]
  },
  {
   "cell_type": "markdown",
   "metadata": {},
   "source": [
    "# [실습2] Dict를 이용한 PageRank"
   ]
  },
  {
   "cell_type": "code",
   "execution_count": 9,
   "metadata": {},
   "outputs": [
    {
     "name": "stdout",
     "output_type": "stream",
     "text": [
      "Iteration = 1, diff = 0.6745935594038653, sum = 1.000000000000003\n",
      "Iteration = 2, diff = 0.5133755765513065, sum = 1.0000000000000062\n",
      "Iteration = 3, diff = 0.4070843471025293, sum = 1.0000000000000078\n",
      "Iteration = 4, diff = 0.32881145690448776, sum = 1.0000000000000004\n",
      "Iteration = 5, diff = 0.2690000626169725, sum = 1.0000000000000069\n",
      "Iteration = 6, diff = 0.22172923044566567, sum = 0.999999999999992\n",
      "Iteration = 7, diff = 0.18372765496993113, sum = 0.9999999999999958\n",
      "Iteration = 8, diff = 0.15290648077655553, sum = 1.0000000000000047\n",
      "Iteration = 9, diff = 0.12756391624362115, sum = 0.9999999999999909\n",
      "Iteration = 10, diff = 0.1067656357170639, sum = 0.9999999999999944\n",
      "Iteration = 11, diff = 0.08947335545631445, sum = 1.0000000000000075\n",
      "Iteration = 12, diff = 0.07517014319662872, sum = 1.00000000000001\n",
      "Iteration = 13, diff = 0.06318528811144808, sum = 0.9999999999999933\n",
      "Iteration = 14, diff = 0.05320609097840679, sum = 0.9999999999999913\n",
      "Iteration = 15, diff = 0.04483047792706717, sum = 1.0000000000000069\n",
      "Iteration = 16, diff = 0.03781085146468681, sum = 1.0000000000000069\n",
      "Iteration = 17, diff = 0.031912347290175926, sum = 1.0000000000000033\n",
      "Iteration = 18, diff = 0.026947257238086574, sum = 1.0000000000000056\n",
      "Iteration = 19, diff = 0.02277018406289603, sum = 1.0000000000000084\n",
      "Iteration = 20, diff = 0.019247967446580857, sum = 1.0000000000000036\n",
      "Iteration = 21, diff = 0.016277037274941467, sum = 1.0000000000000004\n",
      "Iteration = 22, diff = 0.013770288868780657, sum = 0.9999999999999948\n",
      "Iteration = 23, diff = 0.011652758751255323, sum = 0.9999999999999926\n",
      "Iteration = 24, diff = 0.009864207584992445, sum = 1.0000000000000062\n",
      "Iteration = 25, diff = 0.008351860248972012, sum = 1.000000000000006\n",
      "Iteration = 26, diff = 0.007073923041220973, sum = 0.9999999999999979\n",
      "Iteration = 27, diff = 0.005992222715457384, sum = 0.9999999999999997\n",
      "Iteration = 28, diff = 0.005077294242177106, sum = 1.0000000000000002\n",
      "Iteration = 29, diff = 0.004302804710051072, sum = 1.0000000000000004\n",
      "Iteration = 30, diff = 0.0036469409233534757, sum = 0.999999999999993\n"
     ]
    }
   ],
   "source": [
    "bias = {node:(idx2numcomments(node.split()[1]) if node[0] == 'm' else 0) for node in g}\n",
    "_sum = sum(bias.values())\n",
    "bias = {node:b / _sum for node, b in bias.items()}\n",
    "rank = pagerank(g, bias = bias, df = 0.15, max_iter = 30, converge_error = 0.001, verbose = 1)"
   ]
  },
  {
   "cell_type": "markdown",
   "metadata": {},
   "source": [
    "# [실습3] Numpy를 이용한 PageRank"
   ]
  },
  {
   "cell_type": "code",
   "execution_count": 10,
   "metadata": {},
   "outputs": [
    {
     "name": "stdout",
     "output_type": "stream",
     "text": [
      "(6154,)\n",
      "(6154, 6154)\n"
     ]
    }
   ],
   "source": [
    "nodes = set(g.keys())\n",
    "idx2node = list(sorted(nodes))\n",
    "node2idx = {node:idx for idx, node in enumerate(idx2node)}\n",
    "\n",
    "bias = np.asarray([b for node, b in sorted(bias.items(), key = lambda tp:node2idx[tp[0]])])\n",
    "print(bias.shape)\n",
    "\n",
    "rows =[]\n",
    "cols =[]\n",
    "data =[]\n",
    "\n",
    "for from_node, to_dict in g.items():\n",
    "    from_idx = node2idx[from_node]\n",
    "    for to_node, weight in to_dict.items():\n",
    "        to_idx = node2idx[to_node]\n",
    "        rows.append(from_idx)\n",
    "        cols.append(to_idx)\n",
    "        data.append(weight)\n",
    "A = csc_matrix((data, (rows, cols)))\n",
    "print(A.shape)"
   ]
  },
  {
   "cell_type": "code",
   "execution_count": 11,
   "metadata": {},
   "outputs": [
    {
     "name": "stdout",
     "output_type": "stream",
     "text": [
      "iter 1 : diff = 0.1685245368865779\n",
      "iter 2 : diff = 0.123534416788289\n",
      "iter 3 : diff = 0.11717242074154521\n",
      "iter 4 : diff = 0.08676250638774644\n",
      "iter 5 : diff = 0.08106650827175174\n",
      "iter 6 : diff = 0.06044614044638538\n",
      "iter 7 : diff = 0.05589952786903922\n",
      "iter 8 : diff = 0.04188475454126574\n",
      "iter 9 : diff = 0.038452782327255894\n",
      "iter 10 : diff = 0.0289095171904886\n",
      "iter 11 : diff = 0.026405522194198443\n",
      "iter 12 : diff = 0.01994486388644759\n",
      "iter 13 : diff = 0.01811137289916391\n",
      "iter 14 : diff = 0.013753287448751986\n",
      "iter 15 : diff = 0.012408911428306675\n",
      "iter 16 : diff = 0.009469243738374537\n",
      "iter 17 : diff = 0.008494000468005527\n",
      "iter 18 : diff = 0.006511648928942716\n",
      "iter 19 : diff = 0.005809774127703195\n",
      "iter 20 : diff = 0.004473307017566352\n",
      "iter 21 : diff = 0.0039712967053357525\n",
      "iter 22 : diff = 0.0030704578506105173\n",
      "iter 23 : diff = 0.0027152845982687866\n",
      "iter 24 : diff = 0.002106149459828414\n",
      "iter 25 : diff = 0.0018577039374234091\n",
      "iter 26 : diff = 0.0014438021951808503\n",
      "iter 27 : diff = 0.0012704561426783514\n",
      "iter 28 : diff = 0.0009892576559651914\n",
      "iter 29 : diff = 0.0008685536766681317\n",
      "iter 30 : diff = 0.000677506241060136\n"
     ]
    }
   ],
   "source": [
    "max_iter = 30\n",
    "df = 0.85\n",
    "\n",
    "ir = 1/A.shape[0]\n",
    "rank = np.asarray([ir] * A.shape[0])\n",
    "\n",
    "for n_iter in range(1, max_iter + 1):\n",
    "    rank_new = A.dot(rank)\n",
    "    rank_new = normalize(rank_new.reshape(1,-1), norm = 'l1').reshape(-1)\n",
    "    rank_new = df * rank_new + (1-df) * bias\n",
    "    diff = abs(rank-rank_new).sum()\n",
    "    rank = rank_new\n",
    "    print('iter {} : diff = {}'.format(n_iter, diff))"
   ]
  },
  {
   "cell_type": "markdown",
   "metadata": {},
   "source": [
    "# [과제 1] 성능 비교\n",
    "## Dict를 이용한 경우 "
   ]
  },
  {
   "cell_type": "code",
   "execution_count": 12,
   "metadata": {},
   "outputs": [
    {
     "name": "stdout",
     "output_type": "stream",
     "text": [
      "Iteration = 1, diff = 0.6745935594038653, sum = 1.000000000000003\n",
      "Iteration = 2, diff = 0.5133755765513065, sum = 1.0000000000000062\n",
      "Iteration = 3, diff = 0.4070843471025293, sum = 1.0000000000000078\n",
      "Iteration = 4, diff = 0.32881145690448776, sum = 1.0000000000000004\n",
      "Iteration = 5, diff = 0.2690000626169725, sum = 1.0000000000000069\n",
      "Iteration = 6, diff = 0.22172923044566567, sum = 0.999999999999992\n",
      "Iteration = 7, diff = 0.18372765496993113, sum = 0.9999999999999958\n",
      "Iteration = 8, diff = 0.15290648077655553, sum = 1.0000000000000047\n",
      "Iteration = 9, diff = 0.12756391624362115, sum = 0.9999999999999909\n",
      "Iteration = 10, diff = 0.1067656357170639, sum = 0.9999999999999944\n",
      "Iteration = 11, diff = 0.08947335545631445, sum = 1.0000000000000075\n",
      "Iteration = 12, diff = 0.07517014319662872, sum = 1.00000000000001\n",
      "Iteration = 13, diff = 0.06318528811144808, sum = 0.9999999999999933\n",
      "Iteration = 14, diff = 0.05320609097840679, sum = 0.9999999999999913\n",
      "Iteration = 15, diff = 0.04483047792706717, sum = 1.0000000000000069\n",
      "Iteration = 16, diff = 0.03781085146468681, sum = 1.0000000000000069\n",
      "Iteration = 17, diff = 0.031912347290175926, sum = 1.0000000000000033\n",
      "Iteration = 18, diff = 0.026947257238086574, sum = 1.0000000000000056\n",
      "Iteration = 19, diff = 0.02277018406289603, sum = 1.0000000000000084\n",
      "Iteration = 20, diff = 0.019247967446580857, sum = 1.0000000000000036\n",
      "Iteration = 21, diff = 0.016277037274941467, sum = 1.0000000000000004\n",
      "Iteration = 22, diff = 0.013770288868780657, sum = 0.9999999999999948\n",
      "Iteration = 23, diff = 0.011652758751255323, sum = 0.9999999999999926\n",
      "Iteration = 24, diff = 0.009864207584992445, sum = 1.0000000000000062\n",
      "Iteration = 25, diff = 0.008351860248972012, sum = 1.000000000000006\n",
      "Iteration = 26, diff = 0.007073923041220973, sum = 0.9999999999999979\n",
      "Iteration = 27, diff = 0.005992222715457384, sum = 0.9999999999999997\n",
      "Iteration = 28, diff = 0.005077294242177106, sum = 1.0000000000000002\n",
      "Iteration = 29, diff = 0.004302804710051072, sum = 1.0000000000000004\n",
      "Iteration = 30, diff = 0.0036469409233534757, sum = 0.999999999999993\n",
      "Dict를 이용한 PageRank 걸린 시간 :  0.512\n"
     ]
    }
   ],
   "source": [
    "bias = {node:(idx2numcomments(node.split()[1]) if node[0] == 'm' else 0) for node in g}\n",
    "_sum = sum(bias.values())\n",
    "bias = {node:b / _sum for node, b in bias.items()}\n",
    "\n",
    "Start = time.time()\n",
    "rank_Dict = pagerank(g, bias = bias, df = 0.15, max_iter = 30, converge_error = 0.001, verbose = 1)\n",
    "Finish = time.time()\n",
    "print(\"Dict를 이용한 PageRank 걸린 시간 : \",round(Finish-Start,3))"
   ]
  },
  {
   "cell_type": "markdown",
   "metadata": {},
   "source": [
    "## Numpy를 이용한 경우 "
   ]
  },
  {
   "cell_type": "code",
   "execution_count": 13,
   "metadata": {},
   "outputs": [
    {
     "name": "stdout",
     "output_type": "stream",
     "text": [
      "(6154,)\n",
      "(6154, 6154)\n"
     ]
    }
   ],
   "source": [
    "nodes = set(g.keys())\n",
    "idx2node = list(sorted(nodes))\n",
    "node2idx = {node:idx for idx, node in enumerate(idx2node)}\n",
    "\n",
    "bias = np.asarray([b for node, b in sorted(bias.items(), key = lambda tp:node2idx[tp[0]])])\n",
    "print(bias.shape)\n",
    "\n",
    "rows =[]\n",
    "cols =[]\n",
    "data =[]\n",
    "\n",
    "for from_node, to_dict in g.items():\n",
    "    from_idx = node2idx[from_node]\n",
    "    for to_node, weight in to_dict.items():\n",
    "        to_idx = node2idx[to_node]\n",
    "        rows.append(from_idx)\n",
    "        cols.append(to_idx)\n",
    "        data.append(weight)\n",
    "A = csc_matrix((data, (rows, cols)))\n",
    "print(A.shape)"
   ]
  },
  {
   "cell_type": "code",
   "execution_count": 14,
   "metadata": {},
   "outputs": [
    {
     "name": "stdout",
     "output_type": "stream",
     "text": [
      "iter 1 : diff = 0.1685245368865779\n",
      "iter 2 : diff = 0.123534416788289\n",
      "iter 3 : diff = 0.11717242074154521\n",
      "iter 4 : diff = 0.08676250638774644\n",
      "iter 5 : diff = 0.08106650827175174\n",
      "iter 6 : diff = 0.06044614044638538\n",
      "iter 7 : diff = 0.05589952786903922\n",
      "iter 8 : diff = 0.04188475454126574\n",
      "iter 9 : diff = 0.038452782327255894\n",
      "iter 10 : diff = 0.0289095171904886\n",
      "iter 11 : diff = 0.026405522194198443\n",
      "iter 12 : diff = 0.01994486388644759\n",
      "iter 13 : diff = 0.01811137289916391\n",
      "iter 14 : diff = 0.013753287448751986\n",
      "iter 15 : diff = 0.012408911428306675\n",
      "iter 16 : diff = 0.009469243738374537\n",
      "iter 17 : diff = 0.008494000468005527\n",
      "iter 18 : diff = 0.006511648928942716\n",
      "iter 19 : diff = 0.005809774127703195\n",
      "iter 20 : diff = 0.004473307017566352\n",
      "iter 21 : diff = 0.0039712967053357525\n",
      "iter 22 : diff = 0.0030704578506105173\n",
      "iter 23 : diff = 0.0027152845982687866\n",
      "iter 24 : diff = 0.002106149459828414\n",
      "iter 25 : diff = 0.0018577039374234091\n",
      "iter 26 : diff = 0.0014438021951808503\n",
      "iter 27 : diff = 0.0012704561426783514\n",
      "iter 28 : diff = 0.0009892576559651914\n",
      "iter 29 : diff = 0.0008685536766681317\n",
      "iter 30 : diff = 0.000677506241060136\n",
      "Numpy를 이용한 PageRank 걸린 시간 :  0.026\n"
     ]
    }
   ],
   "source": [
    "max_iter = 30\n",
    "df = 0.85\n",
    "\n",
    "Start = time.time()\n",
    "ir = 1/A.shape[0]\n",
    "rank_Numpy = np.asarray([ir] * A.shape[0])\n",
    "\n",
    "for n_iter in range(1, max_iter + 1):\n",
    "    rank_new = A.dot(rank_Numpy)\n",
    "    rank_new = normalize(rank_new.reshape(1,-1), norm = 'l1').reshape(-1)\n",
    "    rank_new = df * rank_new + (1-df) * bias\n",
    "    diff = abs(rank_Numpy-rank_new).sum()\n",
    "    rank_Numpy = rank_new\n",
    "    print('iter {} : diff = {}'.format(n_iter, diff))\n",
    "Finish = time.time()\n",
    "print(\"Numpy를 이용한 PageRank 걸린 시간 : \",round(Finish-Start,3))"
   ]
  },
  {
   "cell_type": "markdown",
   "metadata": {},
   "source": [
    "# [과제 2] 영화 Top 10\n",
    "## Dict를 이용한 방식 "
   ]
  },
  {
   "cell_type": "code",
   "execution_count": 15,
   "metadata": {
    "scrolled": false
   },
   "outputs": [
    {
     "name": "stdout",
     "output_type": "stream",
     "text": [
      "161967 기생충 0.0032033878121671224\n",
      "167651 극한직업 0.0014303471787626468\n",
      "175322 마녀 0.0011565783119412997\n",
      "156464 보헤미안 랩소디 0.0011527961465662747\n",
      "130966 부산행 0.001098819013448319\n",
      "177483 배심원들 0.0009469824923736168\n",
      "174065 걸캅스 0.0009354687095915042\n",
      "37886 클레멘타인 0.000918249213245038\n",
      "154449 리틀 포레스트 0.00091821747845663\n",
      "163788 알라딘 0.0007997936563664337\n"
     ]
    }
   ],
   "source": [
    "num = 0\n",
    "for movie in sorted(rank_Dict.items(), key = lambda x: x[1], reverse=True):\n",
    "    if num == 10 :\n",
    "        break\n",
    "    if movie[0].split()[0] == 'movie':\n",
    "        print(movie[0].split()[1],idx2movie(movie[0].split()[1]),movie[1])\n",
    "        num += 1\n",
    "    else:\n",
    "        continue"
   ]
  },
  {
   "cell_type": "markdown",
   "metadata": {},
   "source": [
    "## Numpy를 이용한 방식 "
   ]
  },
  {
   "cell_type": "code",
   "execution_count": 16,
   "metadata": {},
   "outputs": [
    {
     "name": "stdout",
     "output_type": "stream",
     "text": [
      "161967 기생충 0.0015437432925532173\n",
      "156464 보헤미안 랩소디 0.0010864984266341052\n",
      "175322 마녀 0.0008946794759721638\n",
      "174065 걸캅스 0.0008564445054703045\n",
      "167651 극한직업 0.0007648489380972874\n",
      "37886 클레멘타인 0.000728929546919159\n",
      "157297 마약왕 0.0007133104346250872\n",
      "71509 아저씨 0.0006938076365826392\n",
      "136900 어벤져스: 엔드게임 0.0006567566198412949\n",
      "163788 알라딘 0.000638759850450271\n"
     ]
    }
   ],
   "source": [
    "num = 0\n",
    "num_RankData = {idx2node[index]:val for index, val in enumerate(rank_Numpy)}\n",
    "for movie in sorted(num_RankData.items(), key=lambda x:-x[1]):\n",
    "    if num == 10 :\n",
    "        break\n",
    "    if movie[0].split()[0] == 'movie':\n",
    "        print(movie[0].split()[1],idx2movie(movie[0].split()[1]),movie[1])\n",
    "        num += 1\n",
    "    else:\n",
    "        continue"
   ]
  },
  {
   "cell_type": "markdown",
   "metadata": {},
   "source": [
    "# [과제 3]영화 Top 10 노드 시각화\n",
    "## Dict를 이용한 방식 "
   ]
  },
  {
   "cell_type": "code",
   "execution_count": 17,
   "metadata": {},
   "outputs": [
    {
     "data": {
      "text/html": [
       "\n",
       "        <iframe\n",
       "            width=\"1000\"\n",
       "            height=\"1000\"\n",
       "            src=\"Dict.html\"\n",
       "            frameborder=\"0\"\n",
       "            allowfullscreen\n",
       "        ></iframe>\n",
       "        "
      ],
      "text/plain": [
       "<IPython.lib.display.IFrame at 0x1b46d83cd30>"
      ]
     },
     "execution_count": 17,
     "metadata": {},
     "output_type": "execute_result"
    }
   ],
   "source": [
    "G_Dict=Network(1000,1000, notebook = True)\n",
    "num = 0\n",
    "\n",
    "for movie in sorted(rank_Dict.items(), key = lambda x: x[1], reverse=True):\n",
    "    if num == 10 :\n",
    "        break\n",
    "    if movie[0].split()[0] == 'movie':\n",
    "        MovieNode = idx2movie(movie[0].split()[1])\n",
    "        G_Dict.add_node(MovieNode)\n",
    "        for actor in g[movie[0]].items():\n",
    "            ActorNode = idx2actor(actor[0].split()[1])\n",
    "            G_Dict.add_node(ActorNode)\n",
    "            G_Dict.add_edge(MovieNode,ActorNode)\n",
    "            for actor_movie in g[actor[0]].items():\n",
    "                ActorToMovieNode = idx2movie(actor_movie[0].split()[1])\n",
    "                G_Dict.add_node(ActorToMovieNode)\n",
    "                G_Dict.add_edge(ActorNode,ActorToMovieNode)\n",
    "        num += 1\n",
    "    else:\n",
    "        continue\n",
    "\n",
    "G_Dict.show('Dict.html')"
   ]
  },
  {
   "cell_type": "markdown",
   "metadata": {},
   "source": [
    "## Numpy를 이용한 방식 "
   ]
  },
  {
   "cell_type": "code",
   "execution_count": 18,
   "metadata": {},
   "outputs": [
    {
     "data": {
      "text/html": [
       "\n",
       "        <iframe\n",
       "            width=\"1000\"\n",
       "            height=\"1000\"\n",
       "            src=\"numpy.html\"\n",
       "            frameborder=\"0\"\n",
       "            allowfullscreen\n",
       "        ></iframe>\n",
       "        "
      ],
      "text/plain": [
       "<IPython.lib.display.IFrame at 0x1b46d83c358>"
      ]
     },
     "execution_count": 18,
     "metadata": {},
     "output_type": "execute_result"
    }
   ],
   "source": [
    "G_num=Network(1000,1000, notebook = True)\n",
    "num = 0\n",
    "\n",
    "for movie in sorted(num_RankData.items(), key=lambda x:-x[1]):\n",
    "    if num == 10 :\n",
    "        break\n",
    "    if movie[0].split()[0] == 'movie':\n",
    "        MovieNode = idx2movie(movie[0].split()[1])\n",
    "        G_num.add_node(MovieNode)\n",
    "        for actor in g[movie[0]].items():\n",
    "            ActorNode = idx2actor(actor[0].split()[1])\n",
    "            G_num.add_node(ActorNode)\n",
    "            G_num.add_edge(MovieNode,ActorNode)\n",
    "            for actor_movie in g[actor[0]].items():\n",
    "                ActorToMovieNode = idx2movie(actor_movie[0].split()[1])\n",
    "                G_num.add_node(ActorToMovieNode)\n",
    "                G_num.add_edge(ActorNode,ActorToMovieNode)\n",
    "        num += 1\n",
    "    else:\n",
    "        continue\n",
    "\n",
    "G_num.show('numpy.html')"
   ]
  }
 ],
 "metadata": {
  "kernelspec": {
   "display_name": "Python 3",
   "language": "python",
   "name": "python3"
  },
  "language_info": {
   "codemirror_mode": {
    "name": "ipython",
    "version": 3
   },
   "file_extension": ".py",
   "mimetype": "text/x-python",
   "name": "python",
   "nbconvert_exporter": "python",
   "pygments_lexer": "ipython3",
   "version": "3.7.3"
  }
 },
 "nbformat": 4,
 "nbformat_minor": 2
}
